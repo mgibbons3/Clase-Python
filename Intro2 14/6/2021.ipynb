{
  "nbformat": 4,
  "nbformat_minor": 0,
  "metadata": {
    "colab": {
      "name": "Intro2",
      "provenance": [],
      "collapsed_sections": [],
      "toc_visible": true,
      "authorship_tag": "ABX9TyOqAI0uDb6QcY0LLAijTkVF",
      "include_colab_link": true
    },
    "kernelspec": {
      "name": "python3",
      "display_name": "Python 3"
    }
  },
  "cells": [
    {
      "cell_type": "markdown",
      "metadata": {
        "id": "view-in-github",
        "colab_type": "text"
      },
      "source": [
        "<a href=\"https://colab.research.google.com/github/mgibbons3/Clase-Python/blob/main/Intro2%2014/6/2021.ipynb\" target=\"_parent\"><img src=\"https://colab.research.google.com/assets/colab-badge.svg\" alt=\"Open In Colab\"/></a>"
      ]
    },
    {
      "cell_type": "markdown",
      "metadata": {
        "id": "hv4NxXSS8pE6"
      },
      "source": [
        "# **Python Intermediate** \n",
        "\n",
        "[github.com/whythawk](github.com/whythawk/intro-to-python)\n",
        "\n",
        "[github.com/webartifex](https://github.com/webartifex/intro-to-python/blob/master/10_classes_00_content.ipynb) (Para la parte de Classes)\n",
        "\n"
      ]
    },
    {
      "cell_type": "markdown",
      "metadata": {
        "id": "sbY2i98vSJ6v"
      },
      "source": [
        "# Funciones\n",
        "Las funciones son módulos de código invocables, algunos con parámetros o argumentos (variables que puede pasar a la función), que realiza una tarea y puede devolver un valor. Son una forma conveniente de empaquetar código en bloques discretos, lo que hace que el programa sea más legible, reutilizable y ahorre tiempo.\n",
        "\n",
        "* `return` es opcional, pero le permite devolver los resultados de cualquier tarea realizada por la función al punto donde se llamó a la función\n"
      ]
    },
    {
      "cell_type": "code",
      "metadata": {
        "id": "fmXzSzeGRTo4"
      },
      "source": [
        "# Función simple sin argumentos (def function_name(parámetros):)\n",
        "def say_hello():\n",
        "    print(\"Hello, World!\")\n",
        "\n",
        "# Llamar función\n",
        "say_hello()\n",
        "\n",
        "# Testearla\n",
        "print(callable(say_hello))"
      ],
      "execution_count": null,
      "outputs": []
    },
    {
      "cell_type": "markdown",
      "metadata": {
        "id": "b84HsCjIXidf"
      },
      "source": [
        "Un argumento puede ser cualquier variable, como números enteros, *strings*, listas, diccionarios o incluso otras funciones. \n",
        "\n",
        "Es importante dejar comentarios y explicaciones en tu código porque necesitas asegurarte de que cualquiera que use una función sepa qué variables espera la función, y en qué orden.\n",
        "\n",
        "Las funciones también pueden realizar cálculos."
      ]
    },
    {
      "cell_type": "code",
      "metadata": {
        "id": "X5-oqoRVXlrZ"
      },
      "source": [
        "# Una función con dos argumentos string\n",
        "def say_hello_to_user(username, greeting):\n",
        "    # Devuelve saludo a un nombre\n",
        "    print(\"Hello, {}! I hope you have a great {}.\".format(username, greeting))"
      ],
      "execution_count": null,
      "outputs": []
    },
    {
      "cell_type": "code",
      "metadata": {
        "id": "4e48Vp-hErxz",
        "colab": {
          "base_uri": "https://localhost:8080/",
          "height": 34
        },
        "outputId": "cd390292-0119-4a40-9a01-931498c165ac"
      },
      "source": [
        "# Hay que \"llamarla\" (to call it)\n",
        "say_hello_to_user(\"Jill\", \"day\")"
      ],
      "execution_count": null,
      "outputs": [
        {
          "output_type": "stream",
          "text": [
            "Hello, Jill! I hope you have a great day.\n"
          ],
          "name": "stdout"
        }
      ]
    },
    {
      "cell_type": "code",
      "metadata": {
        "id": "9MqXwK9rE0Ih"
      },
      "source": [
        "# Realizar un cálculo\n",
        "def sum_two_numbers(x, y):\n",
        "    # Devolver resultado\n",
        "    return x + y\n",
        "\n",
        "sum_two_numbers(5, 10)"
      ],
      "execution_count": null,
      "outputs": []
    },
    {
      "cell_type": "code",
      "metadata": {
        "id": "xUAzPxDhF436"
      },
      "source": [
        "# Realizar un cálculo\n",
        "def sum_two_numbers2(x, y):\n",
        "    # Devolver resultado\n",
        "    print(x + y)\n",
        "\n",
        "sum_two_numbers2(5, 10)"
      ],
      "execution_count": null,
      "outputs": []
    },
    {
      "cell_type": "markdown",
      "metadata": {
        "id": "yhJ4FOqzHyNt"
      },
      "source": [
        "* *print* sólo muestra al usuario un string que representa lo que está pasando dentro de la computadora. La computadora no puede hacer uso de esa impresión. \n",
        "\n",
        "* *return* es como una función que devuelve un valor. Este valor a menudo no es visto por el usuario humano, pero puede ser usado por la computadora en otras funciones.\n"
      ]
    },
    {
      "cell_type": "code",
      "metadata": {
        "id": "BM_eMzFhGadJ"
      },
      "source": [
        "def add_three(num):\n",
        "    return num + 3"
      ],
      "execution_count": null,
      "outputs": []
    },
    {
      "cell_type": "code",
      "metadata": {
        "id": "Q-CCAlGqHdaO"
      },
      "source": [
        "x1 = sum_two_numbers(5, 10)"
      ],
      "execution_count": null,
      "outputs": []
    },
    {
      "cell_type": "code",
      "metadata": {
        "id": "OK_99fJAInVe"
      },
      "source": [
        "x2 = sum_two_numbers2(5, 10)"
      ],
      "execution_count": null,
      "outputs": []
    },
    {
      "cell_type": "code",
      "metadata": {
        "id": "ACRr4D3THoZf"
      },
      "source": [
        "print (x1)\n",
        "print (x2)"
      ],
      "execution_count": null,
      "outputs": []
    },
    {
      "cell_type": "code",
      "metadata": {
        "id": "DNDhYdl_JgXO"
      },
      "source": [
        "x3 = add_three(x1)\n",
        "print (x3)\n",
        "x4 = add_three(x2)\n",
        "print (x4)"
      ],
      "execution_count": null,
      "outputs": []
    },
    {
      "cell_type": "markdown",
      "metadata": {
        "id": "qJQZZ0gPXrOI"
      },
      "source": [
        "No sólo se pueden llamar funciones desde las funciones, sino que también se pueden crear variables que son funciones, o el resultado de las funciones."
      ]
    },
    {
      "cell_type": "code",
      "metadata": {
        "id": "Q2wXac-FXuEZ"
      },
      "source": [
        "def number_powered(number, exponent):\n",
        "    # Devuelve el numero alevado al exponente\n",
        "    return number ** exponent\n",
        "\n",
        "# `sum_two_numbers` sigue disponible\n",
        "def sum_and_power(number1, number2, exponent):\n",
        "    # Devuelve los dos números sumados, y luego exponenciados\n",
        "    summed = sum_two_numbers(number1, number2)\n",
        "    return number_powered(summed, exponent)\n",
        "\n",
        "# `sum_and_power`\n",
        "print(sum_and_power(2, 3, 4))"
      ],
      "execution_count": null,
      "outputs": []
    },
    {
      "cell_type": "markdown",
      "metadata": {
        "id": "uFGDV-i2Xxdk"
      },
      "source": [
        "Otra forma de comentar tus archivos es usando *docstrings*:  texto entre 3 comillas dobles para comentar\n",
        "\n",
        "También se puede usar llamando a esta función: \n",
        "`function.__ doc__`"
      ]
    },
    {
      "cell_type": "code",
      "metadata": {
        "id": "lSyDmSAdX2CP"
      },
      "source": [
        "def docstring_example():\n",
        "    \"\"\"\n",
        "    An example function which returns `True`.\n",
        "    \"\"\"\n",
        "    return True\n",
        "\n",
        "# Imprimir el comentario\n",
        "print(docstring_example.__doc__)"
      ],
      "execution_count": null,
      "outputs": []
    },
    {
      "cell_type": "code",
      "metadata": {
        "id": "36-FEMVsLFjN"
      },
      "source": [
        "# Call it\n",
        "print(docstring_example())"
      ],
      "execution_count": null,
      "outputs": []
    },
    {
      "cell_type": "markdown",
      "metadata": {
        "id": "9Ab5S23BX8DF"
      },
      "source": [
        "# Clases y Objetos\n",
        "\n",
        "Un objeto de Python completo es una encapsulación de ambas variables y funciones en una sola entidad. Los objetos obtienen sus variables y funciones de las *clases*.\n",
        "\n",
        "Las clases son donde la mayor parte de la acción ocurre en Python y la codificación consiste, en gran medida, en producir y utilizar clases para realizar tareas.\n",
        "\n",
        "Las clases siguen el paradigma objecte-oriented programming (OOP) donde un programa largo se divide en pequeños componentes (objetos) que reusan el codigo.\n",
        "\n",
        "La clase solo se puede acceder con operadores de punto (class atributes).\n",
        "\n",
        "Dentro de las clases, las funciones se vinculan como métodos que se utilizan con objetos futuros.\n",
        "\n",
        "Una clase muy básica se vería así:"
      ]
    },
    {
      "cell_type": "code",
      "metadata": {
        "id": "tRVEEtoLL6b9"
      },
      "source": [
        "class myClass:\n",
        "    \"\"\"\n",
        "    A demonstration class.\n",
        "    \"\"\"\n",
        "    my_variable = \"Look, a variable!\"\n",
        "    \n",
        "    def my_function(self):\n",
        "        \"\"\"\n",
        "        A demonstration class function.\n",
        "        \"\"\"\n",
        "        return \"I'm a class function!\""
      ],
      "execution_count": null,
      "outputs": []
    },
    {
      "cell_type": "code",
      "metadata": {
        "id": "KZTBc4WEMGIO"
      },
      "source": [
        "# You call a class by creating a new class object\n",
        "new_class = myClass()"
      ],
      "execution_count": null,
      "outputs": []
    },
    {
      "cell_type": "code",
      "metadata": {
        "id": "ZcE9T9kMMJSK"
      },
      "source": [
        "# You can access class variables or functions with a dotted call, as follows\n",
        "print(new_class.my_variable)\n",
        "print(new_class.my_function())"
      ],
      "execution_count": null,
      "outputs": []
    },
    {
      "cell_type": "code",
      "metadata": {
        "id": "HVFVSwo4MOE7"
      },
      "source": [
        "# Access the class docstrings\n",
        "print(myClass.__doc__)\n",
        "print(myClass.my_function.__doc__)"
      ],
      "execution_count": null,
      "outputs": []
    },
    {
      "cell_type": "markdown",
      "metadata": {
        "id": "JbOm2da3Lqm4"
      },
      "source": [
        "* Se llama a una clase mediante `class()`. \n",
        "\n",
        "* Todas las variables y funciones de una clase se llaman mediante el punto (.): `.function()` o `.variable`. \n",
        "\n",
        "* Incluso puede agregar nuevas funciones y variables a una clase que ya se creó. \n",
        "\n",
        "* Sin embargo, no existirán en las nuevas clases que crees, ya que no has cambiado el código subyacente.\n",
        "\n",
        "* Las funciones dentro de una clase requieren un argumento base que, por convención, se llama `self`. \n",
        "\n",
        "* Entonces, dentro de la clase, `self.function` es la forma en que la clase llama a sus funciones."
      ]
    },
    {
      "cell_type": "code",
      "metadata": {
        "id": "uMEwaRybPeho"
      },
      "source": [
        "class myClass:\n",
        "    \"\"\"\n",
        "    A demonstration class.\n",
        "    \"\"\"\n",
        "    my_variable = \"Look, a variable!\"\n",
        "    \n",
        "    def my_function(self):\n",
        "        \"\"\"\n",
        "        A demonstration class function.\n",
        "        \"\"\"\n",
        "        return \"I'm a class function!\""
      ],
      "execution_count": null,
      "outputs": []
    },
    {
      "cell_type": "code",
      "metadata": {
        "id": "0mYU2VFfaJ5Q"
      },
      "source": [
        "# Agregar nueva variable\n",
        "new_class1 = myClass()\n",
        "new_class1.my_variable2 = \"Hi, Bob!\"\n",
        "print(new_class1.my_variable2, new_class1.my_variable)"
      ],
      "execution_count": null,
      "outputs": []
    },
    {
      "cell_type": "code",
      "metadata": {
        "id": "enh7EM51PMAk"
      },
      "source": [
        "# But, trying to access my_variable2 in new_class causes an error\n",
        "print(new_class1.my_variable2)"
      ],
      "execution_count": null,
      "outputs": []
    },
    {
      "cell_type": "markdown",
      "metadata": {
        "id": "l_r5UAEwaTkX"
      },
      "source": [
        "Las clases pueden inicializarse con un conjunto de variables ya disponibles. Esto hace que la referencia a *self* sea más explícita y también te permite pasar argumentos a su clase para establecer valores iniciales.\n",
        "\n",
        "* Inicialice una clase con la función especial `def __init__(self)`: esto contiene la validación lógica requerida para \"correr\" la clase\n",
        "* Pase argumentos a sus funciones con `__init__(self, arguments)`: atributos\n",
        "* También podemos diferenciar entre argumentos y argumentos de palabras clave:\n",
        "* **argumentos**: estos se pasan de la manera habitual, como un solo término: `my_function(argument)`.\n",
        "* **argumentos de palabras clave**: estos se pasan de la forma en que se pensaría en un diccionario: `my_function(keyword_argument = value)`. Esta es también una forma de inicializar un argumento con un valor predeterminado. \n",
        "* Las funciones a menudo necesitan que se les pasen numerosos argumentos y argumentos de palabras clave.\n",
        "* Se puede pensar en una lista de argumentos como una lista, y una lista de argumentos de palabras clave como un diccionario. \n",
        "* Una forma más ordenada de lidiar con esto es hacer referencia a sus argumentos y argumentos de palabras clave así: `my_function(*args,**kwargs)` donde `*args` estará disponible para la función como una lista ordenada, y `**kwargs` como un diccionario.\n",
        "* No es necesario escribir `*args` o `**kwargs`. Sólo el `*` (asterisco) es necesario. También podrías haber escrito *var y **vars. Escribir *args y **kwargs es sólo una convención. ([Help](https://book.pythontips.com/en/latest/args_and_kwargs.html))\n",
        "* `*args` y `**kwargs` te permiten pasar un número variable de argumentos a una función.\n",
        "* Al tratar `**kwargs` como un diccionario podemos usar los métodos para diccionarios: [Built-in Types](https://docs.python.org/3/library/stdtypes.html#dict.items)"
      ]
    },
    {
      "cell_type": "code",
      "metadata": {
        "id": "GIJtBtFXHRj3"
      },
      "source": [
        "def test_args_kwargs(arg1, arg2, arg3):\n",
        "    print(\"arg1:\", arg1)\n",
        "    print(\"arg2:\", arg2)\n",
        "    print(\"arg3:\", arg3)\n",
        "\n",
        "#Now you can use *args or **kwargs to pass arguments to this little function. Here’s how to do it:\n",
        "\n",
        "# first with *args\n",
        "args = (\"two\", 3, 5)\n",
        "test_args_kwargs(*args)\n",
        "\n",
        "# now with **kwargs:\n",
        "kwargs = {\"arg3\": 3, \"arg2\": \"two\", \"arg1\": 5}\n",
        "test_args_kwargs(**kwargs)"
      ],
      "execution_count": null,
      "outputs": []
    },
    {
      "cell_type": "code",
      "metadata": {
        "id": "UjhydNxVapnp"
      },
      "source": [
        "class demoClass:\n",
        "    \"\"\"\n",
        "    A demonstration class with an __init__ function, and a function that takes args and kwargs.\n",
        "    \"\"\"\n",
        "    \n",
        "    def __init__(self, argument = None):\n",
        "        \"\"\"\n",
        "        A function that is called automatically when the demoClass is initialised.\n",
        "        \"\"\"\n",
        "        self.demo_variable = \"Hello, World!\"\n",
        "        self.initial_variable = argument\n",
        "        \n",
        "    def demo_class(self, *args, **kwargs):\n",
        "        \"\"\"\n",
        "        A demo class that loops through any args and kwargs provided and prints them.\n",
        "        \"\"\"\n",
        "        for i, a in enumerate(args):\n",
        "            print(\"Arg {}: {}\".format(i+1, a))\n",
        "        for k, v in kwargs.items():\n",
        "            print(\"{} - {}\".format(k, v))\n",
        "        if kwargs.get(self.initial_variable):\n",
        "            print(self.demo_variable)\n",
        "        return True\n",
        "\n",
        "demo1 = demoClass()\n",
        "demo2 = demoClass(\"Bob\")"
      ],
      "execution_count": null,
      "outputs": []
    },
    {
      "cell_type": "code",
      "metadata": {
        "id": "ea9TlGbWy_K-"
      },
      "source": [
        "# What was initialised in each demo object?\n",
        "print(demo1.demo_variable, demo1.initial_variable)\n",
        "print(demo2.demo_variable, demo2.initial_variable)"
      ],
      "execution_count": null,
      "outputs": []
    },
    {
      "cell_type": "code",
      "metadata": {
        "id": "KXGguEzRzFbz"
      },
      "source": [
        "# A demo of passing arguments and keyword arguments\n",
        "args = [\"Alice\", \"Bob\", \"Carol\", \"Dave\"]\n",
        "kwargs = {\"Alice\": \"Engineer\",\n",
        "          \"Bob\": \"Consultant\",\n",
        "          \"Carol\": \"Lawyer\",\n",
        "          \"Dave\": \"Doctor\"\n",
        "         }"
      ],
      "execution_count": null,
      "outputs": []
    },
    {
      "cell_type": "code",
      "metadata": {
        "id": "rVcg6n6xzJfy"
      },
      "source": [
        "demo2.demo_class(*args, **kwargs)"
      ],
      "execution_count": null,
      "outputs": []
    },
    {
      "cell_type": "markdown",
      "metadata": {
        "id": "zHRp6XCIbU8F"
      },
      "source": [
        "El uso de `*args` y `**kwargs` en tus llamadas a una función mientras estás programando hace más fácil cambiar tu código sin tener que volver a cada línea de código que llama a tu función y corregir errores cuando cambias el orden o el número de argumentos que estás llamando.\n",
        "\n",
        "Esto reduce los errores, mejora la legibilidad y hace que la experiencia de codificación sea más agradable y eficiente.\n",
        "\n",
        "Haremos otro ejemplo usando [Special method names](https://docs.python.org/3/reference/datamodel.html#special-method-names).\n",
        "\n",
        "Los elementos proporcionados por el argumento de *data* se proyectan primero como objetos *float* y luego se almacenan en un objeto de lista llamado _entries, que es un objeto nuevo."
      ]
    },
    {
      "cell_type": "code",
      "metadata": {
        "id": "XH5jYX8RNT1a"
      },
      "source": [
        "# Text representations\n",
        "\n",
        "class Vector:\n",
        "\n",
        "    def __init__(self, data):\n",
        "        self._entries = list(float(x) for x in data)\n",
        "        # ...\n",
        "\n",
        "    def __repr__(self):\n",
        "        args = \", \".join(f\"{x:.2f}\" for x in self._entries)\n",
        "        return f\"Vector(({args}))\"\n",
        "    \n",
        "    def __str__(self):\n",
        "        first, last = self._entries[0], self._entries[-1]\n",
        "        n_entries = len(self._entries)\n",
        "        return f\"Vector({first:.1f}, ..., {last:.1f})[{n_entries:d}]\"\n",
        "\n",
        "# object.__str__() method differs from object.__repr__() in that \n",
        "# there is no expectation that __str__() return a valid Python expression.\n"
      ],
      "execution_count": null,
      "outputs": []
    },
    {
      "cell_type": "code",
      "metadata": {
        "id": "fpTrEc-mNaI_"
      },
      "source": [
        "v = Vector([1, 2, 3])"
      ],
      "execution_count": null,
      "outputs": []
    },
    {
      "cell_type": "code",
      "metadata": {
        "id": "oxry0ZiuNecL"
      },
      "source": [
        "v"
      ],
      "execution_count": null,
      "outputs": []
    },
    {
      "cell_type": "code",
      "metadata": {
        "id": "oCvPkxV-NjOR"
      },
      "source": [
        "repr(v)"
      ],
      "execution_count": null,
      "outputs": []
    },
    {
      "cell_type": "code",
      "metadata": {
        "id": "gwGbKiq3PVuZ"
      },
      "source": [
        "str(v)"
      ],
      "execution_count": null,
      "outputs": []
    },
    {
      "cell_type": "markdown",
      "metadata": {
        "id": "PVt1ZsyxU4NQ"
      },
      "source": [
        "### Computed properties\n",
        "\n",
        "* Una matriz exhibe ciertas propiedades que dependen sólo de los datos concretos encapsulados en ella y que no pueden fijarse en algún valor arbitrario. \n",
        "\n",
        "* Por ejemplo, cada Matriz tiene implícitamente dos dimensiones: el número de filas y columnas.\n",
        "\n",
        "* Diseñaremos nuestra clase Matrix de tal manera que las instancias tienen dos atributos, n_filas y n_cols. \n",
        "\n",
        "* Para ello, utilizamos property() incorporada con una sintaxis @ especial e implementamos atributos derivados que se calculan a partir del estado actual de un objeto. \n",
        "\n",
        "* Funcionan como métodos, excepto que no necesitan ser invocados con el operador de llamada (), sino que se puede acceder a ellos como si fueran variables."
      ]
    },
    {
      "cell_type": "code",
      "metadata": {
        "id": "wrbkEy7OUsQ5"
      },
      "source": [
        "# Computed properties\n",
        "\n",
        "class Matrix:\n",
        "\n",
        "    def __init__(self, data):\n",
        "        self._entries = list(list(float(x) for x in r) for r in data)\n",
        "        for row in self._entries[1:]:\n",
        "            if len(row) != self.n_cols:\n",
        "                raise ValueError(\"rows must have the same number of entries\")\n",
        "        if self.n_rows == 0:\n",
        "            raise ValueError(\"a matrix must have at least one entry\")\n",
        "\n",
        "    def __repr__(self):\n",
        "        args = \", \".join(\"(\" + \", \".join(f\"{c:.3f}\" for c in r) + \",)\" for r in self._entries)\n",
        "        return f\"Matrix(({args}))\"\n",
        "\n",
        "    @property\n",
        "    def n_rows(self):\n",
        "        return len(self._entries)\n",
        "\n",
        "    @property\n",
        "    def n_cols(self):\n",
        "        return len(self._entries[0])"
      ],
      "execution_count": null,
      "outputs": []
    },
    {
      "cell_type": "code",
      "metadata": {
        "id": "ct1N2ZyFUxT2"
      },
      "source": [
        "m = Matrix([(1, 2, 3), (4, 5, 6)])"
      ],
      "execution_count": null,
      "outputs": []
    },
    {
      "cell_type": "code",
      "metadata": {
        "id": "is-bK93_U1Hy"
      },
      "source": [
        "m.n_rows, m.n_cols"
      ],
      "execution_count": null,
      "outputs": []
    },
    {
      "cell_type": "code",
      "metadata": {
        "id": "0ranBB7P9xJK"
      },
      "source": [
        "m\n"
      ],
      "execution_count": null,
      "outputs": []
    },
    {
      "cell_type": "markdown",
      "metadata": {
        "id": "IHKbkYHwbaOM"
      },
      "source": [
        "# Módulos y paquetes\n",
        "Un módulo en Python es un conjunto de clases o funciones que encapsulan un conjunto único y relacionado de tareas. Los paquetes son un conjunto de módulos reunidos en una sola unidad. Esto también puede ser llamado una biblioteca.\n",
        "\n",
        "Crear un módulo es tan simple como guardar el código de la clase en un archivo con la extensión .py.\n"
      ]
    },
    {
      "cell_type": "markdown",
      "metadata": {
        "id": "C5r9YKVTizTb"
      },
      "source": [
        "## Módulos de escritura\n",
        "Un conjunto de módulos en una biblioteca requieren tener un conjunto específico de requisitos. \n",
        "\n",
        "* Imaginen que deseamos desarrollar un juego de ping pong. Podemos colocar la lógica del juego en un módulo, y la funcionalidad para jugar el juego en otro. Eso nos lleva a una carpeta con la siguiente estructura de archivos:\n",
        "\n",
        "*pingpong/*\n",
        "\n",
        "*pingpong/game.py*\n",
        "\n",
        "*pingpong/draw.py*\n",
        "\n",
        "* Dentro de cada archivo habrá un conjunto de funciones. \n",
        "\n",
        "* Supongamos que, dentro de *draw.py* hay una **función** llamada *draw_game*. \n",
        "\n",
        "* Si quisieras importar la función *draw_game* al archivo *game.py*, la convención es la siguiente:\n",
        "\n",
        "*import draw*\n",
        "\n",
        "* Esto importará todo lo que está en el archivo draw.py. \n",
        "\n",
        "* Después de eso, se accede a las funciones del archivo haciendo llamadas a, por ejemplo, *draw.draw_game*.\n",
        "\n",
        "* O bien, puedes acceder directamente a cada archivo y sólo importar lo que necesites (ya que algunos archivos pueden ser extremadamente grandes y no necesariamente deseas importar todo):\n",
        "\n",
        "*from draw import draw_game*\n",
        "\n",
        "* Cuando ejecutas un programa directamente desde la línea de comandos, necesitas una función especial llamada *main*, que se ejecuta de la siguiente manera:\n",
        "\n",
        "    `if __name__ == '__main__':`\n",
        "\n",
        "          `main()`\n"
      ]
    },
    {
      "cell_type": "code",
      "metadata": {
        "id": "hklE0NXgfsmQ"
      },
      "source": [
        "# game.py\n",
        "# Import the draw_game function from draw.py\n",
        "from draw import draw_game\n",
        "\n",
        "def play_game():\n",
        "    ...\n",
        "\n",
        "def main():\n",
        "    result = play_game()\n",
        "    draw_game(result)\n",
        "\n",
        "# If this script is executed, then main() will be executed\n",
        "if __name__ == '__main__':\n",
        "    main()"
      ],
      "execution_count": null,
      "outputs": []
    },
    {
      "cell_type": "markdown",
      "metadata": {
        "id": "PwlpdkAHhpO4"
      },
      "source": [
        "* Las funciones y clases de Python se pueden guardar para reutilizarlas en archivos con la extensión `.py`\n",
        "\n",
        "* Podés importar las funciones de esos archivos usando `import filename` (sin la extensión` .py`) o funciones o clases específicas de ese archivo con `from filename import class, function1, function2`\n",
        "\n",
        "* Después de ejecutar el programa, Python crea automáticamente un archivo con el mismo nombre, pero con `.pyc` como extensión. Esta es una versión compilada del archivo y ocurre automáticamente.\n",
        "\n",
        "* Si un módulo tiene una gran cantidad de funciones que querés utilizar en tu propio código, podés especificar un nombre personalizado para su uso. \n",
        "\n",
        "* Por ejemplo, un módulo que conoceremos en la siguiente sección se llama `pandas`. La convención es importarlo como `import pandas as pd`. \n",
        "\n",
        "* Ahora accederás a las funciones en `pandas` utilizando la notación de punto de` pd.function`."
      ]
    },
    {
      "cell_type": "markdown",
      "metadata": {
        "id": "cBLW3LYchyda"
      },
      "source": [
        "Poniendo todo esto junto en un ejemplo de pseudocódigo (es decir, este código no funciona, así que no intente ejecutarlo):"
      ]
    },
    {
      "cell_type": "code",
      "metadata": {
        "id": "CY1oXuzDho6c"
      },
      "source": [
        "# game.py\n",
        "# Import the draw module\n",
        "if visual_mode:\n",
        "    # in visual mode, we draw using graphics\n",
        "    import draw_visual as draw\n",
        "else:\n",
        "    # In textual mode, we print out text\n",
        "    import draw_textual as draw\n",
        "\n",
        "def main():\n",
        "    result = play_game()\n",
        "    # this can either be visual or textual depending on visual_mode\n",
        "    draw.draw_game(result)"
      ],
      "execution_count": null,
      "outputs": []
    },
    {
      "cell_type": "markdown",
      "metadata": {
        "id": "DWkeEeQ0iFzT"
      },
      "source": [
        "# Módulos Built-in\n"
      ]
    },
    {
      "cell_type": "code",
      "metadata": {
        "id": "7yNWbFjNiW1C"
      },
      "source": [
        "#  Leer el manual de ayuda usando `help (module)` (va a mostrar los docstrings)\n",
        "import pandas as pd\n",
        "\n",
        "help(pd)"
      ],
      "execution_count": null,
      "outputs": []
    },
    {
      "cell_type": "code",
      "metadata": {
        "id": "x5D2pfzhieIR"
      },
      "source": [
        "# Después de importar un módulo, `dir (module)` te permite ver una lista de todas las funciones implementadas en esa biblioteca.\n",
        "dir(pd)"
      ],
      "execution_count": null,
      "outputs": []
    },
    {
      "cell_type": "markdown",
      "metadata": {
        "id": "u7uarH_JimaY"
      },
      "source": [
        "# Escribiendo paquetes\n",
        "\n",
        "* Los paquetes son bibliotecas que contienen múltiples módulos y archivos. \n",
        "* Se almacenan en directorios y tienen un requisito importante: cada paquete es un directorio que **debe** contener un archivo de inicialización llamado `__init__.py`.\n",
        "\n",
        "* El archivo puede estar completamente vacío, pero se importa y se ejecuta con la función de importación. \n",
        "\n",
        "* Esto permite establecer algunas reglas, o pasos iniciales a realizar con la primera importación del paquete.\n",
        "\n",
        "* Python sólo importará (e inicializará) el paquete una vez.\n",
        "\n",
        "* Una parte útil del archivo `__init__.py` es que se puede limitar lo que se importa con el comando `from package import *`."
      ]
    },
    {
      "cell_type": "code",
      "metadata": {
        "id": "xh5sXfQ2kQt8"
      },
      "source": [
        "#__init__.py\n",
        "\n",
        "__all__ = [\"class1\", \"class2\"]"
      ],
      "execution_count": null,
      "outputs": []
    },
    {
      "cell_type": "markdown",
      "metadata": {
        "id": "Va_lZRvOkVbX"
      },
      "source": [
        "Esto significa que de `from package import *` sólo importa la *class1* y *class2*."
      ]
    },
    {
      "cell_type": "markdown",
      "metadata": {
        "id": "PBJ-9TEPlqXM"
      },
      "source": [
        "# Data Analysis"
      ]
    },
    {
      "cell_type": "markdown",
      "metadata": {
        "id": "fgDwGkPSmlsI"
      },
      "source": [
        "## Matrices de números (Numpy arrays)\n",
        "\n",
        "* El análisis de datos suele implicar la realización de operaciones sobre grandes cantidades de datos. \n",
        "\n",
        "* Numpy es un poderoso conjunto de herramientas que le permite trabajar rápida y fácilmente con listas de datos completas. \n",
        "\n",
        "* Nos referimos a estas listas como matrices.\n",
        "\n",
        "* Por convención, importamos Numpy como np: *import numpy as np*\n",
        "\n",
        "* También podemos querer generar un montón de listas de *floats* aleatorios para estos ejercicios. Python hace eso con el módulo *random*."
      ]
    },
    {
      "cell_type": "code",
      "metadata": {
        "id": "ZHwX2dTvm7Sj",
        "colab": {
          "base_uri": "https://localhost:8080/",
          "height": 52
        },
        "outputId": "fcb22c24-50f6-4920-ce22-e92abd533c2d"
      },
      "source": [
        "import numpy as np\n",
        "import random\n",
        "\n",
        "def generate_float_list(lwr, upr, num):\n",
        "    \"\"\"\n",
        "    Return a list of num random decimal floats ranged between lwr and upr.\n",
        "    \n",
        "    Range(lwr, upr) creates a list of every integer between lwr and upr.\n",
        "    random.sample takes num integers from the range list, chosen randomly.\n",
        "    \"\"\"\n",
        "    int_list = random.sample(range(lwr, upr), num)\n",
        "    return [x/100 for x in int_list]\n",
        "\n",
        "# Create two lists\n",
        "height = generate_float_list(100, 220, 10)\n",
        "weight = generate_float_list(5000, 20000, 10)\n",
        "\n",
        "# Convert these to Numpy arrays\n",
        "np_height = np.array(height)\n",
        "np_weight = np.array(weight)\n",
        "\n",
        "print(np_height)\n",
        "print(np_weight)"
      ],
      "execution_count": null,
      "outputs": [
        {
          "output_type": "stream",
          "text": [
            "[1.41 2.16 1.28 1.04 2.18 1.24 1.57 1.68 1.88 2.01]\n",
            "[193.43  52.82 171.27  92.12 148.2   76.11 114.85 141.77 135.08 132.71]\n"
          ],
          "name": "stdout"
        }
      ]
    },
    {
      "cell_type": "markdown",
      "metadata": {
        "id": "iAitCGl_m_RR"
      },
      "source": [
        "Hay una útil función de temporizador incorporada. Inicia cualquier línea de código con *%time* y obtendrás la salida de cuánto tiempo tardó en ejecutarse el código.\n",
        "\n",
        "Esto es importante cuando se trabaja con operaciones de datos intensivos en las que se quiere exprimir cada gota de eficiencia optimizando el código.\n",
        "\n",
        "Ahora podemos realizar operaciones directamente en todos los valores de estas matrices Numpy. Aquí hay dos métodos sencillos de usar."
      ]
    },
    {
      "cell_type": "markdown",
      "metadata": {
        "id": "rKGfmZT6n_0U"
      },
      "source": [
        "* **Element-wise calculations**: puede tratar las matrices de Numpy como lo haría con *floats* o *integers* individuales. Tenga en cuenta que deben tener la misma forma (es decir, número o elementos), o puede realizar operaciones bit a bit (operar en cada elemento de la matriz) con un solo float o integer\n",
        "* **Filtering**: puede filtrar rápidamente matrices Numpy realizando operaciones booleanas: `np_array [np_array> num]`, o, para una respuesta puramente booleana, `np_array>num`"
      ]
    },
    {
      "cell_type": "code",
      "metadata": {
        "id": "JwrQVN2QoLZv"
      },
      "source": [
        "# Calculate body-mass index based on the heights and weights in our arrays\n",
        "# Time the calculation ... it won't be long\n",
        "%time bmi = np_weight / np_height ** 2\n",
        "\n",
        "print(bmi)\n",
        "\n",
        "# Any BMI > 35 is considered severely obese. Let's see who in our sample is at risk.\n",
        "\n",
        "# Get a boolean response\n",
        "print(bmi > 35)\n",
        "\n",
        "# Or print only BMI values above 35\n",
        "print(bmi[bmi > 35])"
      ],
      "execution_count": null,
      "outputs": []
    },
    {
      "cell_type": "markdown",
      "metadata": {
        "id": "t-RgeJrwo9S9"
      },
      "source": [
        "## Pandas \n",
        "\n",
        "* [Tutorial de Pandas](https://pandas.pydata.org/pandas-docs/stable/getting_started/10min.html)\n",
        "\n",
        "* Pandas es un paquete de Python que proporciona estructuras de datos rápidas, flexibles y expresivas diseñadas para hacer que el trabajo con datos \"relacionales\" o \"etiquetados\" sea fácil e intuitivo. \n",
        "\n",
        "* Su objetivo es ser el bloque de construcción fundamental de alto nivel para hacer análisis de datos prácticos y del mundo real en Python. \n",
        "\n",
        "* Además, tiene el objetivo más amplio de convertirse en la herramienta de análisis / manipulación de datos de código abierto más potente y flexible disponible en cualquier idioma.\n",
        "\n",
        "* Pandas permite manipular los datos ya sea como una serie (similar a Numpy, pero con características añadidas), o en una forma tabular con filas de valores y columnas con nombre (similar a la forma en que se puede pensar en una hoja de cálculo de Excel).\n",
        "\n",
        "Esta forma tabular se conoce como *DataFrame*. "
      ]
    },
    {
      "cell_type": "markdown",
      "metadata": {
        "id": "7MQ0ZLjTrYTI"
      },
      "source": [
        "### Creación de objetos\n",
        "\n",
        "Una *Series* genera una lista de valores con un índice entero por defecto (pero tiene una dimensión). Se suele usar para generar time series.\n",
        "\n"
      ]
    },
    {
      "cell_type": "code",
      "metadata": {
        "id": "J6h0fq8qoLXR"
      },
      "source": [
        "import pandas as pd\n",
        "import numpy as np\n",
        "\n",
        "s = pd.Series([1,3,5,np.nan,6,8])\n",
        "s"
      ],
      "execution_count": null,
      "outputs": []
    },
    {
      "cell_type": "markdown",
      "metadata": {
        "id": "OFNg1o_isvfd"
      },
      "source": [
        "* *np.nan* es la forma por defecto de Numpy de presentar un valor como \"no-un-número\". \n",
        "\n",
        "* Por ejemplo, dividir por cero devuelve *np.nan*. Esto significa que puede realizar operaciones complejas de forma relativamente segura y solucionar los daños posteriormente."
      ]
    },
    {
      "cell_type": "code",
      "metadata": {
        "id": "J4SSH6rSsyDl"
      },
      "source": [
        "# Crea un DataFrame pasando una matriz numpy, con un índice de fecha y hora y columnas etiquetadas - c/ ISO-formatted date (YYYYMMDD)\n",
        "dates = pd.date_range('20130101', periods=6)\n",
        "dates"
      ],
      "execution_count": null,
      "outputs": []
    },
    {
      "cell_type": "markdown",
      "metadata": {
        "id": "WD6Pwg7Zs_FO"
      },
      "source": [
        "Los números de la parte izquierda de una tabla (row name o primera columna) se llaman índice. Esto le permite hacer referencia a una fila específica. \n",
        "\n",
        "Sin embargo, Pandas le permite establecer su propio índice.\n",
        "\n",
        "Puede establecer una de las columnas existentes como índice (siempre y cuando conste de valores únicos) o puede establecer un nuevo índice personalizado."
      ]
    },
    {
      "cell_type": "code",
      "metadata": {
        "id": "E_0ZgyASs2Cm"
      },
      "source": [
        "# Create a dataframe using the date range we created above as the index\n",
        "df = pd.DataFrame(np.random.randn(6,4), index=dates, columns=list('ABCD'))\n",
        "df"
      ],
      "execution_count": null,
      "outputs": []
    },
    {
      "cell_type": "code",
      "metadata": {
        "id": "uV5Pqbnjs48M"
      },
      "source": [
        "# También podemos mezclar datos de texto y numéricos con un índice generado automáticamente.\n",
        "dict = {\"country\": [\"Brazil\", \"Russia\", \"India\", \"China\", \"South Africa\"],\n",
        "       \"capital\": [\"Brasilia\", \"Moscow\", \"New Dehli\", \"Beijing\", \"Pretoria\"],\n",
        "       \"area\": [8.516, 17.10, 3.286, 9.597, 1.221],\n",
        "       \"population\": [200.4, 143.5, 1252, 1357, 52.98] }\n",
        "\n",
        "brics = pd.DataFrame(dict)\n",
        "brics"
      ],
      "execution_count": null,
      "outputs": []
    },
    {
      "cell_type": "code",
      "metadata": {
        "id": "jlJUjhi8tAnS"
      },
      "source": [
        "# Set the ISO two-letter country codes as the index\n",
        "brics.index = [\"BR\", \"RU\", \"IN\", \"CH\", \"SA\"]\n",
        "\n",
        "brics"
      ],
      "execution_count": null,
      "outputs": []
    },
    {
      "cell_type": "markdown",
      "metadata": {
        "id": "oj_Z7wF-tCHZ"
      },
      "source": [
        "### Visualizar data\n",
        "\n",
        "Pandas puede trabajar con conjuntos de datos excepcionalmente grandes, incluyendo millones de filas. Presentar eso ocupa espacio y, si sólo quieres ver cómo son tus datos (ya que, la mayoría de las veces, puedes trabajar con ellos simbólicamente), puede ser costoso. \n",
        "\n",
        "Pandas viene con varias formas de ver y revisar los datos.\n",
        "\n",
        "* Ver las filas superior e inferior de su marco de datos con `df.head ()` o `df.tail (num)` donde `num` es un número entero de filas\n",
        "\n",
        "* Ver el índice, las columnas y los datos numpy subyacentes con `df.index`,` df.columns` y `df.values`\n",
        "\n",
        "* Obtener un resumen estadístico rápido de sus datos con `df.describe ()`\n",
        "\n",
        "* Transponer los datos con `df.T`\n",
        "\n",
        "* Ordenar por un eje con `df.sort_index (axis = 1, ascendente = False)` donde `axis = 1` se refiere a columnas y` axis = 0` se refiere a filas\n",
        "\n",
        "* Ordenar por valores con `df.sort_values (by = column)`"
      ]
    },
    {
      "cell_type": "code",
      "metadata": {
        "id": "dIK0x1oHtMyc"
      },
      "source": [
        "# Head\n",
        "df.head()"
      ],
      "execution_count": null,
      "outputs": []
    },
    {
      "cell_type": "code",
      "metadata": {
        "id": "U-ufVXv0tNbw"
      },
      "source": [
        "# Tail\n",
        "df.tail(3)"
      ],
      "execution_count": null,
      "outputs": []
    },
    {
      "cell_type": "code",
      "metadata": {
        "id": "BFXHJS2otQBF"
      },
      "source": [
        "# Index\n",
        "df.index"
      ],
      "execution_count": null,
      "outputs": []
    },
    {
      "cell_type": "code",
      "metadata": {
        "id": "-85s0kuLtSG6"
      },
      "source": [
        "# Values\n",
        "df.values"
      ],
      "execution_count": null,
      "outputs": []
    },
    {
      "cell_type": "code",
      "metadata": {
        "id": "r79tUSf4uEP0"
      },
      "source": [
        "# Statistical summary\n",
        "df.describe()"
      ],
      "execution_count": null,
      "outputs": []
    },
    {
      "cell_type": "code",
      "metadata": {
        "id": "B6PvgIxVuHbe"
      },
      "source": [
        "# Transpose\n",
        "df.T"
      ],
      "execution_count": null,
      "outputs": []
    },
    {
      "cell_type": "code",
      "metadata": {
        "id": "nta0_r0RuKeL"
      },
      "source": [
        "# Sort by an axis\n",
        "df.sort_index(axis=1, ascending=False)"
      ],
      "execution_count": null,
      "outputs": []
    },
    {
      "cell_type": "code",
      "metadata": {
        "id": "fmplRrf0uPuE"
      },
      "source": [
        "# Sort by values\n",
        "df.sort_values(by=\"B\")"
      ],
      "execution_count": null,
      "outputs": []
    },
    {
      "cell_type": "markdown",
      "metadata": {
        "id": "NPoy9pw5uXlm"
      },
      "source": [
        "### Selecciones\n",
        "\n",
        "Uno de los primeros pasos en el análisis de datos es simplemente filtrar los datos y obtener las partes que más te interesan. Pandas tiene numerosos enfoques para conseguir rápidamente sólo lo que quieres.\n",
        "\n",
        "* Seleccionar una sola columna dirigiendo el marco de datos como lo haría con un diccionario, con `df [columna]` o, si el nombre de la columna es una sola palabra, con `df.column`. Esto devuelve una serie\n",
        "\n",
        "* Seleccione un segmento como lo haría con una lista de Python, con `df []`, p. `df [: 3]`, o cortando los índices, `df [\" 20130102 \":\" 20130104 \"]`\n",
        "\n",
        "* Usar `.loc` para seleccionar por etiquetas específicas, tales como:\n",
        "* Obtenga una sección transversal basada en una etiqueta, con p. `df.loc [índice [0]]`\n",
        "\n",
        "* Subir al eje múltiple por una etiqueta, con `df.loc[:,[\"A\",\"B\"]]` donde el primer `:` indica el segmento de filas, y la segunda lista `[\"A\",\"B\"] `indica la lista de columnas\n",
        "* Como lo harías con Numpy, se puede obtener una selección booleana, por ejemplo, con `df [df.A> num]`"
      ]
    },
    {
      "cell_type": "code",
      "metadata": {
        "id": "_-a7kQoquPsY"
      },
      "source": [
        "# By column\n",
        "df.A"
      ],
      "execution_count": null,
      "outputs": []
    },
    {
      "cell_type": "code",
      "metadata": {
        "id": "jjzNxbcnumRW"
      },
      "source": [
        "# By slice\n",
        "df[\"20130102\":\"20130104\"]"
      ],
      "execution_count": null,
      "outputs": []
    },
    {
      "cell_type": "code",
      "metadata": {
        "id": "1KnNUhY7uo5O"
      },
      "source": [
        "# Cross-section\n",
        "df.loc[dates[0]]"
      ],
      "execution_count": null,
      "outputs": []
    },
    {
      "cell_type": "code",
      "metadata": {
        "id": "ecHPXDo4uq89"
      },
      "source": [
        "# Multi-axis\n",
        "df.loc[:, [\"A\", \"B\"]]"
      ],
      "execution_count": null,
      "outputs": []
    },
    {
      "cell_type": "code",
      "metadata": {
        "id": "Hy37yLMcusta"
      },
      "source": [
        "# Boolean indexing\n",
        "df[df.A > 0]"
      ],
      "execution_count": null,
      "outputs": []
    },
    {
      "cell_type": "markdown",
      "metadata": {
        "id": "NI5htGTsvEOC"
      },
      "source": [
        "## Matplotlib\n",
        "Matplotlib es una biblioteca de ploteo de Python.\n",
        "\n",
        "**Matplotlib, Numpy y Pandas forman las tres herramientas más importantes en el análisis de datos.**"
      ]
    },
    {
      "cell_type": "code",
      "metadata": {
        "id": "lno9DxQ2vLjM"
      },
      "source": [
        "import matplotlib.pyplot as plt\n",
        "# Para que Matplotlib plots lo muestre en notebook.\n",
        "%matplotlib inline\n",
        "\n",
        "# Produce a random timeseries\n",
        "ts = pd.Series(np.random.randn(1000), index=pd.date_range('1/1/2000', periods=1000))\n",
        "\n",
        "# Get the cumulative sum of the random numbers generated to mimic a historic data series\n",
        "ts = ts.cumsum()\n",
        "\n",
        "# And plot\n",
        "ts.plot()\n",
        "\n",
        "# Save\n",
        "plt.savefig('timeseries.png')"
      ],
      "execution_count": null,
      "outputs": []
    },
    {
      "cell_type": "code",
      "metadata": {
        "id": "SFMaouSrvjH5"
      },
      "source": [
        "# And do the same thing with a dataframe\n",
        "df = pd.DataFrame(np.random.randn(1000, 4), index=ts.index,\n",
        "                  columns=['A', 'B', 'C', 'D'])\n",
        "\n",
        "df = df.cumsum()\n",
        "\n",
        "# And plot, this time creating a figure and adding a plot and legend to it\n",
        "df.plot()\n",
        "plt.legend(loc='best')\n",
        "\n",
        "# Save\n",
        "plt.savefig('series.png')"
      ],
      "execution_count": null,
      "outputs": []
    },
    {
      "cell_type": "markdown",
      "metadata": {
        "id": "8DBy3gV0zpaY"
      },
      "source": [
        "# Leer archivos csv + Pandas\n",
        "\n"
      ]
    },
    {
      "cell_type": "code",
      "metadata": {
        "id": "toCxY-bJ13Ej"
      },
      "source": [
        "from google.colab import files\n",
        "uploaded = files.upload()"
      ],
      "execution_count": null,
      "outputs": []
    },
    {
      "cell_type": "code",
      "metadata": {
        "id": "q5oHCauf2J_D"
      },
      "source": [
        "import pandas as pd\n",
        "import io\n",
        "cars = pd.read_csv(io.StringIO(uploaded['Automobile_data.csv'].decode('utf-8')))"
      ],
      "execution_count": null,
      "outputs": []
    },
    {
      "cell_type": "code",
      "metadata": {
        "id": "1WdtDhyT2k3J"
      },
      "source": [
        "print(cars.shape)"
      ],
      "execution_count": null,
      "outputs": []
    },
    {
      "cell_type": "code",
      "metadata": {
        "id": "ltPT-Zls2n7R"
      },
      "source": [
        "print(cars.dtypes)"
      ],
      "execution_count": null,
      "outputs": []
    },
    {
      "cell_type": "code",
      "metadata": {
        "id": "Y5et9oM32qVo"
      },
      "source": [
        "print(cars.head())"
      ],
      "execution_count": null,
      "outputs": []
    },
    {
      "cell_type": "code",
      "metadata": {
        "id": "B0GJX-rRO9oB"
      },
      "source": [
        "# Clean data and update the CSV file \n",
        "\n",
        "df = pd.read_csv(io.StringIO(uploaded['Automobile_data.csv'].decode('utf-8')), na_values={\n",
        "'price':[\"?\",\"n.a\"],\n",
        "'stroke':[\"?\",\"n.a\"],\n",
        "'horsepower':[\"?\",\"n.a\"],\n",
        "'peak-rpm':[\"?\",\"n.a\"],\n",
        "'average-mileage':[\"?\",\"n.a\"]})\n",
        "print(df)\n",
        "\n",
        "#df.to_csv(\"\")"
      ],
      "execution_count": null,
      "outputs": []
    },
    {
      "cell_type": "code",
      "metadata": {
        "id": "41HPhhYQQigp",
        "colab": {
          "base_uri": "https://localhost:8080/",
          "height": 77
        },
        "outputId": "05f79ccb-682f-4fca-9dbf-6c00af913a05"
      },
      "source": [
        "# Find the most expensive car company name\n",
        "\n",
        "df = df [['company','price']][df.price==df['price'].max()]\n",
        "df"
      ],
      "execution_count": null,
      "outputs": [
        {
          "output_type": "execute_result",
          "data": {
            "text/html": [
              "<div>\n",
              "<style scoped>\n",
              "    .dataframe tbody tr th:only-of-type {\n",
              "        vertical-align: middle;\n",
              "    }\n",
              "\n",
              "    .dataframe tbody tr th {\n",
              "        vertical-align: top;\n",
              "    }\n",
              "\n",
              "    .dataframe thead th {\n",
              "        text-align: right;\n",
              "    }\n",
              "</style>\n",
              "<table border=\"1\" class=\"dataframe\">\n",
              "  <thead>\n",
              "    <tr style=\"text-align: right;\">\n",
              "      <th></th>\n",
              "      <th>company</th>\n",
              "      <th>price</th>\n",
              "    </tr>\n",
              "  </thead>\n",
              "  <tbody>\n",
              "    <tr>\n",
              "      <th>35</th>\n",
              "      <td>mercedes-benz</td>\n",
              "      <td>45400.0</td>\n",
              "    </tr>\n",
              "  </tbody>\n",
              "</table>\n",
              "</div>"
            ],
            "text/plain": [
              "          company    price\n",
              "35  mercedes-benz  45400.0"
            ]
          },
          "metadata": {
            "tags": []
          },
          "execution_count": 181
        }
      ]
    },
    {
      "cell_type": "code",
      "metadata": {
        "id": "AuamxEKtQog4"
      },
      "source": [
        "# Print All Toyota Cars details\n",
        "cars = pd.read_csv(io.StringIO(uploaded['Automobile_data.csv'].decode('utf-8')))\n",
        "car_Manufacturers = cars.groupby('company')\n",
        "toyotaDf = car_Manufacturers.get_group('toyota')\n",
        "toyotaDf"
      ],
      "execution_count": null,
      "outputs": []
    },
    {
      "cell_type": "code",
      "metadata": {
        "id": "sz7h-Jo5Q7jJ"
      },
      "source": [
        "#  Count total cars per company\n",
        "cars['company'].value_counts()"
      ],
      "execution_count": null,
      "outputs": []
    },
    {
      "cell_type": "code",
      "metadata": {
        "id": "YphDdpUZRAkh"
      },
      "source": [
        "# Find each company’s highest price car\n",
        "priceDf = car_Manufacturers['company','price'].max()\n",
        "priceDf"
      ],
      "execution_count": null,
      "outputs": []
    },
    {
      "cell_type": "code",
      "metadata": {
        "id": "rVJnf-aqRH90"
      },
      "source": [
        "# Find the average mileage of each car making company\n",
        "df = pd.read_csv(io.StringIO(uploaded['Automobile_data.csv'].decode('utf-8')), na_values={\n",
        "'price':[\"?\",\"n.a\"],\n",
        "'stroke':[\"?\",\"n.a\"],\n",
        "'horsepower':[\"?\",\"n.a\"],\n",
        "'peak-rpm':[\"?\",\"n.a\"],\n",
        "'average-mileage':[\"?\",\"n.a\"]})\n",
        "\n",
        "# No funciona .mean si están los ?\n",
        "car_Manufacturers = df.groupby('company')\n",
        "mileageDf = car_Manufacturers['company','average-mileage'].mean()\n",
        "mileageDf"
      ],
      "execution_count": null,
      "outputs": []
    },
    {
      "cell_type": "code",
      "metadata": {
        "id": "hvtmCFFnTvpV"
      },
      "source": [
        "# Sort all cars by Price column\n",
        "cars = cars.sort_values(by=['price', 'horsepower'], ascending=False)\n",
        "cars.head(5)"
      ],
      "execution_count": null,
      "outputs": []
    },
    {
      "cell_type": "code",
      "metadata": {
        "id": "EsPYb0_3T1FN"
      },
      "source": [
        "# Concatenate two data frames using the following conditions\n",
        "GermanCars = {'Company': ['Ford', 'Mercedes', 'BMV', 'Audi'], 'Price': [23845, 171995, 135925 , 71400]}\n",
        "carsDf1 = pd.DataFrame.from_dict(GermanCars)\n",
        "\n",
        "japaneseCars = {'Company': ['Toyota', 'Honda', 'Nissan', 'Mitsubishi '], 'Price': [29995, 23600, 61500 , 58900]}\n",
        "carsDf2 = pd.DataFrame.from_dict(japaneseCars)\n",
        "\n",
        "carsDf = pd.concat([carsDf1, carsDf2], keys=[\"Germany\", \"Japan\"])\n",
        "carsDf"
      ],
      "execution_count": null,
      "outputs": []
    },
    {
      "cell_type": "code",
      "metadata": {
        "id": "qsKa075-T7d6"
      },
      "source": [
        "# Merge two data frames using the following condition\n",
        "Car_Price = {'Company': ['Toyota', 'Honda', 'BMV', 'Audi'], 'Price': [23845, 17995, 135925 , 71400]}\n",
        "carPriceDf = pd.DataFrame.from_dict(Car_Price)\n",
        "\n",
        "car_Horsepower = {'Company': ['Toyota', 'Honda', 'BMV', 'Audi'], 'horsepower': [141, 80, 182 , 160]}\n",
        "carsHorsepowerDf = pd.DataFrame.from_dict(car_Horsepower)\n",
        "\n",
        "carsDf = pd.merge(carPriceDf, carsHorsepowerDf, on=\"Company\")\n",
        "carsDf"
      ],
      "execution_count": null,
      "outputs": []
    }
  ]
}