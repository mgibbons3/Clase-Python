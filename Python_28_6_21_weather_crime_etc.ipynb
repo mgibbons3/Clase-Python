{
  "nbformat": 4,
  "nbformat_minor": 0,
  "metadata": {
    "colab": {
      "name": "Python, weather, crime, etc.",
      "provenance": [],
      "collapsed_sections": [],
      "authorship_tag": "ABX9TyMneu3tck9mzkfidybqirDR",
      "include_colab_link": true
    },
    "kernelspec": {
      "name": "python3",
      "display_name": "Python 3"
    }
  },
  "cells": [
    {
      "cell_type": "markdown",
      "metadata": {
        "id": "view-in-github",
        "colab_type": "text"
      },
      "source": [
        "<a href=\"https://colab.research.google.com/github/mgibbons3/Clase-Python/blob/main/Python_28_6_21_weather_crime_etc.ipynb\" target=\"_parent\"><img src=\"https://colab.research.google.com/assets/colab-badge.svg\" alt=\"Open In Colab\"/></a>"
      ]
    },
    {
      "cell_type": "markdown",
      "metadata": {
        "id": "VbLWrTG9ZNVf"
      },
      "source": [
        "https://github.com/ekapope/WorldWeatherOnline\n",
        "EconUdesa2020\n"
      ]
    },
    {
      "cell_type": "code",
      "metadata": {
        "id": "7fe_ZghfZ1Eu"
      },
      "source": [
        "# From datetime module import datetime class\n",
        "from datetime import datetime"
      ],
      "execution_count": null,
      "outputs": []
    },
    {
      "cell_type": "code",
      "metadata": {
        "id": "b8yRg9-SZ5Uu",
        "colab": {
          "base_uri": "https://localhost:8080/",
          "height": 34
        },
        "outputId": "fad74eb6-0942-4836-9b1d-061a3332dfd4"
      },
      "source": [
        "# We then used now() method to create a datetime object containing the current local date and time.\n",
        "start_time = datetime.now()\n",
        "print(start_time)"
      ],
      "execution_count": null,
      "outputs": [
        {
          "output_type": "stream",
          "text": [
            "2020-07-14 04:29:05.001963\n"
          ],
          "name": "stdout"
        }
      ]
    },
    {
      "cell_type": "code",
      "metadata": {
        "id": "Nt53MVN7VIfw",
        "colab": {
          "base_uri": "https://localhost:8080/",
          "height": 87
        },
        "outputId": "bcfacccc-2f55-439f-9684-cea2746bb726"
      },
      "source": [
        "import pandas as pd\n",
        "start_date = '11-DEC-2018'\n",
        "end_date = '31-DEC-2019'    \n",
        "    \n",
        "# create list of first day of month for range between start and end dates non-inclusive (open)\n",
        "# MS= month start frequency\n",
        "list_mon_begin = pd.date_range(start_date, end_date, freq='MS', closed='right')\n",
        "\n",
        "# .to_datetime converts argument to datetime\n",
        "list_mon_begin1 = [pd.Series(pd.to_datetime(start_date))]\n",
        "list_mon_begin2 = [pd.Series(list_mon_begin)]\n",
        "\n",
        "print(list_mon_begin)"
      ],
      "execution_count": null,
      "outputs": [
        {
          "output_type": "stream",
          "text": [
            "DatetimeIndex(['2019-01-01', '2019-02-01', '2019-03-01', '2019-04-01',\n",
            "               '2019-05-01', '2019-06-01', '2019-07-01', '2019-08-01',\n",
            "               '2019-09-01', '2019-10-01', '2019-11-01', '2019-12-01'],\n",
            "              dtype='datetime64[ns]', freq='MS')\n"
          ],
          "name": "stdout"
        }
      ]
    },
    {
      "cell_type": "code",
      "metadata": {
        "id": "IKl3HogWfFJr",
        "colab": {
          "base_uri": "https://localhost:8080/",
          "height": 283
        },
        "outputId": "a36c05c2-6553-4ca4-9452-8c7a656c0f59"
      },
      "source": [
        "print(list_mon_begin1)\n",
        "print(list_mon_begin2)"
      ],
      "execution_count": null,
      "outputs": [
        {
          "output_type": "stream",
          "text": [
            "[0   2018-12-11\n",
            "dtype: datetime64[ns]]\n",
            "[0    2019-01-01\n",
            "1    2019-02-01\n",
            "2    2019-03-01\n",
            "3    2019-04-01\n",
            "4    2019-05-01\n",
            "5    2019-06-01\n",
            "6    2019-07-01\n",
            "7    2019-08-01\n",
            "8    2019-09-01\n",
            "9    2019-10-01\n",
            "10   2019-11-01\n",
            "11   2019-12-01\n",
            "dtype: datetime64[ns]]\n"
          ],
          "name": "stdout"
        }
      ]
    },
    {
      "cell_type": "code",
      "metadata": {
        "id": "STxV_6ABe2cq",
        "colab": {
          "base_uri": "https://localhost:8080/",
          "height": 265
        },
        "outputId": "e751b933-b038-42b4-af9b-629e7fd56ca2"
      },
      "source": [
        "# convert to Series and add start_date at beginning\n",
        "list_mon_begin = pd.concat([pd.Series(pd.to_datetime(start_date)), pd.Series(list_mon_begin)], ignore_index=True)\n",
        "print(list_mon_begin)"
      ],
      "execution_count": null,
      "outputs": [
        {
          "output_type": "stream",
          "text": [
            "0    2018-12-11\n",
            "1    2019-01-01\n",
            "2    2019-02-01\n",
            "3    2019-03-01\n",
            "4    2019-04-01\n",
            "5    2019-05-01\n",
            "6    2019-06-01\n",
            "7    2019-07-01\n",
            "8    2019-08-01\n",
            "9    2019-09-01\n",
            "10   2019-10-01\n",
            "11   2019-11-01\n",
            "12   2019-12-01\n",
            "dtype: datetime64[ns]\n"
          ],
          "name": "stdout"
        }
      ]
    },
    {
      "cell_type": "code",
      "metadata": {
        "id": "oTXaF6ynXf81",
        "colab": {
          "base_uri": "https://localhost:8080/",
          "height": 265
        },
        "outputId": "d587eb59-726e-42fa-9bc1-6b3a618fd0ef"
      },
      "source": [
        "# create list of month end dates for range between start and end dates non-inclusive (open)\n",
        "# month end frequency\n",
        "list_mon_end = pd.date_range(start_date, end_date, freq='M', closed='left')\n",
        "# convert to Series and add end_date at end\n",
        "list_mon_end = pd.concat([pd.Series(list_mon_end), pd.Series(pd.to_datetime(end_date))], ignore_index=True)\n",
        "\n",
        "print(list_mon_end)"
      ],
      "execution_count": null,
      "outputs": [
        {
          "output_type": "stream",
          "text": [
            "0    2018-12-31\n",
            "1    2019-01-31\n",
            "2    2019-02-28\n",
            "3    2019-03-31\n",
            "4    2019-04-30\n",
            "5    2019-05-31\n",
            "6    2019-06-30\n",
            "7    2019-07-31\n",
            "8    2019-08-31\n",
            "9    2019-09-30\n",
            "10   2019-10-31\n",
            "11   2019-11-30\n",
            "12   2019-12-31\n",
            "dtype: datetime64[ns]\n"
          ],
          "name": "stdout"
        }
      ]
    },
    {
      "cell_type": "code",
      "metadata": {
        "id": "lP_TVFYXf--i",
        "colab": {
          "base_uri": "https://localhost:8080/",
          "height": 34
        },
        "outputId": "2dde7bd0-4100-4180-c1e9-3fa05bfd108f"
      },
      "source": [
        "# count number of months to be retrieved\n",
        "total_months = len(list_mon_begin)\n",
        "print(total_months)"
      ],
      "execution_count": null,
      "outputs": [
        {
          "output_type": "stream",
          "text": [
            "12\n"
          ],
          "name": "stdout"
        }
      ]
    },
    {
      "cell_type": "code",
      "metadata": {
        "id": "UqDjgWcRgFfx"
      },
      "source": [
        "# initialize df_hist to store return data\n",
        "df_hist = pd.DataFrame()"
      ],
      "execution_count": null,
      "outputs": []
    },
    {
      "cell_type": "code",
      "metadata": {
        "id": "d0lVovaaidlS"
      },
      "source": [
        "frequency=24\n",
        "api_key = '32592a945e274a5ebb0225523201107'\n",
        "location_list = ['New+York']\n",
        "response_cache_path=None\n",
        "location='New+York'"
      ],
      "execution_count": null,
      "outputs": []
    },
    {
      "cell_type": "code",
      "metadata": {
        "id": "BFCD8fRVj8SY"
      },
      "source": [
        "import urllib\n",
        "import json\n",
        "import os"
      ],
      "execution_count": null,
      "outputs": []
    },
    {
      "cell_type": "markdown",
      "metadata": {
        "id": "_Z9u5gi5lWSv"
      },
      "source": [
        "JSON is a syntax for storing and exchanging data.\n",
        "JSON is text, written with JavaScript object notation.\n",
        "\n",
        "If you have a JSON string, you can parse it by using the `json.loads()` method. **The result will be a Python dictionary.**\n",
        "\n",
        "If you have a Python object, you can convert it into a JSON string by using the `json.dumps()` method."
      ]
    },
    {
      "cell_type": "code",
      "metadata": {
        "id": "k4CQILr_ol2F",
        "colab": {
          "base_uri": "https://localhost:8080/",
          "height": 34
        },
        "outputId": "532f4ad2-0ccf-4860-e188-d42e9d4b375a"
      },
      "source": [
        "import json\n",
        "# some JSON:\n",
        "x =  '{ \"name\":\"John\", \"age\":30, \"city\":\"New York\"}'\n",
        "# parse x:\n",
        "y = json.loads(x)\n",
        "# the result is a Python dictionary:\n",
        "print(y[\"age\"])"
      ],
      "execution_count": null,
      "outputs": [
        {
          "output_type": "stream",
          "text": [
            "30\n"
          ],
          "name": "stdout"
        }
      ]
    },
    {
      "cell_type": "code",
      "metadata": {
        "id": "css-wJlxodHm",
        "colab": {
          "base_uri": "https://localhost:8080/",
          "height": 34
        },
        "outputId": "ba5e808f-9047-4530-c0c3-59841f25b013"
      },
      "source": [
        "print(y)"
      ],
      "execution_count": null,
      "outputs": [
        {
          "output_type": "stream",
          "text": [
            "{'name': 'John', 'age': 30, 'city': 'New York'}\n"
          ],
          "name": "stdout"
        }
      ]
    },
    {
      "cell_type": "code",
      "metadata": {
        "id": "iHTo54IbpUaO",
        "colab": {
          "base_uri": "https://localhost:8080/",
          "height": 54
        },
        "outputId": "4a9c4991-0557-4d93-9b6c-83e150b277c4"
      },
      "source": [
        "import json\n",
        "x = {\n",
        "  \"name\": \"John\",\n",
        "  \"age\": 30,\n",
        "  \"married\": True,\n",
        "  \"divorced\": False,\n",
        "  \"children\": (\"Ann\",\"Billy\"),\n",
        "  \"pets\": None,\n",
        "  \"cars\": [\n",
        "    {\"model\": \"BMW 230\", \"mpg\": 27.5},\n",
        "    {\"model\": \"Ford Edge\", \"mpg\": 24.1}\n",
        "  ]\n",
        "}\n",
        "# convert into JSON:\n",
        "y = json.dumps(x)\n",
        "# the result is a JSON string:\n",
        "print(y)"
      ],
      "execution_count": null,
      "outputs": [
        {
          "output_type": "stream",
          "text": [
            "{\"name\": \"John\", \"age\": 30, \"married\": true, \"divorced\": false, \"children\": [\"Ann\", \"Billy\"], \"pets\": null, \"cars\": [{\"model\": \"BMW 230\", \"mpg\": 27.5}, {\"model\": \"Ford Edge\", \"mpg\": 24.1}]}\n"
          ],
          "name": "stdout"
        }
      ]
    },
    {
      "cell_type": "markdown",
      "metadata": {
        "id": "mD-J8I39qllG"
      },
      "source": [
        "`urllib` is a package that collects several modules for working with URLs ([Help](https://docs.python.org/3/library/urllib.html)):\n",
        "* `urllib.request` for opening and reading URLs\n",
        "* `urllib.error` containing the exceptions raised by urllib.request\n",
        "* `urllib.parse` for parsing URLs\n",
        "* `urllib.robotparser` for parsing robots.txt files"
      ]
    },
    {
      "cell_type": "code",
      "metadata": {
        "id": "JNwUk3rYumtW",
        "colab": {
          "base_uri": "https://localhost:8080/",
          "height": 54
        },
        "outputId": "0223384d-1ae5-4e83-b0bb-4b4dac54e85e"
      },
      "source": [
        "with urllib.request.urlopen('http://api.worldweatheronline.com/premium/v1/past-weather.ashx?key=32592a945e274a5ebb0225523201107&q=New+York&format=json&date=2018-12-11&enddate=2018-12-12&tp=24') as response:\n",
        "   html = response.read()\n",
        "\n",
        "print(html)"
      ],
      "execution_count": null,
      "outputs": [
        {
          "output_type": "stream",
          "text": [
            "b'{\"data\":{\"request\":[{\"type\":\"City\",\"query\":\"New York, United States of America\"}],\"weather\":[{\"date\":\"2018-12-11\",\"astronomy\":[{\"sunrise\":\"08:10 AM\",\"sunset\":\"05:29 PM\",\"moonrise\":\"11:28 AM\",\"moonset\":\"09:29 PM\",\"moon_phase\":\"Waxing Crescent\",\"moon_illumination\":\"21\"}],\"maxtempC\":\"4\",\"maxtempF\":\"38\",\"mintempC\":\"-1\",\"mintempF\":\"30\",\"avgtempC\":\"1\",\"avgtempF\":\"34\",\"totalSnow_cm\":\"0.0\",\"sunHour\":\"8.7\",\"uvIndex\":\"2\",\"hourly\":[{\"time\":\"24\",\"tempC\":\"4\",\"tempF\":\"38\",\"windspeedMiles\":\"6\",\"windspeedKmph\":\"10\",\"winddirDegree\":\"144\",\"winddir16Point\":\"SE\",\"weatherCode\":\"113\",\"weatherIconUrl\":[{\"value\":\"http://cdn.worldweatheronline.com/images/wsymbols01_png_64/wsymbol_0001_sunny.png\"}],\"weatherDesc\":[{\"value\":\"Sunny\"}],\"precipMM\":\"0.0\",\"precipInches\":\"0.0\",\"humidity\":\"57\",\"visibility\":\"10\",\"visibilityMiles\":\"6\",\"pressure\":\"1019\",\"pressureInches\":\"31\",\"cloudcover\":\"2\",\"HeatIndexC\":\"4\",\"HeatIndexF\":\"39\",\"DewPointC\":\"-4\",\"DewPointF\":\"25\",\"WindChillC\":\"1\",\"WindChillF\":\"35\",\"WindGustMiles\":\"8\",\"WindGustKmph\":\"12\",\"FeelsLikeC\":\"1\",\"FeelsLikeF\":\"35\",\"uvIndex\":\"2\"}]},{\"date\":\"2018-12-12\",\"astronomy\":[{\"sunrise\":\"08:11 AM\",\"sunset\":\"05:29 PM\",\"moonrise\":\"12:03 PM\",\"moonset\":\"10:25 PM\",\"moon_phase\":\"Waxing Crescent\",\"moon_illumination\":\"29\"}],\"maxtempC\":\"4\",\"maxtempF\":\"40\",\"mintempC\":\"1\",\"mintempF\":\"33\",\"avgtempC\":\"2\",\"avgtempF\":\"36\",\"totalSnow_cm\":\"0.0\",\"sunHour\":\"8.7\",\"uvIndex\":\"2\",\"hourly\":[{\"time\":\"24\",\"tempC\":\"4\",\"tempF\":\"40\",\"windspeedMiles\":\"8\",\"windspeedKmph\":\"13\",\"winddirDegree\":\"275\",\"winddir16Point\":\"W\",\"weatherCode\":\"113\",\"weatherIconUrl\":[{\"value\":\"http://cdn.worldweatheronline.com/images/wsymbols01_png_64/wsymbol_0001_sunny.png\"}],\"weatherDesc\":[{\"value\":\"Sunny\"}],\"precipMM\":\"0.0\",\"precipInches\":\"0.0\",\"humidity\":\"60\",\"visibility\":\"10\",\"visibilityMiles\":\"6\",\"pressure\":\"1020\",\"pressureInches\":\"31\",\"cloudcover\":\"18\",\"HeatIndexC\":\"3\",\"HeatIndexF\":\"37\",\"DewPointC\":\"-4\",\"DewPointF\":\"24\",\"WindChillC\":\"-1\",\"WindChillF\":\"31\",\"WindGustMiles\":\"11\",\"WindGustKmph\":\"18\",\"FeelsLikeC\":\"-1\",\"FeelsLikeF\":\"31\",\"uvIndex\":\"2\"}]}]}}'\n"
          ],
          "name": "stdout"
        }
      ]
    },
    {
      "cell_type": "markdown",
      "metadata": {
        "id": "zOO68mfPZMNy"
      },
      "source": [
        ""
      ]
    },
    {
      "cell_type": "markdown",
      "metadata": {
        "id": "7yrNVsa0sgH4"
      },
      "source": [
        "OS module in Python provides functions for interacting with the operating system. \n",
        "\n",
        "`os.path.exists()` method in Python is used to check whether the specified path exists or not. This method can be also used to check whether the given path refers to an open file descriptor or not.\n",
        "\n",
        "Return Type: This method returns a Boolean value of class bool. This method returns True if path exists otherwise returns False."
      ]
    },
    {
      "cell_type": "code",
      "metadata": {
        "id": "zv1Er4IBwzdM"
      },
      "source": [
        ""
      ],
      "execution_count": null,
      "outputs": []
    },
    {
      "cell_type": "markdown",
      "metadata": {
        "id": "uqqvO8ROpzW4"
      },
      "source": [
        "# Seguimos..."
      ]
    },
    {
      "cell_type": "code",
      "metadata": {
        "id": "_lYZT1LuiKZR"
      },
      "source": [
        "    for m in range(total_months):\n",
        "        start_d = str(list_mon_begin[m])[:10]\n",
        "        end_d = str(list_mon_end[m])[:10]\n",
        "        print(f'Esto es m {m}')\n",
        "        print(f'Esto es start_d {start_d}')\n",
        "        print(f'Esto es end_d {end_d}')\n"
      ],
      "execution_count": null,
      "outputs": []
    },
    {
      "cell_type": "code",
      "metadata": {
        "id": "DXCXOdXhrA7i",
        "colab": {
          "base_uri": "https://localhost:8080/",
          "height": 230
        },
        "outputId": "a42c77f7-2a47-44e1-c4b1-862d1c8954b4"
      },
      "source": [
        "    for m in range(total_months):\n",
        "        start_d = str(list_mon_begin[m])[:10]\n",
        "        end_d = str(list_mon_end[m])[:10]\n",
        "        file_path = f'{response_cache_path}/{location}_{start_d}_{end_d}'\n",
        "        if response_cache_path and os.path.exists(file_path):\n",
        "            print('Reading cached data for ' + location + ': from ' + start_d + ' to ' + end_d)\n",
        "            with open(f'{response_cache_path}/{location}_{start_d}_{end_d}', 'r') as f:\n",
        "                json_data = json.load(f)\n",
        "        else:\n",
        "            print('Currently retrieving data for ' + location + ': from ' + start_d + ' to ' + end_d)\n",
        "            url_page = 'http://api.worldweatheronline.com/premium/v1/past-weather.ashx?key=' + api_key + '&q=' + location + '&format=json&date=' + start_d + '&enddate=' + end_d + '&tp=' + str(\n",
        "                frequency)\n",
        "            json_page = urllib.request.urlopen(url_page, timeout=10)\n",
        "            json_data = json.loads(json_page.read().decode())\n",
        "            "
      ],
      "execution_count": null,
      "outputs": [
        {
          "output_type": "stream",
          "text": [
            "Currently retrieving data for New+York: from 2018-12-11 to 2018-12-31\n",
            "Currently retrieving data for New+York: from 2019-01-01 to 2019-01-31\n",
            "Currently retrieving data for New+York: from 2019-02-01 to 2019-02-28\n",
            "Currently retrieving data for New+York: from 2019-03-01 to 2019-03-31\n",
            "Currently retrieving data for New+York: from 2019-04-01 to 2019-04-30\n",
            "Currently retrieving data for New+York: from 2019-05-01 to 2019-05-31\n",
            "Currently retrieving data for New+York: from 2019-06-01 to 2019-06-30\n",
            "Currently retrieving data for New+York: from 2019-07-01 to 2019-07-31\n",
            "Currently retrieving data for New+York: from 2019-08-01 to 2019-08-31\n",
            "Currently retrieving data for New+York: from 2019-09-01 to 2019-09-30\n",
            "Currently retrieving data for New+York: from 2019-10-01 to 2019-10-31\n",
            "Currently retrieving data for New+York: from 2019-11-01 to 2019-11-30\n"
          ],
          "name": "stdout"
        }
      ]
    },
    {
      "cell_type": "code",
      "metadata": {
        "id": "T8Fa6LF1uHM4",
        "colab": {
          "base_uri": "https://localhost:8080/",
          "height": 54
        },
        "outputId": "27ce9987-cf3b-415a-ffc0-9eddd2e4f1f7"
      },
      "source": [
        "print(json_data)"
      ],
      "execution_count": null,
      "outputs": [
        {
          "output_type": "stream",
          "text": [
            "{'data': {'request': [{'type': 'City', 'query': 'New York, United States of America'}], 'weather': [{'date': '2019-11-01', 'astronomy': [{'sunrise': '07:26 AM', 'sunset': '05:53 PM', 'moonrise': '12:12 PM', 'moonset': '09:39 PM', 'moon_phase': 'Waxing Crescent', 'moon_illumination': '24'}], 'maxtempC': '12', 'maxtempF': '54', 'mintempC': '8', 'mintempF': '46', 'avgtempC': '11', 'avgtempF': '51', 'totalSnow_cm': '0.0', 'sunHour': '8.7', 'uvIndex': '4', 'hourly': [{'time': '24', 'tempC': '12', 'tempF': '54', 'windspeedMiles': '17', 'windspeedKmph': '27', 'winddirDegree': '286', 'winddir16Point': 'WNW', 'weatherCode': '113', 'weatherIconUrl': [{'value': 'http://cdn.worldweatheronline.com/images/wsymbols01_png_64/wsymbol_0001_sunny.png'}], 'weatherDesc': [{'value': 'Sunny'}], 'precipMM': '7.4', 'precipInches': '0.3', 'humidity': '46', 'visibility': '10', 'visibilityMiles': '5', 'pressure': '1017', 'pressureInches': '31', 'cloudcover': '29', 'HeatIndexC': '10', 'HeatIndexF': '51', 'DewPointC': '-1', 'DewPointF': '31', 'WindChillC': '7', 'WindChillF': '45', 'WindGustMiles': '21', 'WindGustKmph': '33', 'FeelsLikeC': '7', 'FeelsLikeF': '45', 'uvIndex': '4'}]}, {'date': '2019-11-02', 'astronomy': [{'sunrise': '07:28 AM', 'sunset': '05:52 PM', 'moonrise': '01:04 PM', 'moonset': '10:35 PM', 'moon_phase': 'Waxing Crescent', 'moon_illumination': '31'}], 'maxtempC': '13', 'maxtempF': '55', 'mintempC': '9', 'mintempF': '47', 'avgtempC': '11', 'avgtempF': '52', 'totalSnow_cm': '0.0', 'sunHour': '8.7', 'uvIndex': '4', 'hourly': [{'time': '24', 'tempC': '13', 'tempF': '55', 'windspeedMiles': '6', 'windspeedKmph': '9', 'winddirDegree': '143', 'winddir16Point': 'SE', 'weatherCode': '116', 'weatherIconUrl': [{'value': 'http://cdn.worldweatheronline.com/images/wsymbols01_png_64/wsymbol_0002_sunny_intervals.png'}], 'weatherDesc': [{'value': 'Partly cloudy'}], 'precipMM': '0.1', 'precipInches': '0.0', 'humidity': '53', 'visibility': '10', 'visibilityMiles': '6', 'pressure': '1021', 'pressureInches': '31', 'cloudcover': '13', 'HeatIndexC': '11', 'HeatIndexF': '51', 'DewPointC': '2', 'DewPointF': '35', 'WindChillC': '10', 'WindChillF': '49', 'WindGustMiles': '7', 'WindGustKmph': '11', 'FeelsLikeC': '10', 'FeelsLikeF': '49', 'uvIndex': '4'}]}, {'date': '2019-11-03', 'astronomy': [{'sunrise': '07:29 AM', 'sunset': '05:50 PM', 'moonrise': '01:49 PM', 'moonset': '11:33 PM', 'moon_phase': 'Waxing Crescent', 'moon_illumination': '39'}], 'maxtempC': '12', 'maxtempF': '54', 'mintempC': '8', 'mintempF': '47', 'avgtempC': '10', 'avgtempF': '50', 'totalSnow_cm': '0.0', 'sunHour': '8.7', 'uvIndex': '4', 'hourly': [{'time': '24', 'tempC': '12', 'tempF': '54', 'windspeedMiles': '9', 'windspeedKmph': '15', 'winddirDegree': '279', 'winddir16Point': 'W', 'weatherCode': '116', 'weatherIconUrl': [{'value': 'http://cdn.worldweatheronline.com/images/wsymbols01_png_64/wsymbol_0002_sunny_intervals.png'}], 'weatherDesc': [{'value': 'Partly cloudy'}], 'precipMM': '0.1', 'precipInches': '0.0', 'humidity': '49', 'visibility': '10', 'visibilityMiles': '6', 'pressure': '1020', 'pressureInches': '31', 'cloudcover': '14', 'HeatIndexC': '10', 'HeatIndexF': '49', 'DewPointC': '-1', 'DewPointF': '31', 'WindChillC': '7', 'WindChillF': '45', 'WindGustMiles': '12', 'WindGustKmph': '19', 'FeelsLikeC': '7', 'FeelsLikeF': '45', 'uvIndex': '4'}]}, {'date': '2019-11-04', 'astronomy': [{'sunrise': '07:30 AM', 'sunset': '05:49 PM', 'moonrise': '02:27 PM', 'moonset': 'No moonset', 'moon_phase': 'First Quarter', 'moon_illumination': '46'}], 'maxtempC': '13', 'maxtempF': '55', 'mintempC': '8', 'mintempF': '46', 'avgtempC': '11', 'avgtempF': '52', 'totalSnow_cm': '0.0', 'sunHour': '8.7', 'uvIndex': '3', 'hourly': [{'time': '24', 'tempC': '13', 'tempF': '55', 'windspeedMiles': '8', 'windspeedKmph': '13', 'winddirDegree': '178', 'winddir16Point': 'S', 'weatherCode': '122', 'weatherIconUrl': [{'value': 'http://cdn.worldweatheronline.com/images/wsymbols01_png_64/wsymbol_0004_black_low_cloud.png'}], 'weatherDesc': [{'value': 'Overcast'}], 'precipMM': '0.0', 'precipInches': '0.0', 'humidity': '46', 'visibility': '10', 'visibilityMiles': '6', 'pressure': '1027', 'pressureInches': '31', 'cloudcover': '33', 'HeatIndexC': '11', 'HeatIndexF': '51', 'DewPointC': '-1', 'DewPointF': '31', 'WindChillC': '9', 'WindChillF': '49', 'WindGustMiles': '10', 'WindGustKmph': '17', 'FeelsLikeC': '9', 'FeelsLikeF': '49', 'uvIndex': '3'}]}, {'date': '2019-11-05', 'astronomy': [{'sunrise': '07:31 AM', 'sunset': '05:48 PM', 'moonrise': '03:00 PM', 'moonset': '12:32 AM', 'moon_phase': 'First Quarter', 'moon_illumination': '54'}], 'maxtempC': '16', 'maxtempF': '60', 'mintempC': '12', 'mintempF': '53', 'avgtempC': '14', 'avgtempF': '58', 'totalSnow_cm': '0.0', 'sunHour': '3.8', 'uvIndex': '3', 'hourly': [{'time': '24', 'tempC': '16', 'tempF': '60', 'windspeedMiles': '10', 'windspeedKmph': '17', 'winddirDegree': '234', 'winddir16Point': 'SW', 'weatherCode': '353', 'weatherIconUrl': [{'value': 'http://cdn.worldweatheronline.com/images/wsymbols01_png_64/wsymbol_0009_light_rain_showers.png'}], 'weatherDesc': [{'value': 'Light rain shower'}], 'precipMM': '2.3', 'precipInches': '0.1', 'humidity': '65', 'visibility': '10', 'visibilityMiles': '6', 'pressure': '1022', 'pressureInches': '31', 'cloudcover': '55', 'HeatIndexC': '13', 'HeatIndexF': '56', 'DewPointC': '7', 'DewPointF': '44', 'WindChillC': '12', 'WindChillF': '54', 'WindGustMiles': '15', 'WindGustKmph': '25', 'FeelsLikeC': '12', 'FeelsLikeF': '54', 'uvIndex': '3'}]}, {'date': '2019-11-06', 'astronomy': [{'sunrise': '07:32 AM', 'sunset': '05:47 PM', 'moonrise': '03:29 PM', 'moonset': '01:31 AM', 'moon_phase': 'First Quarter', 'moon_illumination': '61'}], 'maxtempC': '14', 'maxtempF': '57', 'mintempC': '7', 'mintempF': '45', 'avgtempC': '11', 'avgtempF': '51', 'totalSnow_cm': '0.0', 'sunHour': '8.7', 'uvIndex': '4', 'hourly': [{'time': '24', 'tempC': '14', 'tempF': '57', 'windspeedMiles': '8', 'windspeedKmph': '13', 'winddirDegree': '295', 'winddir16Point': 'WNW', 'weatherCode': '116', 'weatherIconUrl': [{'value': 'http://cdn.worldweatheronline.com/images/wsymbols01_png_64/wsymbol_0002_sunny_intervals.png'}], 'weatherDesc': [{'value': 'Partly cloudy'}], 'precipMM': '0.0', 'precipInches': '0.0', 'humidity': '47', 'visibility': '10', 'visibilityMiles': '6', 'pressure': '1028', 'pressureInches': '31', 'cloudcover': '7', 'HeatIndexC': '11', 'HeatIndexF': '51', 'DewPointC': '-0', 'DewPointF': '31', 'WindChillC': '9', 'WindChillF': '48', 'WindGustMiles': '10', 'WindGustKmph': '16', 'FeelsLikeC': '9', 'FeelsLikeF': '48', 'uvIndex': '4'}]}, {'date': '2019-11-07', 'astronomy': [{'sunrise': '07:33 AM', 'sunset': '05:46 PM', 'moonrise': '03:55 PM', 'moonset': '02:29 AM', 'moon_phase': 'Waxing Gibbous', 'moon_illumination': '69'}], 'maxtempC': '14', 'maxtempF': '56', 'mintempC': '7', 'mintempF': '45', 'avgtempC': '12', 'avgtempF': '53', 'totalSnow_cm': '0.0', 'sunHour': '5.4', 'uvIndex': '3', 'hourly': [{'time': '24', 'tempC': '14', 'tempF': '56', 'windspeedMiles': '10', 'windspeedKmph': '16', 'winddirDegree': '233', 'winddir16Point': 'SW', 'weatherCode': '266', 'weatherIconUrl': [{'value': 'http://cdn.worldweatheronline.com/images/wsymbols01_png_64/wsymbol_0017_cloudy_with_light_rain.png'}], 'weatherDesc': [{'value': 'Light drizzle'}], 'precipMM': '4.4', 'precipInches': '0.2', 'humidity': '59', 'visibility': '8', 'visibilityMiles': '4', 'pressure': '1021', 'pressureInches': '31', 'cloudcover': '63', 'HeatIndexC': '11', 'HeatIndexF': '51', 'DewPointC': '3', 'DewPointF': '37', 'WindChillC': '9', 'WindChillF': '48', 'WindGustMiles': '14', 'WindGustKmph': '22', 'FeelsLikeC': '9', 'FeelsLikeF': '48', 'uvIndex': '3'}]}, {'date': '2019-11-08', 'astronomy': [{'sunrise': '07:35 AM', 'sunset': '05:45 PM', 'moonrise': '04:19 PM', 'moonset': '03:28 AM', 'moon_phase': 'Waxing Gibbous', 'moon_illumination': '76'}], 'maxtempC': '5', 'maxtempF': '41', 'mintempC': '-0', 'mintempF': '32', 'avgtempC': '3', 'avgtempF': '38', 'totalSnow_cm': '0.0', 'sunHour': '8.7', 'uvIndex': '2', 'hourly': [{'time': '24', 'tempC': '5', 'tempF': '41', 'windspeedMiles': '15', 'windspeedKmph': '24', 'winddirDegree': '327', 'winddir16Point': 'NNW', 'weatherCode': '116', 'weatherIconUrl': [{'value': 'http://cdn.worldweatheronline.com/images/wsymbols01_png_64/wsymbol_0002_sunny_intervals.png'}], 'weatherDesc': [{'value': 'Partly cloudy'}], 'precipMM': '0.4', 'precipInches': '0.0', 'humidity': '42', 'visibility': '10', 'visibilityMiles': '6', 'pressure': '1021', 'pressureInches': '31', 'cloudcover': '14', 'HeatIndexC': '3', 'HeatIndexF': '37', 'DewPointC': '-9', 'DewPointF': '16', 'WindChillC': '-2', 'WindChillF': '28', 'WindGustMiles': '18', 'WindGustKmph': '29', 'FeelsLikeC': '-2', 'FeelsLikeF': '28', 'uvIndex': '2'}]}, {'date': '2019-11-09', 'astronomy': [{'sunrise': '07:36 AM', 'sunset': '05:44 PM', 'moonrise': '04:44 PM', 'moonset': '04:26 AM', 'moon_phase': 'Waxing Gibbous', 'moon_illumination': '84'}], 'maxtempC': '6', 'maxtempF': '42', 'mintempC': '0', 'mintempF': '32', 'avgtempC': '3', 'avgtempF': '38', 'totalSnow_cm': '0.0', 'sunHour': '7.1', 'uvIndex': '1', 'hourly': [{'time': '24', 'tempC': '6', 'tempF': '42', 'windspeedMiles': '7', 'windspeedKmph': '11', 'winddirDegree': '169', 'winddir16Point': 'S', 'weatherCode': '122', 'weatherIconUrl': [{'value': 'http://cdn.worldweatheronline.com/images/wsymbols01_png_64/wsymbol_0004_black_low_cloud.png'}], 'weatherDesc': [{'value': 'Overcast'}], 'precipMM': '0.0', 'precipInches': '0.0', 'humidity': '41', 'visibility': '10', 'visibilityMiles': '6', 'pressure': '1026', 'pressureInches': '31', 'cloudcover': '32', 'HeatIndexC': '3', 'HeatIndexF': '37', 'DewPointC': '-9', 'DewPointF': '16', 'WindChillC': '0', 'WindChillF': '32', 'WindGustMiles': '9', 'WindGustKmph': '14', 'FeelsLikeC': '0', 'FeelsLikeF': '32', 'uvIndex': '1'}]}, {'date': '2019-11-10', 'astronomy': [{'sunrise': '07:37 AM', 'sunset': '05:43 PM', 'moonrise': '05:09 PM', 'moonset': '05:25 AM', 'moon_phase': 'Waxing Gibbous', 'moon_illumination': '91'}], 'maxtempC': '11', 'maxtempF': '51', 'mintempC': '5', 'mintempF': '40', 'avgtempC': '8', 'avgtempF': '47', 'totalSnow_cm': '0.0', 'sunHour': '8.7', 'uvIndex': '3', 'hourly': [{'time': '24', 'tempC': '11', 'tempF': '51', 'windspeedMiles': '9', 'windspeedKmph': '14', 'winddirDegree': '232', 'winddir16Point': 'SW', 'weatherCode': '116', 'weatherIconUrl': [{'value': 'http://cdn.worldweatheronline.com/images/wsymbols01_png_64/wsymbol_0002_sunny_intervals.png'}], 'weatherDesc': [{'value': 'Partly cloudy'}], 'precipMM': '0.0', 'precipInches': '0.0', 'humidity': '48', 'visibility': '10', 'visibilityMiles': '6', 'pressure': '1019', 'pressureInches': '31', 'cloudcover': '30', 'HeatIndexC': '8', 'HeatIndexF': '46', 'DewPointC': '-3', 'DewPointF': '27', 'WindChillC': '5', 'WindChillF': '41', 'WindGustMiles': '12', 'WindGustKmph': '19', 'FeelsLikeC': '5', 'FeelsLikeF': '41', 'uvIndex': '3'}]}, {'date': '2019-11-11', 'astronomy': [{'sunrise': '07:38 AM', 'sunset': '05:42 PM', 'moonrise': '05:37 PM', 'moonset': '06:25 AM', 'moon_phase': 'Waxing Gibbous', 'moon_illumination': '99'}], 'maxtempC': '14', 'maxtempF': '56', 'mintempC': '8', 'mintempF': '46', 'avgtempC': '12', 'avgtempF': '53', 'totalSnow_cm': '0.0', 'sunHour': '8.7', 'uvIndex': '4', 'hourly': [{'time': '24', 'tempC': '14', 'tempF': '56', 'windspeedMiles': '3', 'windspeedKmph': '5', 'winddirDegree': '241', 'winddir16Point': 'WSW', 'weatherCode': '116', 'weatherIconUrl': [{'value': 'http://cdn.worldweatheronline.com/images/wsymbols01_png_64/wsymbol_0002_sunny_intervals.png'}], 'weatherDesc': [{'value': 'Partly cloudy'}], 'precipMM': '0.0', 'precipInches': '0.0', 'humidity': '68', 'visibility': '10', 'visibilityMiles': '6', 'pressure': '1017', 'pressureInches': '30', 'cloudcover': '23', 'HeatIndexC': '11', 'HeatIndexF': '52', 'DewPointC': '5', 'DewPointF': '42', 'WindChillC': '11', 'WindChillF': '52', 'WindGustMiles': '5', 'WindGustKmph': '8', 'FeelsLikeC': '11', 'FeelsLikeF': '52', 'uvIndex': '4'}]}, {'date': '2019-11-12', 'astronomy': [{'sunrise': '07:39 AM', 'sunset': '05:41 PM', 'moonrise': '06:07 PM', 'moonset': '07:28 AM', 'moon_phase': 'Full Moon', 'moon_illumination': '100'}], 'maxtempC': '12', 'maxtempF': '53', 'mintempC': '-2', 'mintempF': '28', 'avgtempC': '5', 'avgtempF': '41', 'totalSnow_cm': '2.1', 'sunHour': '3.8', 'uvIndex': '2', 'hourly': [{'time': '24', 'tempC': '12', 'tempF': '53', 'windspeedMiles': '14', 'windspeedKmph': '23', 'winddirDegree': '315', 'winddir16Point': 'NW', 'weatherCode': '335', 'weatherIconUrl': [{'value': 'http://cdn.worldweatheronline.com/images/wsymbols01_png_64/wsymbol_0012_heavy_snow_showers.png'}], 'weatherDesc': [{'value': 'Patchy heavy snow'}], 'precipMM': '6.3', 'precipInches': '0.2', 'humidity': '60', 'visibility': '7', 'visibilityMiles': '4', 'pressure': '1012', 'pressureInches': '30', 'cloudcover': '67', 'HeatIndexC': '5', 'HeatIndexF': '41', 'DewPointC': '-2', 'DewPointF': '28', 'WindChillC': '1', 'WindChillF': '34', 'WindGustMiles': '19', 'WindGustKmph': '30', 'FeelsLikeC': '1', 'FeelsLikeF': '34', 'uvIndex': '2'}]}, {'date': '2019-11-13', 'astronomy': [{'sunrise': '07:41 AM', 'sunset': '05:40 PM', 'moonrise': '06:42 PM', 'moonset': '08:31 AM', 'moon_phase': 'Waxing Gibbous', 'moon_illumination': '86'}], 'maxtempC': '1', 'maxtempF': '33', 'mintempC': '-3', 'mintempF': '26', 'avgtempC': '-1', 'avgtempF': '30', 'totalSnow_cm': '0.0', 'sunHour': '8.7', 'uvIndex': '2', 'hourly': [{'time': '24', 'tempC': '1', 'tempF': '33', 'windspeedMiles': '11', 'windspeedKmph': '18', 'winddirDegree': '321', 'winddir16Point': 'NW', 'weatherCode': '116', 'weatherIconUrl': [{'value': 'http://cdn.worldweatheronline.com/images/wsymbols01_png_64/wsymbol_0002_sunny_intervals.png'}], 'weatherDesc': [{'value': 'Partly cloudy'}], 'precipMM': '0.0', 'precipInches': '0.0', 'humidity': '35', 'visibility': '10', 'visibilityMiles': '6', 'pressure': '1027', 'pressureInches': '31', 'cloudcover': '9', 'HeatIndexC': '-1', 'HeatIndexF': '30', 'DewPointC': '-15', 'DewPointF': '5', 'WindChillC': '-6', 'WindChillF': '20', 'WindGustMiles': '14', 'WindGustKmph': '22', 'FeelsLikeC': '-6', 'FeelsLikeF': '20', 'uvIndex': '2'}]}, {'date': '2019-11-14', 'astronomy': [{'sunrise': '07:42 AM', 'sunset': '05:39 PM', 'moonrise': '07:23 PM', 'moonset': '09:35 AM', 'moon_phase': 'Waxing Gibbous', 'moon_illumination': '78'}], 'maxtempC': '7', 'maxtempF': '45', 'mintempC': '0', 'mintempF': '32', 'avgtempC': '5', 'avgtempF': '40', 'totalSnow_cm': '0.0', 'sunHour': '8.7', 'uvIndex': '2', 'hourly': [{'time': '24', 'tempC': '7', 'tempF': '45', 'windspeedMiles': '7', 'windspeedKmph': '11', 'winddirDegree': '212', 'winddir16Point': 'SSW', 'weatherCode': '116', 'weatherIconUrl': [{'value': 'http://cdn.worldweatheronline.com/images/wsymbols01_png_64/wsymbol_0002_sunny_intervals.png'}], 'weatherDesc': [{'value': 'Partly cloudy'}], 'precipMM': '0.0', 'precipInches': '0.0', 'humidity': '42', 'visibility': '10', 'visibilityMiles': '6', 'pressure': '1029', 'pressureInches': '31', 'cloudcover': '45', 'HeatIndexC': '4', 'HeatIndexF': '39', 'DewPointC': '-8', 'DewPointF': '18', 'WindChillC': '2', 'WindChillF': '35', 'WindGustMiles': '9', 'WindGustKmph': '14', 'FeelsLikeC': '2', 'FeelsLikeF': '35', 'uvIndex': '2'}]}, {'date': '2019-11-15', 'astronomy': [{'sunrise': '07:43 AM', 'sunset': '05:38 PM', 'moonrise': '08:11 PM', 'moonset': '10:37 AM', 'moon_phase': 'Waning Gibbous', 'moon_illumination': '71'}], 'maxtempC': '10', 'maxtempF': '51', 'mintempC': '4', 'mintempF': '40', 'avgtempC': '8', 'avgtempF': '46', 'totalSnow_cm': '0.0', 'sunHour': '8.7', 'uvIndex': '3', 'hourly': [{'time': '24', 'tempC': '10', 'tempF': '51', 'windspeedMiles': '8', 'windspeedKmph': '13', 'winddirDegree': '263', 'winddir16Point': 'W', 'weatherCode': '116', 'weatherIconUrl': [{'value': 'http://cdn.worldweatheronline.com/images/wsymbols01_png_64/wsymbol_0002_sunny_intervals.png'}], 'weatherDesc': [{'value': 'Partly cloudy'}], 'precipMM': '0.0', 'precipInches': '0.0', 'humidity': '48', 'visibility': '10', 'visibilityMiles': '6', 'pressure': '1024', 'pressureInches': '31', 'cloudcover': '16', 'HeatIndexC': '7', 'HeatIndexF': '44', 'DewPointC': '-4', 'DewPointF': '25', 'WindChillC': '4', 'WindChillF': '40', 'WindGustMiles': '10', 'WindGustKmph': '16', 'FeelsLikeC': '4', 'FeelsLikeF': '40', 'uvIndex': '3'}]}, {'date': '2019-11-16', 'astronomy': [{'sunrise': '07:44 AM', 'sunset': '05:38 PM', 'moonrise': '09:08 PM', 'moonset': '11:37 AM', 'moon_phase': 'Waning Gibbous', 'moon_illumination': '63'}], 'maxtempC': '4', 'maxtempF': '40', 'mintempC': '-0', 'mintempF': '32', 'avgtempC': '3', 'avgtempF': '37', 'totalSnow_cm': '0.0', 'sunHour': '8.7', 'uvIndex': '2', 'hourly': [{'time': '24', 'tempC': '4', 'tempF': '40', 'windspeedMiles': '14', 'windspeedKmph': '23', 'winddirDegree': '51', 'winddir16Point': 'NE', 'weatherCode': '113', 'weatherIconUrl': [{'value': 'http://cdn.worldweatheronline.com/images/wsymbols01_png_64/wsymbol_0001_sunny.png'}], 'weatherDesc': [{'value': 'Sunny'}], 'precipMM': '0.0', 'precipInches': '0.0', 'humidity': '35', 'visibility': '10', 'visibilityMiles': '6', 'pressure': '1029', 'pressureInches': '31', 'cloudcover': '4', 'HeatIndexC': '2', 'HeatIndexF': '36', 'DewPointC': '-13', 'DewPointF': '9', 'WindChillC': '-3', 'WindChillF': '27', 'WindGustMiles': '19', 'WindGustKmph': '30', 'FeelsLikeC': '-3', 'FeelsLikeF': '27', 'uvIndex': '2'}]}, {'date': '2019-11-17', 'astronomy': [{'sunrise': '07:45 AM', 'sunset': '05:37 PM', 'moonrise': '10:10 PM', 'moonset': '12:29 PM', 'moon_phase': 'Waning Gibbous', 'moon_illumination': '56'}], 'maxtempC': '6', 'maxtempF': '42', 'mintempC': '-4', 'mintempF': '24', 'avgtempC': '3', 'avgtempF': '37', 'totalSnow_cm': '0.0', 'sunHour': '3.7', 'uvIndex': '1', 'hourly': [{'time': '24', 'tempC': '6', 'tempF': '42', 'windspeedMiles': '12', 'windspeedKmph': '19', 'winddirDegree': '43', 'winddir16Point': 'NE', 'weatherCode': '122', 'weatherIconUrl': [{'value': 'http://cdn.worldweatheronline.com/images/wsymbols01_png_64/wsymbol_0004_black_low_cloud.png'}], 'weatherDesc': [{'value': 'Overcast'}], 'precipMM': '0.0', 'precipInches': '0.0', 'humidity': '58', 'visibility': '10', 'visibilityMiles': '6', 'pressure': '1025', 'pressureInches': '31', 'cloudcover': '71', 'HeatIndexC': '2', 'HeatIndexF': '35', 'DewPointC': '-5', 'DewPointF': '23', 'WindChillC': '-2', 'WindChillF': '28', 'WindGustMiles': '17', 'WindGustKmph': '27', 'FeelsLikeC': '-2', 'FeelsLikeF': '28', 'uvIndex': '1'}]}, {'date': '2019-11-18', 'astronomy': [{'sunrise': '07:46 AM', 'sunset': '05:36 PM', 'moonrise': '11:19 PM', 'moonset': '01:16 PM', 'moon_phase': 'Waning Gibbous', 'moon_illumination': '48'}], 'maxtempC': '5', 'maxtempF': '41', 'mintempC': '0', 'mintempF': '33', 'avgtempC': '5', 'avgtempF': '40', 'totalSnow_cm': '0.0', 'sunHour': '3.7', 'uvIndex': '1', 'hourly': [{'time': '24', 'tempC': '5', 'tempF': '41', 'windspeedMiles': '10', 'windspeedKmph': '16', 'winddirDegree': '11', 'winddir16Point': 'NNE', 'weatherCode': '266', 'weatherIconUrl': [{'value': 'http://cdn.worldweatheronline.com/images/wsymbols01_png_64/wsymbol_0017_cloudy_with_light_rain.png'}], 'weatherDesc': [{'value': 'Light drizzle'}], 'precipMM': '3.1', 'precipInches': '0.1', 'humidity': '76', 'visibility': '8', 'visibilityMiles': '4', 'pressure': '1011', 'pressureInches': '30', 'cloudcover': '99', 'HeatIndexC': '4', 'HeatIndexF': '40', 'DewPointC': '1', 'DewPointF': '33', 'WindChillC': '1', 'WindChillF': '33', 'WindGustMiles': '14', 'WindGustKmph': '22', 'FeelsLikeC': '1', 'FeelsLikeF': '33', 'uvIndex': '1'}]}, {'date': '2019-11-19', 'astronomy': [{'sunrise': '07:47 AM', 'sunset': '05:35 PM', 'moonrise': 'No moonrise', 'moonset': '01:57 PM', 'moon_phase': 'Last Quarter', 'moon_illumination': '41'}], 'maxtempC': '12', 'maxtempF': '54', 'mintempC': '5', 'mintempF': '40', 'avgtempC': '9', 'avgtempF': '48', 'totalSnow_cm': '0.0', 'sunHour': '8.7', 'uvIndex': '3', 'hourly': [{'time': '24', 'tempC': '12', 'tempF': '54', 'windspeedMiles': '6', 'windspeedKmph': '9', 'winddirDegree': '273', 'winddir16Point': 'W', 'weatherCode': '116', 'weatherIconUrl': [{'value': 'http://cdn.worldweatheronline.com/images/wsymbols01_png_64/wsymbol_0002_sunny_intervals.png'}], 'weatherDesc': [{'value': 'Partly cloudy'}], 'precipMM': '5.1', 'precipInches': '0.2', 'humidity': '69', 'visibility': '9', 'visibilityMiles': '5', 'pressure': '1009', 'pressureInches': '30', 'cloudcover': '63', 'HeatIndexC': '8', 'HeatIndexF': '46', 'DewPointC': '2', 'DewPointF': '36', 'WindChillC': '6', 'WindChillF': '43', 'WindGustMiles': '8', 'WindGustKmph': '12', 'FeelsLikeC': '6', 'FeelsLikeF': '43', 'uvIndex': '3'}]}, {'date': '2019-11-20', 'astronomy': [{'sunrise': '07:49 AM', 'sunset': '05:35 PM', 'moonrise': '12:29 AM', 'moonset': '02:32 PM', 'moon_phase': 'Last Quarter', 'moon_illumination': '33'}], 'maxtempC': '8', 'maxtempF': '46', 'mintempC': '4', 'mintempF': '40', 'avgtempC': '6', 'avgtempF': '43', 'totalSnow_cm': '0.0', 'sunHour': '3.7', 'uvIndex': '2', 'hourly': [{'time': '24', 'tempC': '8', 'tempF': '46', 'windspeedMiles': '10', 'windspeedKmph': '16', 'winddirDegree': '336', 'winddir16Point': 'NNW', 'weatherCode': '122', 'weatherIconUrl': [{'value': 'http://cdn.worldweatheronline.com/images/wsymbols01_png_64/wsymbol_0004_black_low_cloud.png'}], 'weatherDesc': [{'value': 'Overcast'}], 'precipMM': '0.0', 'precipInches': '0.0', 'humidity': '64', 'visibility': '10', 'visibilityMiles': '6', 'pressure': '1014', 'pressureInches': '30', 'cloudcover': '77', 'HeatIndexC': '6', 'HeatIndexF': '42', 'DewPointC': '-1', 'DewPointF': '31', 'WindChillC': '3', 'WindChillF': '37', 'WindGustMiles': '13', 'WindGustKmph': '21', 'FeelsLikeC': '3', 'FeelsLikeF': '37', 'uvIndex': '2'}]}, {'date': '2019-11-21', 'astronomy': [{'sunrise': '07:50 AM', 'sunset': '05:34 PM', 'moonrise': '01:41 AM', 'moonset': '03:04 PM', 'moon_phase': 'Last Quarter', 'moon_illumination': '26'}], 'maxtempC': '11', 'maxtempF': '52', 'mintempC': '4', 'mintempF': '39', 'avgtempC': '8', 'avgtempF': '47', 'totalSnow_cm': '0.0', 'sunHour': '8.7', 'uvIndex': '3', 'hourly': [{'time': '24', 'tempC': '11', 'tempF': '52', 'windspeedMiles': '7', 'windspeedKmph': '11', 'winddirDegree': '275', 'winddir16Point': 'W', 'weatherCode': '116', 'weatherIconUrl': [{'value': 'http://cdn.worldweatheronline.com/images/wsymbols01_png_64/wsymbol_0002_sunny_intervals.png'}], 'weatherDesc': [{'value': 'Partly cloudy'}], 'precipMM': '0.0', 'precipInches': '0.0', 'humidity': '58', 'visibility': '10', 'visibilityMiles': '6', 'pressure': '1020', 'pressureInches': '31', 'cloudcover': '19', 'HeatIndexC': '7', 'HeatIndexF': '45', 'DewPointC': '-0', 'DewPointF': '31', 'WindChillC': '5', 'WindChillF': '42', 'WindGustMiles': '9', 'WindGustKmph': '15', 'FeelsLikeC': '5', 'FeelsLikeF': '42', 'uvIndex': '3'}]}, {'date': '2019-11-22', 'astronomy': [{'sunrise': '07:51 AM', 'sunset': '05:33 PM', 'moonrise': '02:52 AM', 'moonset': '03:35 PM', 'moon_phase': 'Waning Crescent', 'moon_illumination': '18'}], 'maxtempC': '11', 'maxtempF': '52', 'mintempC': '4', 'mintempF': '39', 'avgtempC': '10', 'avgtempF': '49', 'totalSnow_cm': '0.0', 'sunHour': '5.4', 'uvIndex': '2', 'hourly': [{'time': '24', 'tempC': '11', 'tempF': '52', 'windspeedMiles': '15', 'windspeedKmph': '24', 'winddirDegree': '261', 'winddir16Point': 'W', 'weatherCode': '296', 'weatherIconUrl': [{'value': 'http://cdn.worldweatheronline.com/images/wsymbols01_png_64/wsymbol_0017_cloudy_with_light_rain.png'}], 'weatherDesc': [{'value': 'Light rain'}], 'precipMM': '7.5', 'precipInches': '0.3', 'humidity': '62', 'visibility': '10', 'visibilityMiles': '5', 'pressure': '1011', 'pressureInches': '30', 'cloudcover': '56', 'HeatIndexC': '8', 'HeatIndexF': '47', 'DewPointC': '1', 'DewPointF': '34', 'WindChillC': '5', 'WindChillF': '41', 'WindGustMiles': '21', 'WindGustKmph': '34', 'FeelsLikeC': '5', 'FeelsLikeF': '41', 'uvIndex': '2'}]}, {'date': '2019-11-23', 'astronomy': [{'sunrise': '07:52 AM', 'sunset': '05:33 PM', 'moonrise': '04:04 AM', 'moonset': '04:05 PM', 'moon_phase': 'Waning Crescent', 'moon_illumination': '10'}], 'maxtempC': '8', 'maxtempF': '46', 'mintempC': '2', 'mintempF': '36', 'avgtempC': '5', 'avgtempF': '42', 'totalSnow_cm': '0.0', 'sunHour': '8.7', 'uvIndex': '2', 'hourly': [{'time': '24', 'tempC': '8', 'tempF': '46', 'windspeedMiles': '7', 'windspeedKmph': '12', 'winddirDegree': '253', 'winddir16Point': 'WSW', 'weatherCode': '122', 'weatherIconUrl': [{'value': 'http://cdn.worldweatheronline.com/images/wsymbols01_png_64/wsymbol_0004_black_low_cloud.png'}], 'weatherDesc': [{'value': 'Overcast'}], 'precipMM': '0.5', 'precipInches': '0.0', 'humidity': '49', 'visibility': '9', 'visibilityMiles': '5', 'pressure': '1014', 'pressureInches': '30', 'cloudcover': '34', 'HeatIndexC': '5', 'HeatIndexF': '41', 'DewPointC': '-5', 'DewPointF': '23', 'WindChillC': '2', 'WindChillF': '36', 'WindGustMiles': '9', 'WindGustKmph': '15', 'FeelsLikeC': '2', 'FeelsLikeF': '36', 'uvIndex': '2'}]}, {'date': '2019-11-24', 'astronomy': [{'sunrise': '07:53 AM', 'sunset': '05:32 PM', 'moonrise': '05:17 AM', 'moonset': '04:37 PM', 'moon_phase': 'Waning Crescent', 'moon_illumination': '3'}], 'maxtempC': '9', 'maxtempF': '47', 'mintempC': '6', 'mintempF': '42', 'avgtempC': '8', 'avgtempF': '46', 'totalSnow_cm': '0.0', 'sunHour': '3.7', 'uvIndex': '2', 'hourly': [{'time': '24', 'tempC': '9', 'tempF': '47', 'windspeedMiles': '14', 'windspeedKmph': '22', 'winddirDegree': '215', 'winddir16Point': 'SW', 'weatherCode': '389', 'weatherIconUrl': [{'value': 'http://cdn.worldweatheronline.com/images/wsymbols01_png_64/wsymbol_0024_thunderstorms.png'}], 'weatherDesc': [{'value': 'Moderate or heavy rain with thunder'}], 'precipMM': '47.1', 'precipInches': '1.9', 'humidity': '80', 'visibility': '7', 'visibilityMiles': '4', 'pressure': '998', 'pressureInches': '30', 'cloudcover': '84', 'HeatIndexC': '7', 'HeatIndexF': '44', 'DewPointC': '4', 'DewPointF': '38', 'WindChillC': '3', 'WindChillF': '38', 'WindGustMiles': '20', 'WindGustKmph': '32', 'FeelsLikeC': '3', 'FeelsLikeF': '38', 'uvIndex': '2'}]}, {'date': '2019-11-25', 'astronomy': [{'sunrise': '07:54 AM', 'sunset': '05:32 PM', 'moonrise': '06:29 AM', 'moonset': '05:12 PM', 'moon_phase': 'New Moon', 'moon_illumination': '0'}], 'maxtempC': '11', 'maxtempF': '51', 'mintempC': '4', 'mintempF': '40', 'avgtempC': '8', 'avgtempF': '46', 'totalSnow_cm': '0.0', 'sunHour': '8.7', 'uvIndex': '3', 'hourly': [{'time': '24', 'tempC': '11', 'tempF': '51', 'windspeedMiles': '8', 'windspeedKmph': '13', 'winddirDegree': '240', 'winddir16Point': 'WSW', 'weatherCode': '116', 'weatherIconUrl': [{'value': 'http://cdn.worldweatheronline.com/images/wsymbols01_png_64/wsymbol_0002_sunny_intervals.png'}], 'weatherDesc': [{'value': 'Partly cloudy'}], 'precipMM': '0.0', 'precipInches': '0.0', 'humidity': '67', 'visibility': '10', 'visibilityMiles': '6', 'pressure': '1009', 'pressureInches': '30', 'cloudcover': '12', 'HeatIndexC': '7', 'HeatIndexF': '45', 'DewPointC': '2', 'DewPointF': '35', 'WindChillC': '5', 'WindChillF': '41', 'WindGustMiles': '11', 'WindGustKmph': '17', 'FeelsLikeC': '5', 'FeelsLikeF': '41', 'uvIndex': '3'}]}, {'date': '2019-11-26', 'astronomy': [{'sunrise': '07:55 AM', 'sunset': '05:31 PM', 'moonrise': '07:42 AM', 'moonset': '05:51 PM', 'moon_phase': 'New Moon', 'moon_illumination': '0'}], 'maxtempC': '14', 'maxtempF': '58', 'mintempC': '6', 'mintempF': '42', 'avgtempC': '11', 'avgtempF': '51', 'totalSnow_cm': '0.0', 'sunHour': '8.7', 'uvIndex': '4', 'hourly': [{'time': '24', 'tempC': '14', 'tempF': '58', 'windspeedMiles': '6', 'windspeedKmph': '9', 'winddirDegree': '220', 'winddir16Point': 'SW', 'weatherCode': '116', 'weatherIconUrl': [{'value': 'http://cdn.worldweatheronline.com/images/wsymbols01_png_64/wsymbol_0002_sunny_intervals.png'}], 'weatherDesc': [{'value': 'Partly cloudy'}], 'precipMM': '0.0', 'precipInches': '0.0', 'humidity': '70', 'visibility': '10', 'visibilityMiles': '6', 'pressure': '1016', 'pressureInches': '30', 'cloudcover': '15', 'HeatIndexC': '10', 'HeatIndexF': '50', 'DewPointC': '5', 'DewPointF': '40', 'WindChillC': '9', 'WindChillF': '48', 'WindGustMiles': '8', 'WindGustKmph': '13', 'FeelsLikeC': '9', 'FeelsLikeF': '48', 'uvIndex': '4'}]}, {'date': '2019-11-27', 'astronomy': [{'sunrise': '07:56 AM', 'sunset': '05:31 PM', 'moonrise': '08:51 AM', 'moonset': '06:35 PM', 'moon_phase': 'New Moon', 'moon_illumination': '0'}], 'maxtempC': '13', 'maxtempF': '56', 'mintempC': '12', 'mintempF': '54', 'avgtempC': '13', 'avgtempF': '56', 'totalSnow_cm': '0.0', 'sunHour': '5.3', 'uvIndex': '3', 'hourly': [{'time': '24', 'tempC': '13', 'tempF': '56', 'windspeedMiles': '14', 'windspeedKmph': '23', 'winddirDegree': '194', 'winddir16Point': 'SSW', 'weatherCode': '176', 'weatherIconUrl': [{'value': 'http://cdn.worldweatheronline.com/images/wsymbols01_png_64/wsymbol_0009_light_rain_showers.png'}], 'weatherDesc': [{'value': 'Patchy rain possible'}], 'precipMM': '0.1', 'precipInches': '0.0', 'humidity': '73', 'visibility': '10', 'visibilityMiles': '6', 'pressure': '1004', 'pressureInches': '30', 'cloudcover': '59', 'HeatIndexC': '13', 'HeatIndexF': '55', 'DewPointC': '8', 'DewPointF': '47', 'WindChillC': '11', 'WindChillF': '52', 'WindGustMiles': '23', 'WindGustKmph': '37', 'FeelsLikeC': '11', 'FeelsLikeF': '52', 'uvIndex': '3'}]}, {'date': '2019-11-28', 'astronomy': [{'sunrise': '07:57 AM', 'sunset': '05:31 PM', 'moonrise': '09:56 AM', 'moonset': '07:25 PM', 'moon_phase': 'Waxing Crescent', 'moon_illumination': '4'}], 'maxtempC': '10', 'maxtempF': '50', 'mintempC': '4', 'mintempF': '38', 'avgtempC': '9', 'avgtempF': '47', 'totalSnow_cm': '0.0', 'sunHour': '3.7', 'uvIndex': '2', 'hourly': [{'time': '24', 'tempC': '10', 'tempF': '50', 'windspeedMiles': '19', 'windspeedKmph': '30', 'winddirDegree': '320', 'winddir16Point': 'NW', 'weatherCode': '122', 'weatherIconUrl': [{'value': 'http://cdn.worldweatheronline.com/images/wsymbols01_png_64/wsymbol_0004_black_low_cloud.png'}], 'weatherDesc': [{'value': 'Overcast'}], 'precipMM': '0.0', 'precipInches': '0.0', 'humidity': '55', 'visibility': '10', 'visibilityMiles': '6', 'pressure': '1011', 'pressureInches': '30', 'cloudcover': '48', 'HeatIndexC': '7', 'HeatIndexF': '45', 'DewPointC': '-1', 'DewPointF': '30', 'WindChillC': '3', 'WindChillF': '38', 'WindGustMiles': '26', 'WindGustKmph': '42', 'FeelsLikeC': '3', 'FeelsLikeF': '38', 'uvIndex': '2'}]}, {'date': '2019-11-29', 'astronomy': [{'sunrise': '07:58 AM', 'sunset': '05:30 PM', 'moonrise': '10:53 AM', 'moonset': '08:20 PM', 'moon_phase': 'Waxing Crescent', 'moon_illumination': '12'}], 'maxtempC': '7', 'maxtempF': '45', 'mintempC': '1', 'mintempF': '33', 'avgtempC': '4', 'avgtempF': '40', 'totalSnow_cm': '0.0', 'sunHour': '8.7', 'uvIndex': '2', 'hourly': [{'time': '24', 'tempC': '7', 'tempF': '45', 'windspeedMiles': '9', 'windspeedKmph': '14', 'winddirDegree': '227', 'winddir16Point': 'SW', 'weatherCode': '116', 'weatherIconUrl': [{'value': 'http://cdn.worldweatheronline.com/images/wsymbols01_png_64/wsymbol_0002_sunny_intervals.png'}], 'weatherDesc': [{'value': 'Partly cloudy'}], 'precipMM': '0.0', 'precipInches': '0.0', 'humidity': '48', 'visibility': '10', 'visibilityMiles': '6', 'pressure': '1022', 'pressureInches': '31', 'cloudcover': '25', 'HeatIndexC': '3', 'HeatIndexF': '38', 'DewPointC': '-7', 'DewPointF': '20', 'WindChillC': '0', 'WindChillF': '32', 'WindGustMiles': '11', 'WindGustKmph': '18', 'FeelsLikeC': '0', 'FeelsLikeF': '32', 'uvIndex': '2'}]}, {'date': '2019-11-30', 'astronomy': [{'sunrise': '07:59 AM', 'sunset': '05:30 PM', 'moonrise': '11:43 AM', 'moonset': '09:19 PM', 'moon_phase': 'Waxing Crescent', 'moon_illumination': '20'}], 'maxtempC': '8', 'maxtempF': '47', 'mintempC': '1', 'mintempF': '33', 'avgtempC': '5', 'avgtempF': '41', 'totalSnow_cm': '0.0', 'sunHour': '8.7', 'uvIndex': '2', 'hourly': [{'time': '24', 'tempC': '8', 'tempF': '47', 'windspeedMiles': '7', 'windspeedKmph': '11', 'winddirDegree': '331', 'winddir16Point': 'NNW', 'weatherCode': '116', 'weatherIconUrl': [{'value': 'http://cdn.worldweatheronline.com/images/wsymbols01_png_64/wsymbol_0002_sunny_intervals.png'}], 'weatherDesc': [{'value': 'Partly cloudy'}], 'precipMM': '0.0', 'precipInches': '0.0', 'humidity': '37', 'visibility': '10', 'visibilityMiles': '6', 'pressure': '1018', 'pressureInches': '31', 'cloudcover': '8', 'HeatIndexC': '4', 'HeatIndexF': '39', 'DewPointC': '-10', 'DewPointF': '14', 'WindChillC': '1', 'WindChillF': '34', 'WindGustMiles': '8', 'WindGustKmph': '13', 'FeelsLikeC': '1', 'FeelsLikeF': '34', 'uvIndex': '2'}]}]}}\n"
          ],
          "name": "stdout"
        }
      ]
    },
    {
      "cell_type": "code",
      "metadata": {
        "id": "1ScTOcEXxKru",
        "colab": {
          "base_uri": "https://localhost:8080/",
          "height": 54
        },
        "outputId": "2136bb09-7314-4a17-c06b-da6a0b5452ad"
      },
      "source": [
        "        if response_cache_path:\n",
        "            with open(f'{response_cache_path}/{location}_{start_d}_{end_d}', 'w') as f:\n",
        "                json.dump(json_data, f)\n",
        "        data = json_data['data']['weather']\n",
        "        print(data)"
      ],
      "execution_count": null,
      "outputs": [
        {
          "output_type": "stream",
          "text": [
            "[{'date': '2019-11-01', 'astronomy': [{'sunrise': '07:26 AM', 'sunset': '05:53 PM', 'moonrise': '12:12 PM', 'moonset': '09:39 PM', 'moon_phase': 'Waxing Crescent', 'moon_illumination': '24'}], 'maxtempC': '12', 'maxtempF': '54', 'mintempC': '8', 'mintempF': '46', 'avgtempC': '11', 'avgtempF': '51', 'totalSnow_cm': '0.0', 'sunHour': '8.7', 'uvIndex': '4', 'hourly': [{'time': '24', 'tempC': '12', 'tempF': '54', 'windspeedMiles': '17', 'windspeedKmph': '27', 'winddirDegree': '286', 'winddir16Point': 'WNW', 'weatherCode': '113', 'weatherIconUrl': [{'value': 'http://cdn.worldweatheronline.com/images/wsymbols01_png_64/wsymbol_0001_sunny.png'}], 'weatherDesc': [{'value': 'Sunny'}], 'precipMM': '7.4', 'precipInches': '0.3', 'humidity': '46', 'visibility': '10', 'visibilityMiles': '5', 'pressure': '1017', 'pressureInches': '31', 'cloudcover': '29', 'HeatIndexC': '10', 'HeatIndexF': '51', 'DewPointC': '-1', 'DewPointF': '31', 'WindChillC': '7', 'WindChillF': '45', 'WindGustMiles': '21', 'WindGustKmph': '33', 'FeelsLikeC': '7', 'FeelsLikeF': '45', 'uvIndex': '4'}]}, {'date': '2019-11-02', 'astronomy': [{'sunrise': '07:28 AM', 'sunset': '05:52 PM', 'moonrise': '01:04 PM', 'moonset': '10:35 PM', 'moon_phase': 'Waxing Crescent', 'moon_illumination': '31'}], 'maxtempC': '13', 'maxtempF': '55', 'mintempC': '9', 'mintempF': '47', 'avgtempC': '11', 'avgtempF': '52', 'totalSnow_cm': '0.0', 'sunHour': '8.7', 'uvIndex': '4', 'hourly': [{'time': '24', 'tempC': '13', 'tempF': '55', 'windspeedMiles': '6', 'windspeedKmph': '9', 'winddirDegree': '143', 'winddir16Point': 'SE', 'weatherCode': '116', 'weatherIconUrl': [{'value': 'http://cdn.worldweatheronline.com/images/wsymbols01_png_64/wsymbol_0002_sunny_intervals.png'}], 'weatherDesc': [{'value': 'Partly cloudy'}], 'precipMM': '0.1', 'precipInches': '0.0', 'humidity': '53', 'visibility': '10', 'visibilityMiles': '6', 'pressure': '1021', 'pressureInches': '31', 'cloudcover': '13', 'HeatIndexC': '11', 'HeatIndexF': '51', 'DewPointC': '2', 'DewPointF': '35', 'WindChillC': '10', 'WindChillF': '49', 'WindGustMiles': '7', 'WindGustKmph': '11', 'FeelsLikeC': '10', 'FeelsLikeF': '49', 'uvIndex': '4'}]}, {'date': '2019-11-03', 'astronomy': [{'sunrise': '07:29 AM', 'sunset': '05:50 PM', 'moonrise': '01:49 PM', 'moonset': '11:33 PM', 'moon_phase': 'Waxing Crescent', 'moon_illumination': '39'}], 'maxtempC': '12', 'maxtempF': '54', 'mintempC': '8', 'mintempF': '47', 'avgtempC': '10', 'avgtempF': '50', 'totalSnow_cm': '0.0', 'sunHour': '8.7', 'uvIndex': '4', 'hourly': [{'time': '24', 'tempC': '12', 'tempF': '54', 'windspeedMiles': '9', 'windspeedKmph': '15', 'winddirDegree': '279', 'winddir16Point': 'W', 'weatherCode': '116', 'weatherIconUrl': [{'value': 'http://cdn.worldweatheronline.com/images/wsymbols01_png_64/wsymbol_0002_sunny_intervals.png'}], 'weatherDesc': [{'value': 'Partly cloudy'}], 'precipMM': '0.1', 'precipInches': '0.0', 'humidity': '49', 'visibility': '10', 'visibilityMiles': '6', 'pressure': '1020', 'pressureInches': '31', 'cloudcover': '14', 'HeatIndexC': '10', 'HeatIndexF': '49', 'DewPointC': '-1', 'DewPointF': '31', 'WindChillC': '7', 'WindChillF': '45', 'WindGustMiles': '12', 'WindGustKmph': '19', 'FeelsLikeC': '7', 'FeelsLikeF': '45', 'uvIndex': '4'}]}, {'date': '2019-11-04', 'astronomy': [{'sunrise': '07:30 AM', 'sunset': '05:49 PM', 'moonrise': '02:27 PM', 'moonset': 'No moonset', 'moon_phase': 'First Quarter', 'moon_illumination': '46'}], 'maxtempC': '13', 'maxtempF': '55', 'mintempC': '8', 'mintempF': '46', 'avgtempC': '11', 'avgtempF': '52', 'totalSnow_cm': '0.0', 'sunHour': '8.7', 'uvIndex': '3', 'hourly': [{'time': '24', 'tempC': '13', 'tempF': '55', 'windspeedMiles': '8', 'windspeedKmph': '13', 'winddirDegree': '178', 'winddir16Point': 'S', 'weatherCode': '122', 'weatherIconUrl': [{'value': 'http://cdn.worldweatheronline.com/images/wsymbols01_png_64/wsymbol_0004_black_low_cloud.png'}], 'weatherDesc': [{'value': 'Overcast'}], 'precipMM': '0.0', 'precipInches': '0.0', 'humidity': '46', 'visibility': '10', 'visibilityMiles': '6', 'pressure': '1027', 'pressureInches': '31', 'cloudcover': '33', 'HeatIndexC': '11', 'HeatIndexF': '51', 'DewPointC': '-1', 'DewPointF': '31', 'WindChillC': '9', 'WindChillF': '49', 'WindGustMiles': '10', 'WindGustKmph': '17', 'FeelsLikeC': '9', 'FeelsLikeF': '49', 'uvIndex': '3'}]}, {'date': '2019-11-05', 'astronomy': [{'sunrise': '07:31 AM', 'sunset': '05:48 PM', 'moonrise': '03:00 PM', 'moonset': '12:32 AM', 'moon_phase': 'First Quarter', 'moon_illumination': '54'}], 'maxtempC': '16', 'maxtempF': '60', 'mintempC': '12', 'mintempF': '53', 'avgtempC': '14', 'avgtempF': '58', 'totalSnow_cm': '0.0', 'sunHour': '3.8', 'uvIndex': '3', 'hourly': [{'time': '24', 'tempC': '16', 'tempF': '60', 'windspeedMiles': '10', 'windspeedKmph': '17', 'winddirDegree': '234', 'winddir16Point': 'SW', 'weatherCode': '353', 'weatherIconUrl': [{'value': 'http://cdn.worldweatheronline.com/images/wsymbols01_png_64/wsymbol_0009_light_rain_showers.png'}], 'weatherDesc': [{'value': 'Light rain shower'}], 'precipMM': '2.3', 'precipInches': '0.1', 'humidity': '65', 'visibility': '10', 'visibilityMiles': '6', 'pressure': '1022', 'pressureInches': '31', 'cloudcover': '55', 'HeatIndexC': '13', 'HeatIndexF': '56', 'DewPointC': '7', 'DewPointF': '44', 'WindChillC': '12', 'WindChillF': '54', 'WindGustMiles': '15', 'WindGustKmph': '25', 'FeelsLikeC': '12', 'FeelsLikeF': '54', 'uvIndex': '3'}]}, {'date': '2019-11-06', 'astronomy': [{'sunrise': '07:32 AM', 'sunset': '05:47 PM', 'moonrise': '03:29 PM', 'moonset': '01:31 AM', 'moon_phase': 'First Quarter', 'moon_illumination': '61'}], 'maxtempC': '14', 'maxtempF': '57', 'mintempC': '7', 'mintempF': '45', 'avgtempC': '11', 'avgtempF': '51', 'totalSnow_cm': '0.0', 'sunHour': '8.7', 'uvIndex': '4', 'hourly': [{'time': '24', 'tempC': '14', 'tempF': '57', 'windspeedMiles': '8', 'windspeedKmph': '13', 'winddirDegree': '295', 'winddir16Point': 'WNW', 'weatherCode': '116', 'weatherIconUrl': [{'value': 'http://cdn.worldweatheronline.com/images/wsymbols01_png_64/wsymbol_0002_sunny_intervals.png'}], 'weatherDesc': [{'value': 'Partly cloudy'}], 'precipMM': '0.0', 'precipInches': '0.0', 'humidity': '47', 'visibility': '10', 'visibilityMiles': '6', 'pressure': '1028', 'pressureInches': '31', 'cloudcover': '7', 'HeatIndexC': '11', 'HeatIndexF': '51', 'DewPointC': '-0', 'DewPointF': '31', 'WindChillC': '9', 'WindChillF': '48', 'WindGustMiles': '10', 'WindGustKmph': '16', 'FeelsLikeC': '9', 'FeelsLikeF': '48', 'uvIndex': '4'}]}, {'date': '2019-11-07', 'astronomy': [{'sunrise': '07:33 AM', 'sunset': '05:46 PM', 'moonrise': '03:55 PM', 'moonset': '02:29 AM', 'moon_phase': 'Waxing Gibbous', 'moon_illumination': '69'}], 'maxtempC': '14', 'maxtempF': '56', 'mintempC': '7', 'mintempF': '45', 'avgtempC': '12', 'avgtempF': '53', 'totalSnow_cm': '0.0', 'sunHour': '5.4', 'uvIndex': '3', 'hourly': [{'time': '24', 'tempC': '14', 'tempF': '56', 'windspeedMiles': '10', 'windspeedKmph': '16', 'winddirDegree': '233', 'winddir16Point': 'SW', 'weatherCode': '266', 'weatherIconUrl': [{'value': 'http://cdn.worldweatheronline.com/images/wsymbols01_png_64/wsymbol_0017_cloudy_with_light_rain.png'}], 'weatherDesc': [{'value': 'Light drizzle'}], 'precipMM': '4.4', 'precipInches': '0.2', 'humidity': '59', 'visibility': '8', 'visibilityMiles': '4', 'pressure': '1021', 'pressureInches': '31', 'cloudcover': '63', 'HeatIndexC': '11', 'HeatIndexF': '51', 'DewPointC': '3', 'DewPointF': '37', 'WindChillC': '9', 'WindChillF': '48', 'WindGustMiles': '14', 'WindGustKmph': '22', 'FeelsLikeC': '9', 'FeelsLikeF': '48', 'uvIndex': '3'}]}, {'date': '2019-11-08', 'astronomy': [{'sunrise': '07:35 AM', 'sunset': '05:45 PM', 'moonrise': '04:19 PM', 'moonset': '03:28 AM', 'moon_phase': 'Waxing Gibbous', 'moon_illumination': '76'}], 'maxtempC': '5', 'maxtempF': '41', 'mintempC': '-0', 'mintempF': '32', 'avgtempC': '3', 'avgtempF': '38', 'totalSnow_cm': '0.0', 'sunHour': '8.7', 'uvIndex': '2', 'hourly': [{'time': '24', 'tempC': '5', 'tempF': '41', 'windspeedMiles': '15', 'windspeedKmph': '24', 'winddirDegree': '327', 'winddir16Point': 'NNW', 'weatherCode': '116', 'weatherIconUrl': [{'value': 'http://cdn.worldweatheronline.com/images/wsymbols01_png_64/wsymbol_0002_sunny_intervals.png'}], 'weatherDesc': [{'value': 'Partly cloudy'}], 'precipMM': '0.4', 'precipInches': '0.0', 'humidity': '42', 'visibility': '10', 'visibilityMiles': '6', 'pressure': '1021', 'pressureInches': '31', 'cloudcover': '14', 'HeatIndexC': '3', 'HeatIndexF': '37', 'DewPointC': '-9', 'DewPointF': '16', 'WindChillC': '-2', 'WindChillF': '28', 'WindGustMiles': '18', 'WindGustKmph': '29', 'FeelsLikeC': '-2', 'FeelsLikeF': '28', 'uvIndex': '2'}]}, {'date': '2019-11-09', 'astronomy': [{'sunrise': '07:36 AM', 'sunset': '05:44 PM', 'moonrise': '04:44 PM', 'moonset': '04:26 AM', 'moon_phase': 'Waxing Gibbous', 'moon_illumination': '84'}], 'maxtempC': '6', 'maxtempF': '42', 'mintempC': '0', 'mintempF': '32', 'avgtempC': '3', 'avgtempF': '38', 'totalSnow_cm': '0.0', 'sunHour': '7.1', 'uvIndex': '1', 'hourly': [{'time': '24', 'tempC': '6', 'tempF': '42', 'windspeedMiles': '7', 'windspeedKmph': '11', 'winddirDegree': '169', 'winddir16Point': 'S', 'weatherCode': '122', 'weatherIconUrl': [{'value': 'http://cdn.worldweatheronline.com/images/wsymbols01_png_64/wsymbol_0004_black_low_cloud.png'}], 'weatherDesc': [{'value': 'Overcast'}], 'precipMM': '0.0', 'precipInches': '0.0', 'humidity': '41', 'visibility': '10', 'visibilityMiles': '6', 'pressure': '1026', 'pressureInches': '31', 'cloudcover': '32', 'HeatIndexC': '3', 'HeatIndexF': '37', 'DewPointC': '-9', 'DewPointF': '16', 'WindChillC': '0', 'WindChillF': '32', 'WindGustMiles': '9', 'WindGustKmph': '14', 'FeelsLikeC': '0', 'FeelsLikeF': '32', 'uvIndex': '1'}]}, {'date': '2019-11-10', 'astronomy': [{'sunrise': '07:37 AM', 'sunset': '05:43 PM', 'moonrise': '05:09 PM', 'moonset': '05:25 AM', 'moon_phase': 'Waxing Gibbous', 'moon_illumination': '91'}], 'maxtempC': '11', 'maxtempF': '51', 'mintempC': '5', 'mintempF': '40', 'avgtempC': '8', 'avgtempF': '47', 'totalSnow_cm': '0.0', 'sunHour': '8.7', 'uvIndex': '3', 'hourly': [{'time': '24', 'tempC': '11', 'tempF': '51', 'windspeedMiles': '9', 'windspeedKmph': '14', 'winddirDegree': '232', 'winddir16Point': 'SW', 'weatherCode': '116', 'weatherIconUrl': [{'value': 'http://cdn.worldweatheronline.com/images/wsymbols01_png_64/wsymbol_0002_sunny_intervals.png'}], 'weatherDesc': [{'value': 'Partly cloudy'}], 'precipMM': '0.0', 'precipInches': '0.0', 'humidity': '48', 'visibility': '10', 'visibilityMiles': '6', 'pressure': '1019', 'pressureInches': '31', 'cloudcover': '30', 'HeatIndexC': '8', 'HeatIndexF': '46', 'DewPointC': '-3', 'DewPointF': '27', 'WindChillC': '5', 'WindChillF': '41', 'WindGustMiles': '12', 'WindGustKmph': '19', 'FeelsLikeC': '5', 'FeelsLikeF': '41', 'uvIndex': '3'}]}, {'date': '2019-11-11', 'astronomy': [{'sunrise': '07:38 AM', 'sunset': '05:42 PM', 'moonrise': '05:37 PM', 'moonset': '06:25 AM', 'moon_phase': 'Waxing Gibbous', 'moon_illumination': '99'}], 'maxtempC': '14', 'maxtempF': '56', 'mintempC': '8', 'mintempF': '46', 'avgtempC': '12', 'avgtempF': '53', 'totalSnow_cm': '0.0', 'sunHour': '8.7', 'uvIndex': '4', 'hourly': [{'time': '24', 'tempC': '14', 'tempF': '56', 'windspeedMiles': '3', 'windspeedKmph': '5', 'winddirDegree': '241', 'winddir16Point': 'WSW', 'weatherCode': '116', 'weatherIconUrl': [{'value': 'http://cdn.worldweatheronline.com/images/wsymbols01_png_64/wsymbol_0002_sunny_intervals.png'}], 'weatherDesc': [{'value': 'Partly cloudy'}], 'precipMM': '0.0', 'precipInches': '0.0', 'humidity': '68', 'visibility': '10', 'visibilityMiles': '6', 'pressure': '1017', 'pressureInches': '30', 'cloudcover': '23', 'HeatIndexC': '11', 'HeatIndexF': '52', 'DewPointC': '5', 'DewPointF': '42', 'WindChillC': '11', 'WindChillF': '52', 'WindGustMiles': '5', 'WindGustKmph': '8', 'FeelsLikeC': '11', 'FeelsLikeF': '52', 'uvIndex': '4'}]}, {'date': '2019-11-12', 'astronomy': [{'sunrise': '07:39 AM', 'sunset': '05:41 PM', 'moonrise': '06:07 PM', 'moonset': '07:28 AM', 'moon_phase': 'Full Moon', 'moon_illumination': '100'}], 'maxtempC': '12', 'maxtempF': '53', 'mintempC': '-2', 'mintempF': '28', 'avgtempC': '5', 'avgtempF': '41', 'totalSnow_cm': '2.1', 'sunHour': '3.8', 'uvIndex': '2', 'hourly': [{'time': '24', 'tempC': '12', 'tempF': '53', 'windspeedMiles': '14', 'windspeedKmph': '23', 'winddirDegree': '315', 'winddir16Point': 'NW', 'weatherCode': '335', 'weatherIconUrl': [{'value': 'http://cdn.worldweatheronline.com/images/wsymbols01_png_64/wsymbol_0012_heavy_snow_showers.png'}], 'weatherDesc': [{'value': 'Patchy heavy snow'}], 'precipMM': '6.3', 'precipInches': '0.2', 'humidity': '60', 'visibility': '7', 'visibilityMiles': '4', 'pressure': '1012', 'pressureInches': '30', 'cloudcover': '67', 'HeatIndexC': '5', 'HeatIndexF': '41', 'DewPointC': '-2', 'DewPointF': '28', 'WindChillC': '1', 'WindChillF': '34', 'WindGustMiles': '19', 'WindGustKmph': '30', 'FeelsLikeC': '1', 'FeelsLikeF': '34', 'uvIndex': '2'}]}, {'date': '2019-11-13', 'astronomy': [{'sunrise': '07:41 AM', 'sunset': '05:40 PM', 'moonrise': '06:42 PM', 'moonset': '08:31 AM', 'moon_phase': 'Waxing Gibbous', 'moon_illumination': '86'}], 'maxtempC': '1', 'maxtempF': '33', 'mintempC': '-3', 'mintempF': '26', 'avgtempC': '-1', 'avgtempF': '30', 'totalSnow_cm': '0.0', 'sunHour': '8.7', 'uvIndex': '2', 'hourly': [{'time': '24', 'tempC': '1', 'tempF': '33', 'windspeedMiles': '11', 'windspeedKmph': '18', 'winddirDegree': '321', 'winddir16Point': 'NW', 'weatherCode': '116', 'weatherIconUrl': [{'value': 'http://cdn.worldweatheronline.com/images/wsymbols01_png_64/wsymbol_0002_sunny_intervals.png'}], 'weatherDesc': [{'value': 'Partly cloudy'}], 'precipMM': '0.0', 'precipInches': '0.0', 'humidity': '35', 'visibility': '10', 'visibilityMiles': '6', 'pressure': '1027', 'pressureInches': '31', 'cloudcover': '9', 'HeatIndexC': '-1', 'HeatIndexF': '30', 'DewPointC': '-15', 'DewPointF': '5', 'WindChillC': '-6', 'WindChillF': '20', 'WindGustMiles': '14', 'WindGustKmph': '22', 'FeelsLikeC': '-6', 'FeelsLikeF': '20', 'uvIndex': '2'}]}, {'date': '2019-11-14', 'astronomy': [{'sunrise': '07:42 AM', 'sunset': '05:39 PM', 'moonrise': '07:23 PM', 'moonset': '09:35 AM', 'moon_phase': 'Waxing Gibbous', 'moon_illumination': '78'}], 'maxtempC': '7', 'maxtempF': '45', 'mintempC': '0', 'mintempF': '32', 'avgtempC': '5', 'avgtempF': '40', 'totalSnow_cm': '0.0', 'sunHour': '8.7', 'uvIndex': '2', 'hourly': [{'time': '24', 'tempC': '7', 'tempF': '45', 'windspeedMiles': '7', 'windspeedKmph': '11', 'winddirDegree': '212', 'winddir16Point': 'SSW', 'weatherCode': '116', 'weatherIconUrl': [{'value': 'http://cdn.worldweatheronline.com/images/wsymbols01_png_64/wsymbol_0002_sunny_intervals.png'}], 'weatherDesc': [{'value': 'Partly cloudy'}], 'precipMM': '0.0', 'precipInches': '0.0', 'humidity': '42', 'visibility': '10', 'visibilityMiles': '6', 'pressure': '1029', 'pressureInches': '31', 'cloudcover': '45', 'HeatIndexC': '4', 'HeatIndexF': '39', 'DewPointC': '-8', 'DewPointF': '18', 'WindChillC': '2', 'WindChillF': '35', 'WindGustMiles': '9', 'WindGustKmph': '14', 'FeelsLikeC': '2', 'FeelsLikeF': '35', 'uvIndex': '2'}]}, {'date': '2019-11-15', 'astronomy': [{'sunrise': '07:43 AM', 'sunset': '05:38 PM', 'moonrise': '08:11 PM', 'moonset': '10:37 AM', 'moon_phase': 'Waning Gibbous', 'moon_illumination': '71'}], 'maxtempC': '10', 'maxtempF': '51', 'mintempC': '4', 'mintempF': '40', 'avgtempC': '8', 'avgtempF': '46', 'totalSnow_cm': '0.0', 'sunHour': '8.7', 'uvIndex': '3', 'hourly': [{'time': '24', 'tempC': '10', 'tempF': '51', 'windspeedMiles': '8', 'windspeedKmph': '13', 'winddirDegree': '263', 'winddir16Point': 'W', 'weatherCode': '116', 'weatherIconUrl': [{'value': 'http://cdn.worldweatheronline.com/images/wsymbols01_png_64/wsymbol_0002_sunny_intervals.png'}], 'weatherDesc': [{'value': 'Partly cloudy'}], 'precipMM': '0.0', 'precipInches': '0.0', 'humidity': '48', 'visibility': '10', 'visibilityMiles': '6', 'pressure': '1024', 'pressureInches': '31', 'cloudcover': '16', 'HeatIndexC': '7', 'HeatIndexF': '44', 'DewPointC': '-4', 'DewPointF': '25', 'WindChillC': '4', 'WindChillF': '40', 'WindGustMiles': '10', 'WindGustKmph': '16', 'FeelsLikeC': '4', 'FeelsLikeF': '40', 'uvIndex': '3'}]}, {'date': '2019-11-16', 'astronomy': [{'sunrise': '07:44 AM', 'sunset': '05:38 PM', 'moonrise': '09:08 PM', 'moonset': '11:37 AM', 'moon_phase': 'Waning Gibbous', 'moon_illumination': '63'}], 'maxtempC': '4', 'maxtempF': '40', 'mintempC': '-0', 'mintempF': '32', 'avgtempC': '3', 'avgtempF': '37', 'totalSnow_cm': '0.0', 'sunHour': '8.7', 'uvIndex': '2', 'hourly': [{'time': '24', 'tempC': '4', 'tempF': '40', 'windspeedMiles': '14', 'windspeedKmph': '23', 'winddirDegree': '51', 'winddir16Point': 'NE', 'weatherCode': '113', 'weatherIconUrl': [{'value': 'http://cdn.worldweatheronline.com/images/wsymbols01_png_64/wsymbol_0001_sunny.png'}], 'weatherDesc': [{'value': 'Sunny'}], 'precipMM': '0.0', 'precipInches': '0.0', 'humidity': '35', 'visibility': '10', 'visibilityMiles': '6', 'pressure': '1029', 'pressureInches': '31', 'cloudcover': '4', 'HeatIndexC': '2', 'HeatIndexF': '36', 'DewPointC': '-13', 'DewPointF': '9', 'WindChillC': '-3', 'WindChillF': '27', 'WindGustMiles': '19', 'WindGustKmph': '30', 'FeelsLikeC': '-3', 'FeelsLikeF': '27', 'uvIndex': '2'}]}, {'date': '2019-11-17', 'astronomy': [{'sunrise': '07:45 AM', 'sunset': '05:37 PM', 'moonrise': '10:10 PM', 'moonset': '12:29 PM', 'moon_phase': 'Waning Gibbous', 'moon_illumination': '56'}], 'maxtempC': '6', 'maxtempF': '42', 'mintempC': '-4', 'mintempF': '24', 'avgtempC': '3', 'avgtempF': '37', 'totalSnow_cm': '0.0', 'sunHour': '3.7', 'uvIndex': '1', 'hourly': [{'time': '24', 'tempC': '6', 'tempF': '42', 'windspeedMiles': '12', 'windspeedKmph': '19', 'winddirDegree': '43', 'winddir16Point': 'NE', 'weatherCode': '122', 'weatherIconUrl': [{'value': 'http://cdn.worldweatheronline.com/images/wsymbols01_png_64/wsymbol_0004_black_low_cloud.png'}], 'weatherDesc': [{'value': 'Overcast'}], 'precipMM': '0.0', 'precipInches': '0.0', 'humidity': '58', 'visibility': '10', 'visibilityMiles': '6', 'pressure': '1025', 'pressureInches': '31', 'cloudcover': '71', 'HeatIndexC': '2', 'HeatIndexF': '35', 'DewPointC': '-5', 'DewPointF': '23', 'WindChillC': '-2', 'WindChillF': '28', 'WindGustMiles': '17', 'WindGustKmph': '27', 'FeelsLikeC': '-2', 'FeelsLikeF': '28', 'uvIndex': '1'}]}, {'date': '2019-11-18', 'astronomy': [{'sunrise': '07:46 AM', 'sunset': '05:36 PM', 'moonrise': '11:19 PM', 'moonset': '01:16 PM', 'moon_phase': 'Waning Gibbous', 'moon_illumination': '48'}], 'maxtempC': '5', 'maxtempF': '41', 'mintempC': '0', 'mintempF': '33', 'avgtempC': '5', 'avgtempF': '40', 'totalSnow_cm': '0.0', 'sunHour': '3.7', 'uvIndex': '1', 'hourly': [{'time': '24', 'tempC': '5', 'tempF': '41', 'windspeedMiles': '10', 'windspeedKmph': '16', 'winddirDegree': '11', 'winddir16Point': 'NNE', 'weatherCode': '266', 'weatherIconUrl': [{'value': 'http://cdn.worldweatheronline.com/images/wsymbols01_png_64/wsymbol_0017_cloudy_with_light_rain.png'}], 'weatherDesc': [{'value': 'Light drizzle'}], 'precipMM': '3.1', 'precipInches': '0.1', 'humidity': '76', 'visibility': '8', 'visibilityMiles': '4', 'pressure': '1011', 'pressureInches': '30', 'cloudcover': '99', 'HeatIndexC': '4', 'HeatIndexF': '40', 'DewPointC': '1', 'DewPointF': '33', 'WindChillC': '1', 'WindChillF': '33', 'WindGustMiles': '14', 'WindGustKmph': '22', 'FeelsLikeC': '1', 'FeelsLikeF': '33', 'uvIndex': '1'}]}, {'date': '2019-11-19', 'astronomy': [{'sunrise': '07:47 AM', 'sunset': '05:35 PM', 'moonrise': 'No moonrise', 'moonset': '01:57 PM', 'moon_phase': 'Last Quarter', 'moon_illumination': '41'}], 'maxtempC': '12', 'maxtempF': '54', 'mintempC': '5', 'mintempF': '40', 'avgtempC': '9', 'avgtempF': '48', 'totalSnow_cm': '0.0', 'sunHour': '8.7', 'uvIndex': '3', 'hourly': [{'time': '24', 'tempC': '12', 'tempF': '54', 'windspeedMiles': '6', 'windspeedKmph': '9', 'winddirDegree': '273', 'winddir16Point': 'W', 'weatherCode': '116', 'weatherIconUrl': [{'value': 'http://cdn.worldweatheronline.com/images/wsymbols01_png_64/wsymbol_0002_sunny_intervals.png'}], 'weatherDesc': [{'value': 'Partly cloudy'}], 'precipMM': '5.1', 'precipInches': '0.2', 'humidity': '69', 'visibility': '9', 'visibilityMiles': '5', 'pressure': '1009', 'pressureInches': '30', 'cloudcover': '63', 'HeatIndexC': '8', 'HeatIndexF': '46', 'DewPointC': '2', 'DewPointF': '36', 'WindChillC': '6', 'WindChillF': '43', 'WindGustMiles': '8', 'WindGustKmph': '12', 'FeelsLikeC': '6', 'FeelsLikeF': '43', 'uvIndex': '3'}]}, {'date': '2019-11-20', 'astronomy': [{'sunrise': '07:49 AM', 'sunset': '05:35 PM', 'moonrise': '12:29 AM', 'moonset': '02:32 PM', 'moon_phase': 'Last Quarter', 'moon_illumination': '33'}], 'maxtempC': '8', 'maxtempF': '46', 'mintempC': '4', 'mintempF': '40', 'avgtempC': '6', 'avgtempF': '43', 'totalSnow_cm': '0.0', 'sunHour': '3.7', 'uvIndex': '2', 'hourly': [{'time': '24', 'tempC': '8', 'tempF': '46', 'windspeedMiles': '10', 'windspeedKmph': '16', 'winddirDegree': '336', 'winddir16Point': 'NNW', 'weatherCode': '122', 'weatherIconUrl': [{'value': 'http://cdn.worldweatheronline.com/images/wsymbols01_png_64/wsymbol_0004_black_low_cloud.png'}], 'weatherDesc': [{'value': 'Overcast'}], 'precipMM': '0.0', 'precipInches': '0.0', 'humidity': '64', 'visibility': '10', 'visibilityMiles': '6', 'pressure': '1014', 'pressureInches': '30', 'cloudcover': '77', 'HeatIndexC': '6', 'HeatIndexF': '42', 'DewPointC': '-1', 'DewPointF': '31', 'WindChillC': '3', 'WindChillF': '37', 'WindGustMiles': '13', 'WindGustKmph': '21', 'FeelsLikeC': '3', 'FeelsLikeF': '37', 'uvIndex': '2'}]}, {'date': '2019-11-21', 'astronomy': [{'sunrise': '07:50 AM', 'sunset': '05:34 PM', 'moonrise': '01:41 AM', 'moonset': '03:04 PM', 'moon_phase': 'Last Quarter', 'moon_illumination': '26'}], 'maxtempC': '11', 'maxtempF': '52', 'mintempC': '4', 'mintempF': '39', 'avgtempC': '8', 'avgtempF': '47', 'totalSnow_cm': '0.0', 'sunHour': '8.7', 'uvIndex': '3', 'hourly': [{'time': '24', 'tempC': '11', 'tempF': '52', 'windspeedMiles': '7', 'windspeedKmph': '11', 'winddirDegree': '275', 'winddir16Point': 'W', 'weatherCode': '116', 'weatherIconUrl': [{'value': 'http://cdn.worldweatheronline.com/images/wsymbols01_png_64/wsymbol_0002_sunny_intervals.png'}], 'weatherDesc': [{'value': 'Partly cloudy'}], 'precipMM': '0.0', 'precipInches': '0.0', 'humidity': '58', 'visibility': '10', 'visibilityMiles': '6', 'pressure': '1020', 'pressureInches': '31', 'cloudcover': '19', 'HeatIndexC': '7', 'HeatIndexF': '45', 'DewPointC': '-0', 'DewPointF': '31', 'WindChillC': '5', 'WindChillF': '42', 'WindGustMiles': '9', 'WindGustKmph': '15', 'FeelsLikeC': '5', 'FeelsLikeF': '42', 'uvIndex': '3'}]}, {'date': '2019-11-22', 'astronomy': [{'sunrise': '07:51 AM', 'sunset': '05:33 PM', 'moonrise': '02:52 AM', 'moonset': '03:35 PM', 'moon_phase': 'Waning Crescent', 'moon_illumination': '18'}], 'maxtempC': '11', 'maxtempF': '52', 'mintempC': '4', 'mintempF': '39', 'avgtempC': '10', 'avgtempF': '49', 'totalSnow_cm': '0.0', 'sunHour': '5.4', 'uvIndex': '2', 'hourly': [{'time': '24', 'tempC': '11', 'tempF': '52', 'windspeedMiles': '15', 'windspeedKmph': '24', 'winddirDegree': '261', 'winddir16Point': 'W', 'weatherCode': '296', 'weatherIconUrl': [{'value': 'http://cdn.worldweatheronline.com/images/wsymbols01_png_64/wsymbol_0017_cloudy_with_light_rain.png'}], 'weatherDesc': [{'value': 'Light rain'}], 'precipMM': '7.5', 'precipInches': '0.3', 'humidity': '62', 'visibility': '10', 'visibilityMiles': '5', 'pressure': '1011', 'pressureInches': '30', 'cloudcover': '56', 'HeatIndexC': '8', 'HeatIndexF': '47', 'DewPointC': '1', 'DewPointF': '34', 'WindChillC': '5', 'WindChillF': '41', 'WindGustMiles': '21', 'WindGustKmph': '34', 'FeelsLikeC': '5', 'FeelsLikeF': '41', 'uvIndex': '2'}]}, {'date': '2019-11-23', 'astronomy': [{'sunrise': '07:52 AM', 'sunset': '05:33 PM', 'moonrise': '04:04 AM', 'moonset': '04:05 PM', 'moon_phase': 'Waning Crescent', 'moon_illumination': '10'}], 'maxtempC': '8', 'maxtempF': '46', 'mintempC': '2', 'mintempF': '36', 'avgtempC': '5', 'avgtempF': '42', 'totalSnow_cm': '0.0', 'sunHour': '8.7', 'uvIndex': '2', 'hourly': [{'time': '24', 'tempC': '8', 'tempF': '46', 'windspeedMiles': '7', 'windspeedKmph': '12', 'winddirDegree': '253', 'winddir16Point': 'WSW', 'weatherCode': '122', 'weatherIconUrl': [{'value': 'http://cdn.worldweatheronline.com/images/wsymbols01_png_64/wsymbol_0004_black_low_cloud.png'}], 'weatherDesc': [{'value': 'Overcast'}], 'precipMM': '0.5', 'precipInches': '0.0', 'humidity': '49', 'visibility': '9', 'visibilityMiles': '5', 'pressure': '1014', 'pressureInches': '30', 'cloudcover': '34', 'HeatIndexC': '5', 'HeatIndexF': '41', 'DewPointC': '-5', 'DewPointF': '23', 'WindChillC': '2', 'WindChillF': '36', 'WindGustMiles': '9', 'WindGustKmph': '15', 'FeelsLikeC': '2', 'FeelsLikeF': '36', 'uvIndex': '2'}]}, {'date': '2019-11-24', 'astronomy': [{'sunrise': '07:53 AM', 'sunset': '05:32 PM', 'moonrise': '05:17 AM', 'moonset': '04:37 PM', 'moon_phase': 'Waning Crescent', 'moon_illumination': '3'}], 'maxtempC': '9', 'maxtempF': '47', 'mintempC': '6', 'mintempF': '42', 'avgtempC': '8', 'avgtempF': '46', 'totalSnow_cm': '0.0', 'sunHour': '3.7', 'uvIndex': '2', 'hourly': [{'time': '24', 'tempC': '9', 'tempF': '47', 'windspeedMiles': '14', 'windspeedKmph': '22', 'winddirDegree': '215', 'winddir16Point': 'SW', 'weatherCode': '389', 'weatherIconUrl': [{'value': 'http://cdn.worldweatheronline.com/images/wsymbols01_png_64/wsymbol_0024_thunderstorms.png'}], 'weatherDesc': [{'value': 'Moderate or heavy rain with thunder'}], 'precipMM': '47.1', 'precipInches': '1.9', 'humidity': '80', 'visibility': '7', 'visibilityMiles': '4', 'pressure': '998', 'pressureInches': '30', 'cloudcover': '84', 'HeatIndexC': '7', 'HeatIndexF': '44', 'DewPointC': '4', 'DewPointF': '38', 'WindChillC': '3', 'WindChillF': '38', 'WindGustMiles': '20', 'WindGustKmph': '32', 'FeelsLikeC': '3', 'FeelsLikeF': '38', 'uvIndex': '2'}]}, {'date': '2019-11-25', 'astronomy': [{'sunrise': '07:54 AM', 'sunset': '05:32 PM', 'moonrise': '06:29 AM', 'moonset': '05:12 PM', 'moon_phase': 'New Moon', 'moon_illumination': '0'}], 'maxtempC': '11', 'maxtempF': '51', 'mintempC': '4', 'mintempF': '40', 'avgtempC': '8', 'avgtempF': '46', 'totalSnow_cm': '0.0', 'sunHour': '8.7', 'uvIndex': '3', 'hourly': [{'time': '24', 'tempC': '11', 'tempF': '51', 'windspeedMiles': '8', 'windspeedKmph': '13', 'winddirDegree': '240', 'winddir16Point': 'WSW', 'weatherCode': '116', 'weatherIconUrl': [{'value': 'http://cdn.worldweatheronline.com/images/wsymbols01_png_64/wsymbol_0002_sunny_intervals.png'}], 'weatherDesc': [{'value': 'Partly cloudy'}], 'precipMM': '0.0', 'precipInches': '0.0', 'humidity': '67', 'visibility': '10', 'visibilityMiles': '6', 'pressure': '1009', 'pressureInches': '30', 'cloudcover': '12', 'HeatIndexC': '7', 'HeatIndexF': '45', 'DewPointC': '2', 'DewPointF': '35', 'WindChillC': '5', 'WindChillF': '41', 'WindGustMiles': '11', 'WindGustKmph': '17', 'FeelsLikeC': '5', 'FeelsLikeF': '41', 'uvIndex': '3'}]}, {'date': '2019-11-26', 'astronomy': [{'sunrise': '07:55 AM', 'sunset': '05:31 PM', 'moonrise': '07:42 AM', 'moonset': '05:51 PM', 'moon_phase': 'New Moon', 'moon_illumination': '0'}], 'maxtempC': '14', 'maxtempF': '58', 'mintempC': '6', 'mintempF': '42', 'avgtempC': '11', 'avgtempF': '51', 'totalSnow_cm': '0.0', 'sunHour': '8.7', 'uvIndex': '4', 'hourly': [{'time': '24', 'tempC': '14', 'tempF': '58', 'windspeedMiles': '6', 'windspeedKmph': '9', 'winddirDegree': '220', 'winddir16Point': 'SW', 'weatherCode': '116', 'weatherIconUrl': [{'value': 'http://cdn.worldweatheronline.com/images/wsymbols01_png_64/wsymbol_0002_sunny_intervals.png'}], 'weatherDesc': [{'value': 'Partly cloudy'}], 'precipMM': '0.0', 'precipInches': '0.0', 'humidity': '70', 'visibility': '10', 'visibilityMiles': '6', 'pressure': '1016', 'pressureInches': '30', 'cloudcover': '15', 'HeatIndexC': '10', 'HeatIndexF': '50', 'DewPointC': '5', 'DewPointF': '40', 'WindChillC': '9', 'WindChillF': '48', 'WindGustMiles': '8', 'WindGustKmph': '13', 'FeelsLikeC': '9', 'FeelsLikeF': '48', 'uvIndex': '4'}]}, {'date': '2019-11-27', 'astronomy': [{'sunrise': '07:56 AM', 'sunset': '05:31 PM', 'moonrise': '08:51 AM', 'moonset': '06:35 PM', 'moon_phase': 'New Moon', 'moon_illumination': '0'}], 'maxtempC': '13', 'maxtempF': '56', 'mintempC': '12', 'mintempF': '54', 'avgtempC': '13', 'avgtempF': '56', 'totalSnow_cm': '0.0', 'sunHour': '5.3', 'uvIndex': '3', 'hourly': [{'time': '24', 'tempC': '13', 'tempF': '56', 'windspeedMiles': '14', 'windspeedKmph': '23', 'winddirDegree': '194', 'winddir16Point': 'SSW', 'weatherCode': '176', 'weatherIconUrl': [{'value': 'http://cdn.worldweatheronline.com/images/wsymbols01_png_64/wsymbol_0009_light_rain_showers.png'}], 'weatherDesc': [{'value': 'Patchy rain possible'}], 'precipMM': '0.1', 'precipInches': '0.0', 'humidity': '73', 'visibility': '10', 'visibilityMiles': '6', 'pressure': '1004', 'pressureInches': '30', 'cloudcover': '59', 'HeatIndexC': '13', 'HeatIndexF': '55', 'DewPointC': '8', 'DewPointF': '47', 'WindChillC': '11', 'WindChillF': '52', 'WindGustMiles': '23', 'WindGustKmph': '37', 'FeelsLikeC': '11', 'FeelsLikeF': '52', 'uvIndex': '3'}]}, {'date': '2019-11-28', 'astronomy': [{'sunrise': '07:57 AM', 'sunset': '05:31 PM', 'moonrise': '09:56 AM', 'moonset': '07:25 PM', 'moon_phase': 'Waxing Crescent', 'moon_illumination': '4'}], 'maxtempC': '10', 'maxtempF': '50', 'mintempC': '4', 'mintempF': '38', 'avgtempC': '9', 'avgtempF': '47', 'totalSnow_cm': '0.0', 'sunHour': '3.7', 'uvIndex': '2', 'hourly': [{'time': '24', 'tempC': '10', 'tempF': '50', 'windspeedMiles': '19', 'windspeedKmph': '30', 'winddirDegree': '320', 'winddir16Point': 'NW', 'weatherCode': '122', 'weatherIconUrl': [{'value': 'http://cdn.worldweatheronline.com/images/wsymbols01_png_64/wsymbol_0004_black_low_cloud.png'}], 'weatherDesc': [{'value': 'Overcast'}], 'precipMM': '0.0', 'precipInches': '0.0', 'humidity': '55', 'visibility': '10', 'visibilityMiles': '6', 'pressure': '1011', 'pressureInches': '30', 'cloudcover': '48', 'HeatIndexC': '7', 'HeatIndexF': '45', 'DewPointC': '-1', 'DewPointF': '30', 'WindChillC': '3', 'WindChillF': '38', 'WindGustMiles': '26', 'WindGustKmph': '42', 'FeelsLikeC': '3', 'FeelsLikeF': '38', 'uvIndex': '2'}]}, {'date': '2019-11-29', 'astronomy': [{'sunrise': '07:58 AM', 'sunset': '05:30 PM', 'moonrise': '10:53 AM', 'moonset': '08:20 PM', 'moon_phase': 'Waxing Crescent', 'moon_illumination': '12'}], 'maxtempC': '7', 'maxtempF': '45', 'mintempC': '1', 'mintempF': '33', 'avgtempC': '4', 'avgtempF': '40', 'totalSnow_cm': '0.0', 'sunHour': '8.7', 'uvIndex': '2', 'hourly': [{'time': '24', 'tempC': '7', 'tempF': '45', 'windspeedMiles': '9', 'windspeedKmph': '14', 'winddirDegree': '227', 'winddir16Point': 'SW', 'weatherCode': '116', 'weatherIconUrl': [{'value': 'http://cdn.worldweatheronline.com/images/wsymbols01_png_64/wsymbol_0002_sunny_intervals.png'}], 'weatherDesc': [{'value': 'Partly cloudy'}], 'precipMM': '0.0', 'precipInches': '0.0', 'humidity': '48', 'visibility': '10', 'visibilityMiles': '6', 'pressure': '1022', 'pressureInches': '31', 'cloudcover': '25', 'HeatIndexC': '3', 'HeatIndexF': '38', 'DewPointC': '-7', 'DewPointF': '20', 'WindChillC': '0', 'WindChillF': '32', 'WindGustMiles': '11', 'WindGustKmph': '18', 'FeelsLikeC': '0', 'FeelsLikeF': '32', 'uvIndex': '2'}]}, {'date': '2019-11-30', 'astronomy': [{'sunrise': '07:59 AM', 'sunset': '05:30 PM', 'moonrise': '11:43 AM', 'moonset': '09:19 PM', 'moon_phase': 'Waxing Crescent', 'moon_illumination': '20'}], 'maxtempC': '8', 'maxtempF': '47', 'mintempC': '1', 'mintempF': '33', 'avgtempC': '5', 'avgtempF': '41', 'totalSnow_cm': '0.0', 'sunHour': '8.7', 'uvIndex': '2', 'hourly': [{'time': '24', 'tempC': '8', 'tempF': '47', 'windspeedMiles': '7', 'windspeedKmph': '11', 'winddirDegree': '331', 'winddir16Point': 'NNW', 'weatherCode': '116', 'weatherIconUrl': [{'value': 'http://cdn.worldweatheronline.com/images/wsymbols01_png_64/wsymbol_0002_sunny_intervals.png'}], 'weatherDesc': [{'value': 'Partly cloudy'}], 'precipMM': '0.0', 'precipInches': '0.0', 'humidity': '37', 'visibility': '10', 'visibilityMiles': '6', 'pressure': '1018', 'pressureInches': '31', 'cloudcover': '8', 'HeatIndexC': '4', 'HeatIndexF': '39', 'DewPointC': '-10', 'DewPointF': '14', 'WindChillC': '1', 'WindChillF': '34', 'WindGustMiles': '8', 'WindGustKmph': '13', 'FeelsLikeC': '1', 'FeelsLikeF': '34', 'uvIndex': '2'}]}]\n"
          ],
          "name": "stdout"
        }
      ]
    },
    {
      "cell_type": "code",
      "metadata": {
        "id": "rk7GjsHoxBW0"
      },
      "source": [
        "num_days = len(data)\n",
        "# initialize df_month to store return data\n",
        "df_month = pd.DataFrame()\n",
        "for i in range(num_days):\n",
        "    # extract this day\n",
        "    d = data[i]\n",
        "    # astronomy data is the same for the whole day\n",
        "    astr_df = pd.DataFrame(d['astronomy'])\n",
        "    # hourly data; temperature for each hour of the day\n",
        "    hourly_df = pd.DataFrame(d['hourly'])\n",
        "    # this wanted_key will be duplicated and use 'ffill' to fill up the NAs\n",
        "    wanted_keys = ['date', 'maxtempC', 'mintempC', 'totalSnow_cm', 'sunHour', 'uvIndex']  # The keys you want\n",
        "    subset_d = dict((k, d[k]) for k in wanted_keys if k in d)\n",
        "    this_df = pd.DataFrame(subset_d, index=[0])\n",
        "    df = pd.concat([this_df.reset_index(drop=True), astr_df], axis=1)\n",
        "    # concat selected astonomy columns with hourly data\n",
        "    df = pd.concat([df, hourly_df], axis=1)\n",
        "    df = df.fillna(method='ffill')\n",
        "    # make date_time columm to proper format\n",
        "    # fill leading zero for hours to 4 digits (0000-2400 hr)\n",
        "    df['time'] = df['time'].apply(lambda x: x.zfill(4))\n",
        "    # keep only first 2 digit (00-24 hr) \n",
        "    df['time'] = df['time'].str[:2]\n",
        "    # convert to pandas datetime\n",
        "    df['date_time'] = pd.to_datetime(df['date'] + ' ' + df['time'])\n",
        "    # keep only interested columns\n",
        "    col_to_keep = ['date_time', 'maxtempC', 'mintempC', 'totalSnow_cm', 'sunHour', 'uvIndex',\n",
        "                   'moon_illumination', 'moonrise', 'moonset', 'sunrise', 'sunset',\n",
        "                   'DewPointC', 'FeelsLikeC', 'HeatIndexC', 'WindChillC', 'WindGustKmph',\n",
        "                   'cloudcover', 'humidity', 'precipMM', 'pressure', 'tempC', 'visibility',\n",
        "                   'winddirDegree', 'windspeedKmph']\n",
        "    df = df[col_to_keep]\n",
        "    df = df.loc[:,~df.columns.duplicated()]\n",
        "    df_month = pd.concat([df_month, df])"
      ],
      "execution_count": null,
      "outputs": []
    },
    {
      "cell_type": "code",
      "metadata": {
        "id": "wlnRMO7fyHpu",
        "colab": {
          "base_uri": "https://localhost:8080/",
          "height": 603
        },
        "outputId": "2b29b800-01dd-451e-fc43-a0b1df8c88ca"
      },
      "source": [
        "print(df_month)"
      ],
      "execution_count": null,
      "outputs": [
        {
          "output_type": "stream",
          "text": [
            "   date_time maxtempC mintempC  ... visibility winddirDegree windspeedKmph\n",
            "0 2019-11-01       12        8  ...         10           286            27\n",
            "0 2019-11-02       13        9  ...         10           143             9\n",
            "0 2019-11-03       12        8  ...         10           279            15\n",
            "0 2019-11-04       13        8  ...         10           178            13\n",
            "0 2019-11-05       16       12  ...         10           234            17\n",
            "0 2019-11-06       14        7  ...         10           295            13\n",
            "0 2019-11-07       14        7  ...          8           233            16\n",
            "0 2019-11-08        5       -0  ...         10           327            24\n",
            "0 2019-11-09        6        0  ...         10           169            11\n",
            "0 2019-11-10       11        5  ...         10           232            14\n",
            "0 2019-11-11       14        8  ...         10           241             5\n",
            "0 2019-11-12       12       -2  ...          7           315            23\n",
            "0 2019-11-13        1       -3  ...         10           321            18\n",
            "0 2019-11-14        7        0  ...         10           212            11\n",
            "0 2019-11-15       10        4  ...         10           263            13\n",
            "0 2019-11-16        4       -0  ...         10            51            23\n",
            "0 2019-11-17        6       -4  ...         10            43            19\n",
            "0 2019-11-18        5        0  ...          8            11            16\n",
            "0 2019-11-19       12        5  ...          9           273             9\n",
            "0 2019-11-20        8        4  ...         10           336            16\n",
            "0 2019-11-21       11        4  ...         10           275            11\n",
            "0 2019-11-22       11        4  ...         10           261            24\n",
            "0 2019-11-23        8        2  ...          9           253            12\n",
            "0 2019-11-24        9        6  ...          7           215            22\n",
            "0 2019-11-25       11        4  ...         10           240            13\n",
            "0 2019-11-26       14        6  ...         10           220             9\n",
            "0 2019-11-27       13       12  ...         10           194            23\n",
            "0 2019-11-28       10        4  ...         10           320            30\n",
            "0 2019-11-29        7        1  ...         10           227            14\n",
            "0 2019-11-30        8        1  ...         10           331            11\n",
            "\n",
            "[30 rows x 24 columns]\n"
          ],
          "name": "stdout"
        }
      ]
    },
    {
      "cell_type": "code",
      "metadata": {
        "id": "G7UH17OMkuID",
        "colab": {
          "base_uri": "https://localhost:8080/",
          "height": 603
        },
        "outputId": "e8557c22-3f35-4b67-f210-25420e81b97d"
      },
      "source": [
        "# call function to extract json object\n",
        "df_this_month = df_month\n",
        "df_this_month['location'] = location\n",
        "df_hist = pd.concat([df_hist, df_this_month])\n",
        "\n",
        "print(df_hist)"
      ],
      "execution_count": null,
      "outputs": [
        {
          "output_type": "stream",
          "text": [
            "   date_time maxtempC mintempC  ... winddirDegree windspeedKmph  location\n",
            "0 2019-11-01       12        8  ...           286            27  New+York\n",
            "0 2019-11-02       13        9  ...           143             9  New+York\n",
            "0 2019-11-03       12        8  ...           279            15  New+York\n",
            "0 2019-11-04       13        8  ...           178            13  New+York\n",
            "0 2019-11-05       16       12  ...           234            17  New+York\n",
            "0 2019-11-06       14        7  ...           295            13  New+York\n",
            "0 2019-11-07       14        7  ...           233            16  New+York\n",
            "0 2019-11-08        5       -0  ...           327            24  New+York\n",
            "0 2019-11-09        6        0  ...           169            11  New+York\n",
            "0 2019-11-10       11        5  ...           232            14  New+York\n",
            "0 2019-11-11       14        8  ...           241             5  New+York\n",
            "0 2019-11-12       12       -2  ...           315            23  New+York\n",
            "0 2019-11-13        1       -3  ...           321            18  New+York\n",
            "0 2019-11-14        7        0  ...           212            11  New+York\n",
            "0 2019-11-15       10        4  ...           263            13  New+York\n",
            "0 2019-11-16        4       -0  ...            51            23  New+York\n",
            "0 2019-11-17        6       -4  ...            43            19  New+York\n",
            "0 2019-11-18        5        0  ...            11            16  New+York\n",
            "0 2019-11-19       12        5  ...           273             9  New+York\n",
            "0 2019-11-20        8        4  ...           336            16  New+York\n",
            "0 2019-11-21       11        4  ...           275            11  New+York\n",
            "0 2019-11-22       11        4  ...           261            24  New+York\n",
            "0 2019-11-23        8        2  ...           253            12  New+York\n",
            "0 2019-11-24        9        6  ...           215            22  New+York\n",
            "0 2019-11-25       11        4  ...           240            13  New+York\n",
            "0 2019-11-26       14        6  ...           220             9  New+York\n",
            "0 2019-11-27       13       12  ...           194            23  New+York\n",
            "0 2019-11-28       10        4  ...           320            30  New+York\n",
            "0 2019-11-29        7        1  ...           227            14  New+York\n",
            "0 2019-11-30        8        1  ...           331            11  New+York\n",
            "\n",
            "[30 rows x 25 columns]\n"
          ],
          "name": "stdout"
        }
      ]
    }
  ]
}