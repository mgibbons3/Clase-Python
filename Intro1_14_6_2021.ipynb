{
  "nbformat": 4,
  "nbformat_minor": 0,
  "metadata": {
    "colab": {
      "name": "Intro 14/6/2021.ipynb",
      "provenance": [],
      "collapsed_sections": [],
      "toc_visible": true,
      "include_colab_link": true
    },
    "kernelspec": {
      "name": "python3",
      "display_name": "Python 3"
    }
  },
  "cells": [
    {
      "cell_type": "markdown",
      "metadata": {
        "id": "view-in-github",
        "colab_type": "text"
      },
      "source": [
        "<a href=\"https://colab.research.google.com/github/mgibbons3/Clase-Python/blob/main/Intro1_14_6_2021.ipynb\" target=\"_parent\"><img src=\"https://colab.research.google.com/assets/colab-badge.svg\" alt=\"Open In Colab\"/></a>"
      ]
    },
    {
      "cell_type": "markdown",
      "metadata": {
        "id": "IYjO9FJ0TtUA"
      },
      "source": [
        "**Python básico**"
      ]
    },
    {
      "cell_type": "markdown",
      "metadata": {
        "id": "BBuHZ-vLaKXg"
      },
      "source": [
        "# Hello, World!"
      ]
    },
    {
      "cell_type": "code",
      "metadata": {
        "id": "CtpTLiAVUx3s",
        "colab": {
          "base_uri": "https://localhost:8080/",
          "height": 35
        },
        "outputId": "1d5e04ed-c728-4d93-f872-4e8f92cd09b5"
      },
      "source": [
        "print(\"Hello, World!\")"
      ],
      "execution_count": null,
      "outputs": [
        {
          "output_type": "stream",
          "text": [
            "Hello, World!\n"
          ],
          "name": "stdout"
        }
      ]
    },
    {
      "cell_type": "markdown",
      "metadata": {
        "id": "jaVTq6TbU2x6"
      },
      "source": [
        "Acabamos de correr nuestro primer programa. Notar que el programa nos resalta las palabras de distintos colores. *print* es un termino \"protegido\"  y lo resalta en marrón. El color dependerá del programa que usemos."
      ]
    },
    {
      "cell_type": "markdown",
      "metadata": {
        "id": "9Pad-D04aNa7"
      },
      "source": [
        "# Sangrías (indentation)"
      ]
    },
    {
      "cell_type": "markdown",
      "metadata": {
        "id": "VlW8sdnIanui"
      },
      "source": [
        "Python utiliza la indentación para indicar las partes del código que deben ser ejecutadas juntas. Se admiten tanto tabulaciones como espacios. \n",
        "\n",
        "Es fundamental esto para Python. Un loop finaliza cuando se escribe un comando que tiene menor sangría que el anterior.\n",
        "\n",
        "En este ejercicio se asignará un valor a una variable, comprobará si una comparación es verdadera, y luego - basándose en el resultado - imprimirá. \n",
        "\n",
        "(Podrés apretar Ctrl+Enter para que corra el código)"
      ]
    },
    {
      "cell_type": "code",
      "metadata": {
        "id": "4lY6Yv9AReA_",
        "colab": {
          "base_uri": "https://localhost:8080/",
          "height": 34
        },
        "outputId": "d086c0ba-bc50-4964-829c-d54f77e19e8f"
      },
      "source": [
        "x = 1\n",
        "if x == 1:\n",
        "  # Indented  \n",
        "  print(\"x is 1\")"
      ],
      "execution_count": null,
      "outputs": [
        {
          "output_type": "stream",
          "text": [
            "x is 1\n"
          ],
          "name": "stdout"
        }
      ]
    },
    {
      "cell_type": "markdown",
      "metadata": {
        "id": "MubSmavGZg_o"
      },
      "source": [
        "Cualquier término de texto no protegido puede ser una variable. *x* podría haber sido tu nombre. Normalmente nombramos las variables de la forma más descriptiva posible para poder leer algoritmos como el texto (es decir, el código se describe a sí mismo)."
      ]
    },
    {
      "cell_type": "markdown",
      "metadata": {
        "id": "CL2PhMstbvML"
      },
      "source": [
        "\n",
        "\n",
        "---\n",
        "\n",
        "\n",
        "Usar nombres de variables válidos!\n",
        "\n",
        "* Los nombres de las variables pueden contener letras, números y guión bajo.\n",
        "* NO se puede empezar el nombre de una variable con un dígito, o usar las palabras protegidas de Python (ej. False, list, None, zip, else, class, ...).\n",
        "* NO usar un espacio en el medio del nombre de una variable.\n",
        "* Case-sensitive\n",
        "\n",
        "\n",
        "---\n",
        "\n",
        "\n"
      ]
    },
    {
      "cell_type": "markdown",
      "metadata": {
        "id": "fDhWFyV3ci-P"
      },
      "source": [
        "# Variables y Tipos de datos"
      ]
    },
    {
      "cell_type": "markdown",
      "metadata": {
        "id": "amTHFgJMER59"
      },
      "source": [
        "[Data Types](https://drive.google.com/file/d/1tRSMdUwpOnH8AoLceyFPNJ3jenBb8YUw/view?usp=sharing)"
      ]
    },
    {
      "cell_type": "markdown",
      "metadata": {
        "id": "Jk5EaGcRc6ZS"
      },
      "source": [
        "Cada variable es un *objeto*.\n",
        "\n",
        "Tipo de datos\n",
        "* Números: Integer, Float, Boolean\n",
        "* Strings (texto)\n",
        "* Listas\n",
        "* Tuple\n",
        "* Array\n",
        "* Diccionarios\n",
        "* Set\n",
        "* File\n",
        "\n",
        "|Estructura de datos | Propiedades| Sintaxis|\n",
        "|----|----|----|\n",
        "|List | Ordenada, secuencia mutable | mylist = [1,2,3] |\n",
        "|Tuple | Ordenada, secuencia inmutable | mytuple = (1,2,3) |\n",
        "|Set | Conjunto no ordenado de valores únicos, mutable con elementos inmutables| myset = set([1,2,3]) o myset={1,2,3} |\n",
        "|Dictionary | Conjunto mutable de pares de valores | mydict = {'first_value':1, 'second_value:2} |"
      ]
    },
    {
      "cell_type": "markdown",
      "metadata": {
        "id": "Dwoslz9Udh14"
      },
      "source": [
        "Números\n",
        "--\n",
        "\n",
        "2 tipos de números: *integers* y *floats*.\n",
        "Ojo! al convertir uno al otro\n",
        "\n",
        "\n"
      ]
    },
    {
      "cell_type": "code",
      "metadata": {
        "id": "WMtfQ90CdupF",
        "colab": {
          "base_uri": "https://localhost:8080/",
          "height": 34
        },
        "outputId": "0afac844-7ad2-4bee-a762-320a1e0c7494"
      },
      "source": [
        "myint = 7\n",
        "print(myint)"
      ],
      "execution_count": null,
      "outputs": [
        {
          "output_type": "stream",
          "text": [
            "7\n"
          ],
          "name": "stdout"
        }
      ]
    },
    {
      "cell_type": "code",
      "metadata": {
        "id": "ZU4K5KfId7Dl",
        "colab": {
          "base_uri": "https://localhost:8080/",
          "height": 51
        },
        "outputId": "267c0c76-1d40-41df-e255-fd55fa88c80e"
      },
      "source": [
        "myfloat = 7.0\n",
        "print(myfloat)\n",
        "# Convertir a float\n",
        "myfloat = float(myint)\n",
        "# `float` es un término protegido\n",
        "print(myfloat)"
      ],
      "execution_count": null,
      "outputs": [
        {
          "output_type": "stream",
          "text": [
            "7.0\n",
            "7.0\n"
          ],
          "name": "stdout"
        }
      ]
    },
    {
      "cell_type": "code",
      "metadata": {
        "id": "wOfeT9uud7jQ",
        "colab": {
          "base_uri": "https://localhost:8080/",
          "height": 34
        },
        "outputId": "0d49c54e-a548-481f-d7c1-be5e133e2b5f"
      },
      "source": [
        "# Convertir float a integer\n",
        "myint = int(7.8)\n",
        "print(myint)"
      ],
      "execution_count": null,
      "outputs": [
        {
          "output_type": "stream",
          "text": [
            "7\n"
          ],
          "name": "stdout"
        }
      ]
    },
    {
      "cell_type": "markdown",
      "metadata": {
        "id": "7cWGlV5C318t"
      },
      "source": [
        "* La división (/) siempre devuelve un número *float*.\n",
        "* Existe la *floored division* (//) que devuelve un número *float* si alguno de los operandos es *float* o un entero si ambos son enteros."
      ]
    },
    {
      "cell_type": "code",
      "metadata": {
        "id": "3xmdVtAQQT0_",
        "colab": {
          "base_uri": "https://localhost:8080/",
          "height": 121
        },
        "outputId": "090007b5-eabf-4dc2-d298-bc1d10ac0978"
      },
      "source": [
        "print(10 / 20)\n",
        "print(10 / 2)\n",
        "y= 10 / 2\n",
        "print(y==5)\n",
        "print(10 // 20)\n",
        "print(10 // 2)\n",
        "print(5.0 // 2)\n",
        "\n"
      ],
      "execution_count": null,
      "outputs": [
        {
          "output_type": "stream",
          "text": [
            "0.5\n",
            "5.0\n",
            "True\n",
            "0\n",
            "5\n",
            "2.0\n"
          ],
          "name": "stdout"
        }
      ]
    },
    {
      "cell_type": "code",
      "metadata": {
        "id": "4_cskjmvsg-a",
        "colab": {
          "base_uri": "https://localhost:8080/",
          "height": 51
        },
        "outputId": "aeab267b-8bf1-4b08-b3b5-cedd2577dce1"
      },
      "source": [
        "# Conversión implícita\n",
        "print(5 + 2.0)\n",
        "# Conversión explícita\n",
        "print(float(5 + 2))"
      ],
      "execution_count": null,
      "outputs": [
        {
          "output_type": "stream",
          "text": [
            "7.0\n",
            "7.0\n"
          ],
          "name": "stdout"
        }
      ]
    },
    {
      "cell_type": "markdown",
      "metadata": {
        "id": "WFMB5HnLedQJ"
      },
      "source": [
        "---\n",
        "Strings\n",
        "---\n",
        "\n",
        "Se puede usar comillas simples o dobles. Pero tener cuidado si el texto tiene apóstrofes...\n"
      ]
    },
    {
      "cell_type": "code",
      "metadata": {
        "id": "ckkUcsCxfPUB",
        "colab": {
          "base_uri": "https://localhost:8080/",
          "height": 68
        },
        "outputId": "7e49d0f8-af66-4240-89cc-3a26edfc8496"
      },
      "source": [
        "mystring = \"Hello, World!\"\n",
        "print(mystring)\n",
        "mystring = \"Let's talk about apostrophes...\"\n",
        "print(mystring)\n",
        "mystring = 'Let'\n",
        "print(mystring)"
      ],
      "execution_count": null,
      "outputs": [
        {
          "output_type": "stream",
          "text": [
            "Hello, World!\n",
            "Let's talk about apostrophes...\n",
            "Let\n"
          ],
          "name": "stdout"
        }
      ]
    },
    {
      "cell_type": "markdown",
      "metadata": {
        "id": "1LiPqD-ghSSK"
      },
      "source": [
        "También se pueden aplicar operadores simples a sus variables, o asignar múltiples variables simultáneamente."
      ]
    },
    {
      "cell_type": "code",
      "metadata": {
        "id": "4qyUCnn0fgB3",
        "colab": {
          "base_uri": "https://localhost:8080/",
          "height": 119
        },
        "outputId": "cc429269-88b3-472e-df79-2a8ef3d41091"
      },
      "source": [
        "one = 1\n",
        "two = 2\n",
        "three = one + two\n",
        "print(three)\n",
        "\n",
        "hello = \"Hello,\"\n",
        "world = \"World!\"\n",
        "helloworld = hello + \" \" + world\n",
        "print(helloworld)\n",
        "\n",
        "a, b = 3, 4\n",
        "print(a)\n",
        "print(a, b)\n",
        "\n",
        "a=3\n",
        "b=4\n",
        "n=3*4\n",
        "print('El producto de', a , 'por' , b , 'es', n)\n",
        "# f-string\n",
        "print(f'El producto de {a} por {b} es {n}')"
      ],
      "execution_count": null,
      "outputs": [
        {
          "output_type": "stream",
          "text": [
            "3\n",
            "Hello, World!\n",
            "3\n",
            "3 4\n",
            "El producto de 3 por 4 es 12\n",
            "El producto de 3 por 4 es 12\n"
          ],
          "name": "stdout"
        }
      ]
    },
    {
      "cell_type": "markdown",
      "metadata": {
        "id": "HK_fUtLehhC1"
      },
      "source": [
        "Pero mezclar distintos tipos de variables causa problemas."
      ]
    },
    {
      "cell_type": "code",
      "metadata": {
        "id": "ZBUD45PNhn88"
      },
      "source": [
        "print(one + two + hello)"
      ],
      "execution_count": null,
      "outputs": []
    },
    {
      "cell_type": "markdown",
      "metadata": {
        "id": "V67Qb57mh3G_"
      },
      "source": [
        "* Añadir variables a un *string* usando `format`: \n",
        "\n",
        "`\"Variable {}\".format(x)` reemplazará el `{}` en el *string* con el valor de la variable `x`.\n",
        "\n",
        "* Para controlar la cantidad de decimales:\n",
        "\n",
        "`\"Variable {:10.4f}\".format(x)` donde `10` es la cantidad de espacio asignado al *float* y `0.4f` es el número de decimales después del punto. \n",
        "\n"
      ]
    },
    {
      "cell_type": "code",
      "metadata": {
        "id": "SjTeANLeidIf",
        "colab": {
          "base_uri": "https://localhost:8080/",
          "height": 68
        },
        "outputId": "a9b4fe18-2c32-4d16-e78d-addc3fa92a24"
      },
      "source": [
        "variable = 1/3 * 100\n",
        "print(\"Unformated variable: {}%\".format(variable))\n",
        "print(\"Formatted variable: {:.3f}%\".format(variable))\n",
        "print(\"Space formatted variable: {:10.1f}%\".format(variable))"
      ],
      "execution_count": null,
      "outputs": [
        {
          "output_type": "stream",
          "text": [
            "Unformated variable: 33.33333333333333%\n",
            "Formatted variable: 33.333%\n",
            "Space formatted variable:       33.3%\n"
          ],
          "name": "stdout"
        }
      ]
    },
    {
      "cell_type": "markdown",
      "metadata": {
        "id": "5b7CToDmvfC6"
      },
      "source": [
        "* Built-in functions: \n",
        "len(string)\n",
        "\n",
        "* Built-in methods:\n",
        "string.upper(), string.lower(), string.capitalize()\n",
        "\n",
        "Ver más [functions](https://docs.python.org/3.7/library/functions.html) \n",
        "\n",
        "Ver más [built-in methods para strings](https://docs.python.org/3/library/stdtypes.html#string-methods)"
      ]
    },
    {
      "cell_type": "markdown",
      "metadata": {
        "id": "kxEyCwbSkJrz"
      },
      "source": [
        "---\n",
        "Listas\n",
        "---\n",
        "Son una lista **ordenada** y **mutable** de cualquier tipo de variable. Podés combinar tantas variables como quieras, e incluso pueden ser de múltiples tipos. \n",
        "\n",
        "Normalmente, a menos que tengas una razón específica para hacerlo, las listas contendrán variables de un sólo tipo.\n",
        "\n",
        "También puedes iterar sobre una lista (usar cada elemento de una lista en secuencia).\n",
        "\n",
        "Una lista se coloca entre corchetes: [] y los elementos se separan con comas (,)."
      ]
    },
    {
      "cell_type": "code",
      "metadata": {
        "id": "HRhBJgsikgOX",
        "colab": {
          "base_uri": "https://localhost:8080/",
          "height": 34
        },
        "outputId": "3143704e-feae-4100-f2de-d40bc562c0ca"
      },
      "source": [
        "mylist = []\n",
        "mylist.append(1)\n",
        "mylist.append(2)\n",
        "mylist.append(3)\n",
        "mylist.append(4)\n",
        "# Se puede `llamar' a cada item de la lista directamente. \n",
        "# Ojo! Python empieza a contar desde 0.\n",
        "print(mylist[0])"
      ],
      "execution_count": null,
      "outputs": [
        {
          "output_type": "stream",
          "text": [
            "1\n"
          ],
          "name": "stdout"
        }
      ]
    },
    {
      "cell_type": "code",
      "metadata": {
        "id": "2pLx9OyYnP2v",
        "colab": {
          "base_uri": "https://localhost:8080/",
          "height": 34
        },
        "outputId": "e00a022b-88fa-4ba5-a9e0-1d51985b5f00"
      },
      "source": [
        "# El último item de la lista se `llama' usando el -1. \n",
        "print(mylist[-1])"
      ],
      "execution_count": null,
      "outputs": [
        {
          "output_type": "stream",
          "text": [
            "3\n"
          ],
          "name": "stdout"
        }
      ]
    },
    {
      "cell_type": "code",
      "metadata": {
        "id": "X5Ciqe0anQ-j",
        "colab": {
          "base_uri": "https://localhost:8080/",
          "height": 34
        },
        "outputId": "07060287-85eb-4af4-8cb3-4c41f95d4b52"
      },
      "source": [
        "# También podés seleccionar un subgrupo de items (slice)\n",
        "print(mylist[1:3])"
      ],
      "execution_count": null,
      "outputs": [
        {
          "output_type": "stream",
          "text": [
            "[2, 3]\n"
          ],
          "name": "stdout"
        }
      ]
    },
    {
      "cell_type": "code",
      "metadata": {
        "id": "s0P9YeBPnR5n",
        "colab": {
          "base_uri": "https://localhost:8080/",
          "height": 85
        },
        "outputId": "67c69a8d-0c6d-4ed1-9d25-defbd3c92007"
      },
      "source": [
        "# Fundamental para hacer loops usando `for` .\n",
        "# `x` es una nueva variable que toma el valor de cada item de la lista en orden.\n",
        "for x in mylist:\n",
        "    print(x)"
      ],
      "execution_count": null,
      "outputs": [
        {
          "output_type": "stream",
          "text": [
            "1\n",
            "2\n",
            "3\n",
            "4\n"
          ],
          "name": "stdout"
        }
      ]
    },
    {
      "cell_type": "code",
      "metadata": {
        "id": "0Uz7Skqet5W6",
        "colab": {
          "base_uri": "https://localhost:8080/",
          "height": 34
        },
        "outputId": "0a6b1170-b65c-4a6a-af63-8718eaa591f6"
      },
      "source": [
        "# Agregar elementos a lista\n",
        "a = [1,2,3]\n",
        "\n",
        "#a += [4,5] \n",
        "#a += 4,5\n",
        "#a[len(a):] = [4,5]\n",
        "#a.extend([4,5])\n",
        "\n",
        "##Ojo!\n",
        "#a.append([4,5])\n",
        "#a[-1:]=[4,5]\n",
        "\n",
        "print(a)\n"
      ],
      "execution_count": null,
      "outputs": [
        {
          "output_type": "stream",
          "text": [
            "[1, 2, 3]\n"
          ],
          "name": "stdout"
        }
      ]
    },
    {
      "cell_type": "markdown",
      "metadata": {
        "id": "oeVzXitop-FV"
      },
      "source": [
        "* Comprueba qué tipo de variable es usando `isinstance`\n",
        "* Usar `.sort()` para ordenar la lista alfabética o numéricamente.\n",
        "* Obtener el número de elementos de una lista con `len(lista)` ([built-in functions](https://docs.python.org/3.7/library/functions.html)). \n",
        "* Obtener el más chico o más grande (número o alfabético): `min(list)` o `max(list)`\n",
        "* Contar el número de veces que una variable particular aparece en una lista, usando `list.count(x)` (Ver más [built-in methods para listas](https://docs.python.org/3/tutorial/datastructures.html#more-on-lists)). \n",
        "* Enumera los outcomes de una lista usando `for i, x in enumerate(mylist)` \n",
        "* `enumerate` genera un *tuple* con el número de la enumeración que corresponde y lo que querés enumerar"
      ]
    },
    {
      "cell_type": "code",
      "metadata": {
        "id": "GyhCFZu0phDL",
        "colab": {
          "base_uri": "https://localhost:8080/",
          "height": 34
        },
        "outputId": "e76895f1-ae12-43d4-eafb-2fb6b3938aec"
      },
      "source": [
        "# Imaginemos que tenemos una lista de nombres no ordenados que de alguna manera se incluyeron algunos números al azar.\n",
        "# Para este ejercicio, queremos imprimir la lista alfabética de nombres sin los números.\n",
        "# Esta no es la mejor manera de hacer el ejercicio, pero ilustrará un montón de técnicas.\n",
        "names = [\"John\", 3234, 2342, 3323, \"Eric\", 234, \"Jessica\", 734978234, \"Lois\", 2384]\n",
        "print(\"Number of names in list: {}\".format(len(names)))"
      ],
      "execution_count": null,
      "outputs": [
        {
          "output_type": "stream",
          "text": [
            "Number of names in list: 10\n"
          ],
          "name": "stdout"
        }
      ]
    },
    {
      "cell_type": "code",
      "metadata": {
        "id": "6cpNqcDyqrZc"
      },
      "source": [
        "# Primero eliminamos esos números\n",
        "new_names = []\n",
        "for n in names:\n",
        "    if isinstance(n, str):\n",
        "        # Si n es string, agregar a la lista\n",
        "        # Notar la doble sangría\n",
        "        new_names.append(n)"
      ],
      "execution_count": null,
      "outputs": []
    },
    {
      "cell_type": "code",
      "metadata": {
        "id": "RXs3Oy61quIH",
        "colab": {
          "base_uri": "https://localhost:8080/",
          "height": 34
        },
        "outputId": "90c7608c-f00c-4b90-d223-0d4c6d6ad13d"
      },
      "source": [
        "# Ahora tendríamos que tener sólo nombres en la lista. \n",
        "# Ordenémoslos\n",
        "new_names.sort()\n",
        "print(\"Cleaned-up number of names in list: {}\".format(len(new_names)))"
      ],
      "execution_count": null,
      "outputs": [
        {
          "output_type": "stream",
          "text": [
            "Cleaned-up number of names in list: 4\n"
          ],
          "name": "stdout"
        }
      ]
    },
    {
      "cell_type": "code",
      "metadata": {
        "id": "CQX8g1UHMpgc",
        "colab": {
          "base_uri": "https://localhost:8080/",
          "height": 34
        },
        "outputId": "1f2aa6b0-ba0f-4bba-a828-c6bfc97b6c4c"
      },
      "source": [
        "print(new_names)"
      ],
      "execution_count": null,
      "outputs": [
        {
          "output_type": "stream",
          "text": [
            "['Eric', 'Jessica', 'John', 'Lois']\n"
          ],
          "name": "stdout"
        }
      ]
    },
    {
      "cell_type": "code",
      "metadata": {
        "id": "Orkm56tWu_9s",
        "colab": {
          "base_uri": "https://localhost:8080/",
          "height": 85
        },
        "outputId": "bbd4c7b0-dd2b-4d33-fd36-5c1e94300da5"
      },
      "source": [
        "for ele in enumerate(new_names): \n",
        "    print (ele)\n"
      ],
      "execution_count": null,
      "outputs": [
        {
          "output_type": "stream",
          "text": [
            "(0, 'Eric')\n",
            "(1, 'Jessica')\n",
            "(2, 'John')\n",
            "(3, 'Lois')\n"
          ],
          "name": "stdout"
        }
      ]
    },
    {
      "cell_type": "code",
      "metadata": {
        "id": "Sz_hHWhHrBaE",
        "colab": {
          "base_uri": "https://localhost:8080/",
          "height": 85
        },
        "outputId": "76eb846f-f6ee-4a3b-83da-2208a1fea4a1"
      },
      "source": [
        "# Veámoslos, pero enumerándolos.\n",
        "for i, n in enumerate(new_names):\n",
        "    # Usar i y n como string\n",
        "    # Agregar 1 a i porque las listas empiezan en 0.\n",
        "    print(\"{}. {}\".format(i+1, n))"
      ],
      "execution_count": null,
      "outputs": [
        {
          "output_type": "stream",
          "text": [
            "1. Eric\n",
            "2. Jessica\n",
            "3. John\n",
            "4. Lois\n"
          ],
          "name": "stdout"
        }
      ]
    },
    {
      "cell_type": "markdown",
      "metadata": {
        "id": "uhtYdPdkqyDZ"
      },
      "source": [
        "También existen nested lists:"
      ]
    },
    {
      "cell_type": "code",
      "metadata": {
        "id": "_KP94IogqxkH",
        "colab": {
          "base_uri": "https://localhost:8080/",
          "height": 102
        },
        "outputId": "6cf14783-076d-469d-f757-7648c4501c61"
      },
      "source": [
        "x = [10, [3.141, 20, [30, 'baz', 2.718]], 'foo']\n",
        "# Para \"llamar\" la f de 'foo''\n",
        "print(x[2][0])\n",
        "print(x[2][-3])\n",
        "# Para \"llamar\" a [3.141, 20]\n",
        "print(x[1][0:2])\n",
        "# Para eliminar un elemento\n",
        "x[0:1]=[]\n",
        "#x.remove(0)\n",
        "print(x)\n",
        "\n",
        "del x[1]\n",
        "print(x)\n"
      ],
      "execution_count": null,
      "outputs": [
        {
          "output_type": "stream",
          "text": [
            "f\n",
            "f\n",
            "[3.141, 20]\n",
            "[[3.141, 20, [30, 'baz', 2.718]], 'foo']\n",
            "[[3.141, 20, [30, 'baz', 2.718]]]\n"
          ],
          "name": "stdout"
        }
      ]
    },
    {
      "cell_type": "markdown",
      "metadata": {
        "id": "WT42a6Nb_Ess"
      },
      "source": [
        "Sets\n",
        "--\n",
        "Los conjuntos son listas (mutables) **sin entradas duplicadas**. Probablemente podrías escribir un algoritmo o un diccionario para lograr el mismo fin, pero los conjuntos son más rápidos y flexibles.\n",
        "\n",
        "**Frozen sets** son inmutables. Pueden ser partes de un set. Pueden ser key de un diccionario.\n",
        "\n",
        "x = frozenset(['foo', 'bar', 'baz'])"
      ]
    },
    {
      "cell_type": "code",
      "metadata": {
        "id": "wBuGa2MR_Wx-",
        "colab": {
          "base_uri": "https://localhost:8080/",
          "height": 34
        },
        "outputId": "d3f209a0-9fc2-4a51-dbbb-d9fd399d58a5"
      },
      "source": [
        "# Extraer todos los componentes únicos de la frase\n",
        "print(set(\"the rain is wet and wet is the rain\".split()))"
      ],
      "execution_count": null,
      "outputs": [
        {
          "output_type": "stream",
          "text": [
            "{'rain', 'and', 'is', 'wet', 'the'}\n"
          ],
          "name": "stdout"
        }
      ]
    },
    {
      "cell_type": "markdown",
      "metadata": {
        "id": "YTuHYCYG_Y_z"
      },
      "source": [
        "* Cree un conjunto único de términos con `set`\n",
        "* Para obtener elementos presentes en ambos conjuntos, usar `set1.intersection(set2)`\n",
        "* Para obtener los elementro únicos de ambos conjuntos, usar `set1.symmetric_difference(set2)`\n",
        "* Para obtener los elementos diferentes entre ambos conjuntos use `set1.difference(set2)`\n",
        "* Para obtener todos los elementos ambas listas, usar `set1.union(set2)`"
      ]
    },
    {
      "cell_type": "code",
      "metadata": {
        "id": "Uoaq0YBD_jQm",
        "colab": {
          "base_uri": "https://localhost:8080/",
          "height": 221
        },
        "outputId": "7c1a213a-2628-4758-d4cb-9e2ff56a1689"
      },
      "source": [
        "set_one = set([\"Alice\", \"Carol\", \"Dan\", \"Eve\", \"Heidi\"])\n",
        "set_two = set([\"Bob\", \"Dan\", \"Eve\", \"Grace\", \"Heidi\"])\n",
        "\n",
        "# Intersection (también se puede usar &)\n",
        "print(\"Set One intersection: {}\".format(set_one.intersection(set_two)))\n",
        "print(\"Set Two intersection: {}\".format(set_two.intersection(set_one)))\n",
        "print(\"Set Two intersection:\", set_two & set_one)\n",
        "\n",
        "# Symmetric difference (también se puede usar ^)\n",
        "print(\"Set One symmetric difference: {}\".format(set_one.symmetric_difference(set_two)))\n",
        "print(\"Set Two symmetric difference: {}\".format(set_two.symmetric_difference(set_one)))\n",
        "print(\"Set Two symmetric difference:\", set_two ^ set_one)\n",
        "\n",
        "# Difference (también se puede usar -)\n",
        "print(\"Set One difference: {}\".format(set_one.difference(set_two)))\n",
        "print(\"Set Two difference: {}\".format(set_two.difference(set_one)))\n",
        "print(\"Set Two difference:\", set_two - set_one)\n",
        "\n",
        "# Union (también se puede usar |)\n",
        "print(\"Set One union: {}\".format(set_one.union(set_two)))\n",
        "print(\"Set Two union: {}\".format(set_two.union(set_one)))\n",
        "print(\"Set Two union:\", set_two | set_one)"
      ],
      "execution_count": null,
      "outputs": [
        {
          "output_type": "stream",
          "text": [
            "Set One intersection: {'Dan', 'Heidi', 'Eve'}\n",
            "Set Two intersection: {'Dan', 'Heidi', 'Eve'}\n",
            "Set Two intersection: {'Dan', 'Heidi', 'Eve'}\n",
            "Set One symmetric difference: {'Grace', 'Alice', 'Bob', 'Carol'}\n",
            "Set Two symmetric difference: {'Alice', 'Grace', 'Bob', 'Carol'}\n",
            "Set Two symmetric difference: {'Alice', 'Grace', 'Bob', 'Carol'}\n",
            "Set One difference: {'Alice', 'Carol'}\n",
            "Set Two difference: {'Bob', 'Grace'}\n",
            "Set Two difference: {'Bob', 'Grace'}\n",
            "Set One union: {'Grace', 'Heidi', 'Alice', 'Bob', 'Dan', 'Carol', 'Eve'}\n",
            "Set Two union: {'Grace', 'Heidi', 'Alice', 'Dan', 'Bob', 'Carol', 'Eve'}\n",
            "Set Two union: {'Grace', 'Heidi', 'Alice', 'Dan', 'Bob', 'Carol', 'Eve'}\n"
          ],
          "name": "stdout"
        }
      ]
    },
    {
      "cell_type": "code",
      "metadata": {
        "id": "sX_fvCbcyI5K",
        "colab": {
          "base_uri": "https://localhost:8080/",
          "height": 34
        },
        "outputId": "d83ef4cf-b802-483c-ea69-aaea397f3321"
      },
      "source": [
        "# Está Bob en el set?\n",
        "'Bob' in set_one"
      ],
      "execution_count": null,
      "outputs": [
        {
          "output_type": "execute_result",
          "data": {
            "text/plain": [
              "False"
            ]
          },
          "metadata": {
            "tags": []
          },
          "execution_count": 183
        }
      ]
    },
    {
      "cell_type": "markdown",
      "metadata": {
        "id": "e0sxkJRxwnNv"
      },
      "source": [
        "--- \n",
        "Diccionarios\n",
        "---\n",
        "\n",
        "Los diccionarios son uno de los tipos de datos más útiles y versátiles de Python. Son similares a las matrices, pero consisten en pares clave:valor (key:value). \n",
        "\n",
        "Cada valor almacenado en un diccionario **se accede por su clave**, y el valor puede ser cualquier tipo de objeto (string, número, lista, etc.).\n",
        "\n",
        "Esto permite crear registros estructurados. \n",
        "\n",
        "**Los diccionarios se colocan entre {}. También se pueden definir usando:\n",
        "dictionary_name=dict()**\n",
        "\n",
        "Las *keys* de los diccionarios pueden ser cualquier objeto de tipo inmutable: string, built-in function (len), número, tuple (). **NO** puede ser una lista [] u otro diccionario dict()."
      ]
    },
    {
      "cell_type": "markdown",
      "metadata": {
        "id": "UtoaIWUGjisf"
      },
      "source": [
        ""
      ]
    },
    {
      "cell_type": "code",
      "metadata": {
        "id": "gwLg9M1Rw-IV",
        "colab": {
          "base_uri": "https://localhost:8080/",
          "height": 34
        },
        "outputId": "7a0ce603-429a-47c7-c581-7301a11e8171"
      },
      "source": [
        "phonebook = {}\n",
        "phonebook[\"John\"] = {\"Phone\": \"012 794 794\",\n",
        "                     \"Email\": \"john@email.com\"}\n",
        "phonebook[\"Jill\"] = {\"Phone\": \"012 345 345\",\n",
        "                     \"Email\": \"jill@email.com\"}\n",
        "phonebook[\"Joss\"] = {\"Phone\": \"012 321 321\",\n",
        "                     \"Email\": \"joss@email.com\"}\n",
        "print(phonebook)"
      ],
      "execution_count": null,
      "outputs": [
        {
          "output_type": "stream",
          "text": [
            "{'John': {'Phone': '012 794 794', 'Email': 'john@email.com'}, 'Jill': {'Phone': '012 345 345', 'Email': 'jill@email.com'}, 'Joss': {'Phone': '012 321 321', 'Email': 'joss@email.com'}}\n"
          ],
          "name": "stdout"
        }
      ]
    },
    {
      "cell_type": "markdown",
      "metadata": {
        "id": "FbhKNFKaxAKt"
      },
      "source": [
        "Tengan en cuenta que pueden anidar diccionarios y listas. Lo anterior muestra cómo puede agregar valores a un diccionario existente o crear diccionarios con valores.\n",
        "\n",
        "Podes iterar sobre un diccionario como si fuera una lista, usando `.items()`."
      ]
    },
    {
      "cell_type": "code",
      "metadata": {
        "id": "XatJPysQxQmt",
        "colab": {
          "base_uri": "https://localhost:8080/",
          "height": 70
        },
        "outputId": "e6a8b9da-8e59-407e-d69f-4c20b034bdf1"
      },
      "source": [
        "for name, record in phonebook.items():\n",
        "    print(\"{}'s phone number is {}, and their email is {}\".format(name, record[\"Phone\"], record[\"Email\"]))"
      ],
      "execution_count": null,
      "outputs": [
        {
          "output_type": "stream",
          "text": [
            "John's phone number is 012 794 794, and their email is john@email.com\n",
            "Jill's phone number is 012 345 345, and their email is jill@email.com\n",
            "Joss's phone number is 012 321 321, and their email is joss@email.com\n"
          ],
          "name": "stdout"
        }
      ]
    },
    {
      "cell_type": "markdown",
      "metadata": {
        "id": "ZhKYOJ63xaYe"
      },
      "source": [
        "Eliminar registros con `del` o `pop`. Estos son statements.\n",
        "\n",
        "También se puede borrar con **methods**: d.pop()"
      ]
    },
    {
      "cell_type": "code",
      "metadata": {
        "id": "t28AJ43bxkBT",
        "colab": {
          "base_uri": "https://localhost:8080/",
          "height": 52
        },
        "outputId": "22712f22-06f1-440b-853b-73a6002235c3"
      },
      "source": [
        "# `del`\n",
        "del phonebook[\"John\"]\n",
        "for name, record in phonebook.items():\n",
        "    print(\"{}'s phone number is {}, and their email is {}\".format(name, record[\"Phone\"], record[\"Email\"]))"
      ],
      "execution_count": null,
      "outputs": [
        {
          "output_type": "stream",
          "text": [
            "Jill's phone number is 012 345 345, and their email is jill@email.com\n",
            "Joss's phone number is 012 321 321, and their email is joss@email.com\n"
          ],
          "name": "stdout"
        }
      ]
    },
    {
      "cell_type": "code",
      "metadata": {
        "id": "uHvpBVGjx0he",
        "colab": {
          "base_uri": "https://localhost:8080/",
          "height": 34
        },
        "outputId": "98828f53-4f5f-4c1b-f429-009b00bca24a"
      },
      "source": [
        "# `pop` te muestra el registro y después lo borra\n",
        "jill_record = phonebook.pop(\"Jill\")\n",
        "print(jill_record)"
      ],
      "execution_count": null,
      "outputs": [
        {
          "output_type": "stream",
          "text": [
            "{'Phone': '012 345 345', 'Email': 'jill@email.com'}\n"
          ],
          "name": "stdout"
        }
      ]
    },
    {
      "cell_type": "code",
      "metadata": {
        "id": "n2N_ZGgjyF-U",
        "colab": {
          "base_uri": "https://localhost:8080/",
          "height": 34
        },
        "outputId": "c1d3e074-9c5f-4b86-c902-625abf90b8b8"
      },
      "source": [
        "for name, record in phonebook.items():\n",
        "    # You can see that only Joss is still left in the system\n",
        "    print(\"{}'s phone number is {}, and their email is {}\".format(name, record[\"Phone\"], record[\"Email\"]))"
      ],
      "execution_count": null,
      "outputs": [
        {
          "output_type": "stream",
          "text": [
            "Joss's phone number is 012 321 321, and their email is joss@email.com\n"
          ],
          "name": "stdout"
        }
      ]
    },
    {
      "cell_type": "code",
      "metadata": {
        "id": "yaLaYtYyx5xP"
      },
      "source": [
        "# Si no existe, ERROR!\n",
        "del phonebook[\"John\"]"
      ],
      "execution_count": null,
      "outputs": []
    },
    {
      "cell_type": "code",
      "metadata": {
        "id": "xaVot9o8kXp-",
        "colab": {
          "base_uri": "https://localhost:8080/",
          "height": 35
        },
        "outputId": "27144652-b59b-44d5-d955-d48c793a8963"
      },
      "source": [
        "# Quiero el teléfono de Joss\n",
        "phonebook[\"Joss\"][\"Phone\"]"
      ],
      "execution_count": null,
      "outputs": [
        {
          "output_type": "execute_result",
          "data": {
            "application/vnd.google.colaboratory.intrinsic": {
              "type": "string"
            },
            "text/plain": [
              "'012 321 321'"
            ]
          },
          "metadata": {
            "tags": []
          },
          "execution_count": 190
        }
      ]
    },
    {
      "cell_type": "markdown",
      "metadata": {
        "id": "lr4FALao2a1z"
      },
      "source": [
        "Una cosa que hay que acostumbrarse a hacer, es probar las variables antes de asumir que tienen las características que estás buscando. Puedes probar en un diccionario para ver si tiene un registro, y pedir que te devuelva cierta respuesta por defecto si no lo tiene.\n",
        "\n",
        "Esto se hace con `.get(\"key\", default)`. \n",
        "\n",
        "`default` puede ser cualquier cosa, incluyendo otra variable. \n",
        "\n",
        "Si dejas en blanco el valor `default` (es decir, sólo `.get(\"key\")`), el resultado será automáticamente `False` si no hay ningún registro."
      ]
    },
    {
      "cell_type": "code",
      "metadata": {
        "id": "N81oq2yp3C2D",
        "colab": {
          "base_uri": "https://localhost:8080/",
          "height": 34
        },
        "outputId": "1c119872-64c3-4646-b2f5-48bd05d43f3c"
      },
      "source": [
        "# False and True \n",
        "jill_record = phonebook.get(\"Jill\", False)\n",
        "if jill_record: \n",
        "    print(\"Jill's phone number is {}, and their email is {}\".format(jill_record[\"Phone\"], jill_record[\"Email\"]))\n",
        "else: # si es False\n",
        "    print(\"No record found.\")"
      ],
      "execution_count": null,
      "outputs": [
        {
          "output_type": "stream",
          "text": [
            "No record found.\n"
          ],
          "name": "stdout"
        }
      ]
    },
    {
      "cell_type": "markdown",
      "metadata": {
        "id": "TMS11OaxdZGU"
      },
      "source": [
        "# Operaciones básicas"
      ]
    },
    {
      "cell_type": "markdown",
      "metadata": {
        "id": "wKldWcC03rcd"
      },
      "source": [
        "---\n",
        "Operadores aritméticos\n",
        "---"
      ]
    },
    {
      "cell_type": "markdown",
      "metadata": {
        "id": "CQ9p0QbA3dVY"
      },
      "source": [
        "Aritmética básica: \n",
        "\n",
        "| Símbolo | Función |\n",
        "|----|---|\n",
        "| +  | suma |\n",
        "| -  | resta |\n",
        "| /  | división |\n",
        "| *  | multiplicación |\n",
        "| **  | potencia |\n",
        "| %  | devuelve el resto de una división |\n",
        "| += | sumar y asignar (ej. a=+3 es lo mismo que a=a+3) |"
      ]
    },
    {
      "cell_type": "code",
      "metadata": {
        "id": "0q7IcvwYfdP8",
        "colab": {
          "base_uri": "https://localhost:8080/",
          "height": 87
        },
        "outputId": "b7cf3a2a-dfb8-476e-fd94-80ebf350ab25"
      },
      "source": [
        "number = 1 + 2 * 3 // 4\n",
        "print(number)\n",
        "\n",
        "remainder = 11 % 3\n",
        "print(remainder)\n",
        "\n",
        "squared = 7 ** 2\n",
        "print(squared)\n",
        "\n",
        "cubed = 2 ** 3\n",
        "print(cubed)"
      ],
      "execution_count": null,
      "outputs": [
        {
          "output_type": "stream",
          "text": [
            "2\n",
            "2\n",
            "49\n",
            "8\n"
          ],
          "name": "stdout"
        }
      ]
    },
    {
      "cell_type": "markdown",
      "metadata": {
        "id": "FkPK0DFh33gs"
      },
      "source": [
        "---\n",
        "List operators\n",
        "---"
      ]
    },
    {
      "cell_type": "code",
      "metadata": {
        "id": "MjVcAhhv37an",
        "colab": {
          "base_uri": "https://localhost:8080/",
          "height": 70
        },
        "outputId": "8a9aba02-ab88-4864-e11b-7ddea486ee2b"
      },
      "source": [
        "even_numbers = [2, 4, 6, 8]\n",
        "uneven_numbers = [1, 3, 5, 7]\n",
        "all_numbers = uneven_numbers + even_numbers\n",
        "\n",
        "# Concatenar\n",
        "print(all_numbers)\n",
        "\n",
        "# Para ordenar \n",
        "all_numbers.sort()\n",
        "print(all_numbers)\n",
        "\n",
        "# También se puede armar una secuencia repetida\n",
        "print([1, 2 , 3] * 3)"
      ],
      "execution_count": null,
      "outputs": [
        {
          "output_type": "stream",
          "text": [
            "[1, 3, 5, 7, 2, 4, 6, 8]\n",
            "[1, 2, 3, 4, 5, 6, 7, 8]\n",
            "[1, 2, 3, 1, 2, 3, 1, 2, 3]\n"
          ],
          "name": "stdout"
        }
      ]
    },
    {
      "cell_type": "markdown",
      "metadata": {
        "id": "w3UX3scH3_cF"
      },
      "source": [
        "---\n",
        "Operadores de texto\n",
        "---\n"
      ]
    },
    {
      "cell_type": "code",
      "metadata": {
        "id": "7uqPoxQb4DWx",
        "colab": {
          "base_uri": "https://localhost:8080/",
          "height": 52
        },
        "outputId": "75248646-3483-41ba-c627-e78d354f370f"
      },
      "source": [
        "# Concatenación de strings\n",
        "helloworld = \"Hello,\" + \" \" + \"World!\"\n",
        "print(helloworld)\n",
        "\n",
        "# Repetir secuencia\n",
        "manyhellos = \"Hello \" * 10\n",
        "print(manyhellos)\n",
        "\n",
        "# No se puede hacer cualquier cosa...\n",
        "# nohellos = \"Hello \" / 10\n",
        "# print(nohellos)"
      ],
      "execution_count": null,
      "outputs": [
        {
          "output_type": "stream",
          "text": [
            "Hello,  World!\n",
            "Hello Hello Hello Hello Hello Hello Hello Hello Hello Hello \n"
          ],
          "name": "stdout"
        }
      ]
    },
    {
      "cell_type": "markdown",
      "metadata": {
        "id": "Z22cuaqj4LZK"
      },
      "source": [
        "* Obtenga el índice (ubicación) para la primera aparición de una letra específica con `string.index(\"l\")` donde `l` es la letra que está buscando\n",
        "* Como en las listas, cuente el número de apariciones de una letra específica con `string.count(\"l\")`\n",
        "* Obtenga segmentos de cadenas con `string[start:end]`, p. `string[3:7]`. Si no estás seguro del final de la *string*, podés usar números negativos para contar desde el final, p. `string [:-3]` para obtener un corte del primer carácter al tercero desde el final.\n",
        "* También podés \"saltar\" a través de una cadena con `string[start:stop:step]`, ej. `string[2:6:2]` que omitirá un carácter entre los caracteres 2 y 5 (es decir, 6 es el límite).\n",
        "* Podés usar un \"step\" negativo para invertir el orden de los caracteres, ej `string[::-1]`\n",
        "* Podés convertir cadenas a mayúsculas o minúsculas con `string.upper()` y `string.lower()`\n",
        "* Podés probar si una cadena comienza o termina con una subcadena con:\n",
        "`string.startswith(substring)` o `string.endswith(substring)` que devuelve `True` o `False`\n",
        "* Usá `in` para probar si una cadena contiene una subcadena, por lo que `substring in string` devolverá `True` o` False`\n",
        "* Podés dividir una cadena en una lista genuina con `.split(s)` donde `s` es el carácter específico que se utilizará para dividir, ej `s = \",\"` o `s = \" \"`. Esto podría ser útil para dividir texto que contiene datos numéricos."
      ]
    },
    {
      "cell_type": "code",
      "metadata": {
        "id": "363vuFzb4ZQQ",
        "colab": {
          "base_uri": "https://localhost:8080/",
          "height": 301
        },
        "outputId": "3c9d1d89-49cd-48e5-d6a7-4a47ecfcca28"
      },
      "source": [
        "a_string = \"Hello, World!\"\n",
        "# Cuenta los espacios también\n",
        "print(\"String length: {}\".format(len(a_string)))\n",
        "\n",
        "# Recordá que Python cuenta desde 0.\n",
        "\n",
        "# Observá que hay ' dentro de \"\".\n",
        "\n",
        "print(\"Index for first 'o': {}\".format(a_string.index(\"o\")))\n",
        "print(\"Count of 'o': {}\".format(a_string.count(\"o\")))\n",
        "print(\"Count of 'o' between character 4 and 8: {}\".format(a_string.count(\"o\",4,8)))\n",
        "print(\"Count of 'o' from character 3 on: {}\".format(a_string.count(\"o\",4)))\n",
        "print(\"Slicing between second and fifth characters: {}\".format(a_string[2:6]))\n",
        "print(\"Skipping between 3rd and 2nd-from-last characters: {}\".format(a_string[3:-2:2]))\n",
        "print(\"Reverse text: {}\".format(a_string[::-1]))\n",
        "print(\"Starts with 'Hello': {}\".format(a_string.startswith(\"Hello\")))\n",
        "print(\"Ends with 'Hello': {}\".format(a_string.endswith(\"Hello\")))\n",
        "print(\"Contains 'Goodbye': {}\".format(\"Goodbye\" in a_string))\n",
        "print(\"Split the string: {}\".format(a_string.split(\" \")))\n",
        "print(\"Does not split the string: {}\".format(', '.join(a_string.split(\", \")))) # son complementarios\n",
        "print(\"Does not split the string: {}\".format(a_string.strip(\", \"))) # solo si \", \" está al principio o al final\n",
        "print(\"Does not split the string: {}\".format(a_string.strip(\"H\"))) # solo si \", \" está al principio o al final\n",
        "print(\"{}\".format(a_string.upper().lower())) # son complementarios"
      ],
      "execution_count": null,
      "outputs": [
        {
          "output_type": "stream",
          "text": [
            "String length: 13\n",
            "Index for first 'o': 4\n",
            "Count of 'o': 2\n",
            "Count of 'o' between character 4 and 8: 1\n",
            "Count of 'o' from character 3 on: 2\n",
            "Slicing between second and fifth characters: llo,\n",
            "Skipping between 3rd and 2nd-from-last characters: l,Wr\n",
            "Reverse text: !dlroW ,olleH\n",
            "Starts with 'Hello': True\n",
            "Ends with 'Hello': False\n",
            "Contains 'Goodbye': False\n",
            "Split the string: ['Hello,', 'World!']\n",
            "Does not split the string: Hello, World!\n",
            "Does not split the string: Hello, World!\n",
            "Does not split the string: ello, World!\n",
            "hello, world!\n"
          ],
          "name": "stdout"
        }
      ]
    },
    {
      "cell_type": "markdown",
      "metadata": {
        "id": "0Q47mC2w4Y3J"
      },
      "source": [
        "---\n",
        "Condiciones\n",
        "---\n",
        "Operadores `booleanos`:\n",
        "* equal: `==`\n",
        "* not equal: `!=`\n",
        "* greater-than: `>`\n",
        "* less-than: `<`\n",
        "\n",
        "A esa lista de operadores booleanos se añade un nuevo conjunto de comparaciones: `and`, `or` and `in`.\n",
        "\n",
        "`if`, `else`, `elif` son ejemplos de *control structures*, las cuales determinan qué comandos se ejecutan y en qué orden, permitiendo que algunos se salteen y otros que se repitan."
      ]
    },
    {
      "cell_type": "code",
      "metadata": {
        "id": "dz04zlCL5nJQ",
        "colab": {
          "base_uri": "https://localhost:8080/",
          "height": 123
        },
        "outputId": "15035f09-70fe-4463-fec2-22aeb468a0ab"
      },
      "source": [
        "# Simple boolean tests\n",
        "x = 2\n",
        "print(x == 2)\n",
        "print(x == 3)\n",
        "print(x < 3)\n",
        "\n",
        "# Using `and`\n",
        "name = \"John\"\n",
        "print(name == \"John\" and x == 2)\n",
        "\n",
        "# Using `or`\n",
        "print(name == \"John\" or name == \"Jill\")\n",
        "\n",
        "# Using `in` on lists\n",
        "print(name in [\"John\", \"Jill\", \"Jess\"])"
      ],
      "execution_count": null,
      "outputs": [
        {
          "output_type": "stream",
          "text": [
            "True\n",
            "False\n",
            "True\n",
            "True\n",
            "True\n",
            "True\n"
          ],
          "name": "stdout"
        }
      ]
    },
    {
      "cell_type": "markdown",
      "metadata": {
        "id": "QFO4BJZX54tz"
      },
      "source": [
        "Podés usar `if`, `elif` y otros.\n",
        "\n",
        "Recordá que el código debe estar correctamente indentado o tendrá un comportamiento inesperado."
      ]
    },
    {
      "cell_type": "code",
      "metadata": {
        "id": "4h1jtM5k5tIl",
        "colab": {
          "base_uri": "https://localhost:8080/",
          "height": 34
        },
        "outputId": "80a0a189-1ee4-4dfc-aa6d-8f190a60d5b2"
      },
      "source": [
        "x = 2\n",
        "y = 10\n",
        "if x > 2:\n",
        "    print(\"x > 2\")\n",
        "elif x < 10 or y > 50:\n",
        "    print(\"x < 10 or y > 50\")\n",
        "elif x == 2 and y > 0:\n",
        "    print(\"x == 2 and y > 50\")\n",
        "else:\n",
        "    print(\"Nothing worked.\")"
      ],
      "execution_count": null,
      "outputs": [
        {
          "output_type": "stream",
          "text": [
            "x < 10 or y > 50\n"
          ],
          "name": "stdout"
        }
      ]
    },
    {
      "cell_type": "code",
      "metadata": {
        "id": "LNHzdH9jhWo1",
        "colab": {
          "base_uri": "https://localhost:8080/",
          "height": 34
        },
        "outputId": "10b098bd-c0d0-41dd-b10c-d26eaf8ef26b"
      },
      "source": [
        "# Se puede escribir separando con ;\n",
        "x = 2\n",
        "y = 10\n",
        "if x < 10 or y > 50: print(\"x < 10 or y > 50\")"
      ],
      "execution_count": null,
      "outputs": [
        {
          "output_type": "stream",
          "text": [
            "x < 10 or y > 50\n"
          ],
          "name": "stdout"
        }
      ]
    },
    {
      "cell_type": "markdown",
      "metadata": {
        "id": "n9c4D31C6vGd"
      },
      "source": [
        "* `not` se usa para obtener lo contrario de una prueba booleana particular: `not(False)` devuelve `True`\n",
        "* `is` parecería, superficialmente, similar a` ==`, pero **comprueba si los objetos reales son los mismos, no si los valores que reflejan los objetos son iguales.**"
      ]
    },
    {
      "cell_type": "code",
      "metadata": {
        "id": "-0CdZjHj5uqF",
        "colab": {
          "base_uri": "https://localhost:8080/",
          "height": 87
        },
        "outputId": "7e62dd96-907f-4644-8104-990be3f519d2"
      },
      "source": [
        "# Using `not`\n",
        "name_list1 = [\"John\", \"Jill\"]\n",
        "name_list2 = [\"John\", \"Jill\"]\n",
        "print(not(name_list1 == name_list2))\n",
        "\n",
        "# Using `is`\n",
        "print(name_list1 == name_list2)\n",
        "\n",
        "print(name_list1 is name_list2)\n",
        "\n",
        "print(name_list1 is name_list1)"
      ],
      "execution_count": null,
      "outputs": [
        {
          "output_type": "stream",
          "text": [
            "False\n",
            "True\n",
            "False\n",
            "True\n"
          ],
          "name": "stdout"
        }
      ]
    },
    {
      "cell_type": "markdown",
      "metadata": {
        "id": "e_yw99OKDdcm"
      },
      "source": [
        "---\n",
        "Truthy & Falsy\n",
        "---\n",
        "\n",
        "**Falsy Values**\n",
        "* Empty lists []\n",
        "* Empty tuples ()\n",
        "* Empty dictionaries {}\n",
        "* Empty sets set()\n",
        "* Empty strings \" \"\n",
        "* Empty ranges range(0)\n",
        "* Integer: 0\n",
        "* Float: 0.0\n",
        "* `None`\n",
        "* `False`\n"
      ]
    },
    {
      "cell_type": "markdown",
      "metadata": {
        "id": "c1bO1af7EWm_"
      },
      "source": [
        "Podemos hacer la condición mucho más concisa usando `trusty`. Si la lista está vacía, los datos se evaluarán como `False`. Si no está vacía, se evaluará a `True`. Obtenemos la misma funcionalidad con un código más conciso."
      ]
    },
    {
      "cell_type": "code",
      "metadata": {
        "id": "M83_RI56H29c",
        "colab": {
          "base_uri": "https://localhost:8080/",
          "height": 52
        },
        "outputId": "c3ecc4ba-2665-4189-9266-4c0cf5da90c3"
      },
      "source": [
        "my_list=[1,2]\n",
        "\n",
        "if len(my_list) != 0:\n",
        "   print(\"Not empty!\")\n",
        "\n",
        "# Más conciso\n",
        "if my_list:\n",
        "   print(\"Not empty!\")"
      ],
      "execution_count": null,
      "outputs": [
        {
          "output_type": "stream",
          "text": [
            "Not empty!\n",
            "Not empty!\n"
          ],
          "name": "stdout"
        }
      ]
    },
    {
      "cell_type": "code",
      "metadata": {
        "id": "2rRrivpBIcdu",
        "colab": {
          "base_uri": "https://localhost:8080/",
          "height": 34
        },
        "outputId": "4a391aae-ad18-4c73-86bd-ce0849d1be4a"
      },
      "source": [
        "# Otro ejemplo\n",
        "a = 5\n",
        "if a:\n",
        "\tprint(a)\n",
        " \n",
        "a = 0\n",
        "if a:\n",
        "\tprint(a)"
      ],
      "execution_count": null,
      "outputs": [
        {
          "output_type": "stream",
          "text": [
            "5\n"
          ],
          "name": "stdout"
        }
      ]
    },
    {
      "cell_type": "markdown",
      "metadata": {
        "id": "MIhBkeKg7IB7"
      },
      "source": [
        "# Loops"
      ]
    },
    {
      "cell_type": "markdown",
      "metadata": {
        "id": "k_a96gua7iPi"
      },
      "source": [
        "* Para *loops*, `for`, recorre una lista. \n",
        "\n",
        "**Otros tipos de loops:**\n",
        "* `enumerate` en *lists* que te permite contar el número de \"vuelta\"\n",
        "* *Range* crea una lista de números enteros para recorrer, `range(start, stop)` crea una lista de enteros entre start y stop, o `range(num)` crea una lista de cero hasta num, o `range (start, stop, step)` recorre una lista en incrementos de a \"step\".\n",
        "\n",
        "* `while`, se ejecuta mientras una condición particular es` True`. \n",
        "\n",
        "* `while` es una declaración condicional (requiere una prueba para devolver `True`), eso significa que podemos usar `else` en un `while` (pero no `for`)"
      ]
    },
    {
      "cell_type": "code",
      "metadata": {
        "id": "8hguxilz9rT-",
        "colab": {
          "base_uri": "https://localhost:8080/",
          "height": 70
        },
        "outputId": "5569ef91-5d2a-4172-8acb-5e7642e6dd80"
      },
      "source": [
        "# For\n",
        "for i, x in enumerate(range(2, 8, 2)):\n",
        "    print(\"{}. Range {}\".format(i+1, x))"
      ],
      "execution_count": null,
      "outputs": [
        {
          "output_type": "stream",
          "text": [
            "1. Range 2\n",
            "2. Range 4\n",
            "3. Range 6\n"
          ],
          "name": "stdout"
        }
      ]
    },
    {
      "cell_type": "code",
      "metadata": {
        "id": "fgWCJdQVMOtq",
        "colab": {
          "base_uri": "https://localhost:8080/",
          "height": 123
        },
        "outputId": "8a59f551-f21a-4173-f0db-239c7f9ac4af"
      },
      "source": [
        "# While \n",
        "count = 0\n",
        "while count < 5:\n",
        "    print(count)\n",
        "    count += 1 # Recordar que ya vimos esto\n",
        "else:\n",
        "    print(\"End of while loop reached\")\n",
        "\n",
        "# Ojo con las sangrías"
      ],
      "execution_count": null,
      "outputs": [
        {
          "output_type": "stream",
          "text": [
            "0\n",
            "1\n",
            "2\n",
            "3\n",
            "4\n",
            "End of while loop reached\n"
          ],
          "name": "stdout"
        }
      ]
    },
    {
      "cell_type": "markdown",
      "metadata": {
        "id": "SJXGcDqc91ES"
      },
      "source": [
        "* `break` finaliza un ` while` o `for` inmediatamente\n",
        "* `continue` omite el loop actual y vuelve al loop condicional\n",
        "* `pass` significa que no hay nada que mostrar\n"
      ]
    },
    {
      "cell_type": "code",
      "metadata": {
        "id": "MuF_xBm8-BhV",
        "colab": {
          "base_uri": "https://localhost:8080/",
          "height": 372
        },
        "outputId": "f479dfce-fb40-4a68-b8bd-10370762e987"
      },
      "source": [
        "# Break and while conditional\n",
        "print(\"Break and while conditional\")\n",
        "count = 0\n",
        "while True:\n",
        "    # Esto correría para siempre a menos que pongamos el break\n",
        "    print(count)\n",
        "    count += 1\n",
        "    if count >= 5:\n",
        "        break\n",
        "\n",
        "# Continue\n",
        "print(\"Continue\")\n",
        "for x in range(8):\n",
        "    # Check si x es par\n",
        "    if (x+1) % 2 == 0:\n",
        "        continue\n",
        "    print(x)\n",
        "\n",
        "# Pass\n",
        "print(\"Pass\")\n",
        "for x in range(8):\n",
        "    # Check si x es par\n",
        "    if (x+1) % 2 == 0:\n",
        "        pass\n",
        "    print(x)"
      ],
      "execution_count": null,
      "outputs": [
        {
          "output_type": "stream",
          "text": [
            "Break and while conditional\n",
            "0\n",
            "1\n",
            "2\n",
            "3\n",
            "4\n",
            "Continue\n",
            "0\n",
            "2\n",
            "4\n",
            "6\n",
            "Pass\n",
            "0\n",
            "1\n",
            "2\n",
            "3\n",
            "4\n",
            "5\n",
            "6\n",
            "7\n"
          ],
          "name": "stdout"
        }
      ]
    },
    {
      "cell_type": "markdown",
      "metadata": {
        "id": "tQlTAlK47LEO"
      },
      "source": [
        "# List comprehensions"
      ]
    },
    {
      "cell_type": "markdown",
      "metadata": {
        "id": "Fz6Hw8qi-KnZ"
      },
      "source": [
        "Una de las tareas comunes en la codificación es revisar una lista de elementos, editar o aplicar algún tipo de algoritmo y devolver una nueva lista.\n",
        "\n",
        "Escribir largos tramos de código para lograr esto es tedioso y lleva mucho tiempo. La comprensión de la lista es una manera eficiente y concisa de lograr exactamente eso.\n",
        "\n",
        "Como ejemplo, imaginemos que tenemos una frase en la que queremos contar la longitud de cada palabra, pero nos saltamos todas las \"las\":"
      ]
    },
    {
      "cell_type": "code",
      "metadata": {
        "id": "wn04k7Ai-Mdk",
        "colab": {
          "base_uri": "https://localhost:8080/",
          "height": 72
        },
        "outputId": "865bc12f-f13a-4ebf-f5c9-48fe278e8f5b"
      },
      "source": [
        "sentence = \"for the song and the sword are birthrights sold to an usurer, but I am the last lone highwayman and I am the last adventurer\"\n",
        "words = sentence.split()\n",
        "print(words)\n",
        "word_lengths = []\n",
        "for word in words:\n",
        "      if word != \"the\":\n",
        "          word_lengths.append(len(word))\n",
        "print(word_lengths)"
      ],
      "execution_count": null,
      "outputs": [
        {
          "output_type": "stream",
          "text": [
            "['for', 'the', 'song', 'and', 'the', 'sword', 'are', 'birthrights', 'sold', 'to', 'an', 'usurer,', 'but', 'I', 'am', 'the', 'last', 'lone', 'highwayman', 'and', 'I', 'am', 'the', 'last', 'adventurer']\n",
            "[3, 4, 3, 5, 3, 11, 4, 2, 2, 7, 3, 1, 2, 4, 4, 10, 3, 1, 2, 4, 10]\n"
          ],
          "name": "stdout"
        }
      ]
    },
    {
      "cell_type": "code",
      "metadata": {
        "id": "s-HCgw1bOiQZ"
      },
      "source": [
        "# Usando una list comprehension\n",
        "sentence = \"for the song and the sword are birthrights sold to an usurer, but I am the last lone highwayman and I am the last adventurer\"\n",
        "word_lengths = [len(word) for word in sentence.split(\" \") if word != \"the\"]\n",
        "print(word_lengths)"
      ],
      "execution_count": null,
      "outputs": []
    }
  ]
}